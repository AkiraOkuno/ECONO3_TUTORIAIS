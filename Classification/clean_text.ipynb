{
 "cells": [
  {
   "cell_type": "markdown",
   "metadata": {},
   "source": [
    "## Preprocessing of News Text"
   ]
  },
  {
   "cell_type": "code",
   "execution_count": 14,
   "metadata": {},
   "outputs": [],
   "source": [
    "import numpy as np\n",
    "import pandas as pd\n",
    "import os\n",
    "import re"
   ]
  },
  {
   "cell_type": "code",
   "execution_count": 2,
   "metadata": {},
   "outputs": [],
   "source": [
    "os.chdir(r'C:\\Users\\C336682\\Documents\\fake\\IC_FakeNews-master\\data\\new\\\\')"
   ]
  },
  {
   "cell_type": "markdown",
   "metadata": {},
   "source": [
    "### ElPais"
   ]
  },
  {
   "cell_type": "code",
   "execution_count": 279,
   "metadata": {},
   "outputs": [],
   "source": [
    "elpais = pd.read_csv(r'ElPais03.csv')\n",
    "boatos = pd.read_excel(r'boatos.xlsx', header=None)\n",
    "newsatual = pd.read_excel(r'newsatual.xlsx')"
   ]
  },
  {
   "cell_type": "code",
   "execution_count": 4,
   "metadata": {},
   "outputs": [],
   "source": [
    "elpais = elpais.drop(columns=['Unnamed: 0'])\n",
    "elpais['Class'] = 1\n",
    "elpais.columns = ['title','URL','Class']"
   ]
  },
  {
   "cell_type": "code",
   "execution_count": 6,
   "metadata": {},
   "outputs": [
    {
     "data": {
      "text/html": [
       "<div>\n",
       "<style scoped>\n",
       "    .dataframe tbody tr th:only-of-type {\n",
       "        vertical-align: middle;\n",
       "    }\n",
       "\n",
       "    .dataframe tbody tr th {\n",
       "        vertical-align: top;\n",
       "    }\n",
       "\n",
       "    .dataframe thead th {\n",
       "        text-align: right;\n",
       "    }\n",
       "</style>\n",
       "<table border=\"1\" class=\"dataframe\">\n",
       "  <thead>\n",
       "    <tr style=\"text-align: right;\">\n",
       "      <th></th>\n",
       "      <th>title</th>\n",
       "      <th>URL</th>\n",
       "      <th>Class</th>\n",
       "    </tr>\n",
       "  </thead>\n",
       "  <tbody>\n",
       "    <tr>\n",
       "      <th>0</th>\n",
       "      <td>Indústria brasileira reage com melhora do comé...</td>\n",
       "      <td>https://brasil.elpais.com/brasil/2013/12/03/ec...</td>\n",
       "      <td>1</td>\n",
       "    </tr>\n",
       "    <tr>\n",
       "      <th>1</th>\n",
       "      <td>A bancarrota de Detroit deixa no ar as pensões...</td>\n",
       "      <td>https://brasil.elpais.com/brasil/2013/12/03/ec...</td>\n",
       "      <td>1</td>\n",
       "    </tr>\n",
       "    <tr>\n",
       "      <th>2</th>\n",
       "      <td>PIB no Brasil cai 0,5% na leitura trimestral, ...</td>\n",
       "      <td>https://brasil.elpais.com/brasil/2013/12/03/ec...</td>\n",
       "      <td>1</td>\n",
       "    </tr>\n",
       "    <tr>\n",
       "      <th>3</th>\n",
       "      <td>O órgão supervisor europeu questiona o trabalh...</td>\n",
       "      <td>https://brasil.elpais.com/brasil/2013/12/02/ec...</td>\n",
       "      <td>1</td>\n",
       "    </tr>\n",
       "    <tr>\n",
       "      <th>4</th>\n",
       "      <td>Vega Sicilia, a ilusão da escassez</td>\n",
       "      <td>https://brasil.elpais.com/brasil/2013/11/29/ec...</td>\n",
       "      <td>1</td>\n",
       "    </tr>\n",
       "  </tbody>\n",
       "</table>\n",
       "</div>"
      ],
      "text/plain": [
       "                                               title  \\\n",
       "0  Indústria brasileira reage com melhora do comé...   \n",
       "1  A bancarrota de Detroit deixa no ar as pensões...   \n",
       "2  PIB no Brasil cai 0,5% na leitura trimestral, ...   \n",
       "3  O órgão supervisor europeu questiona o trabalh...   \n",
       "4                Vega Sicilia, a ilusão da escassez    \n",
       "\n",
       "                                                 URL  Class  \n",
       "0  https://brasil.elpais.com/brasil/2013/12/03/ec...      1  \n",
       "1  https://brasil.elpais.com/brasil/2013/12/03/ec...      1  \n",
       "2  https://brasil.elpais.com/brasil/2013/12/03/ec...      1  \n",
       "3  https://brasil.elpais.com/brasil/2013/12/02/ec...      1  \n",
       "4  https://brasil.elpais.com/brasil/2013/11/29/ec...      1  "
      ]
     },
     "execution_count": 6,
     "metadata": {},
     "output_type": "execute_result"
    }
   ],
   "source": [
    "elpais.head()"
   ]
  },
  {
   "cell_type": "code",
   "execution_count": 8,
   "metadata": {},
   "outputs": [
    {
     "name": "stdout",
     "output_type": "stream",
     "text": [
      "Indústria brasileira reage com melhora do comércio internacional \n",
      "A bancarrota de Detroit deixa no ar as pensões públicas \n",
      "PIB no Brasil cai 0,5% na leitura trimestral, mas sobe 2,4% no acumulado do ano \n",
      "O órgão supervisor europeu questiona o trabalho das agências de ‘rating’ \n",
      "Vega Sicilia, a ilusão da escassez \n",
      "Reajuste dos combustíveis traz alívio à Petrobras \n",
      "Petrobras salva o primeiro leilão de gás terrestre no Brasil \n",
      "Bolha imobiliária à brasileira mistura preço alto e crédito limitado \n",
      "O Banco Central do Brasil sobe a taxa de juros para dois dígitos \n",
      "Primeiro os gols, depois o xilindró \n"
     ]
    }
   ],
   "source": [
    "for j in range(10):\n",
    "    print(elpais.iloc[j,0])"
   ]
  },
  {
   "cell_type": "markdown",
   "metadata": {},
   "source": [
    "### Boatos.org"
   ]
  },
  {
   "cell_type": "code",
   "execution_count": 280,
   "metadata": {},
   "outputs": [],
   "source": [
    "boatos.columns = ['title','type','URL']\n",
    "boatos = boatos.drop(columns=['type'])\n",
    "boatos['Class'] = 0"
   ]
  },
  {
   "cell_type": "code",
   "execution_count": 281,
   "metadata": {},
   "outputs": [
    {
     "data": {
      "text/html": [
       "<div>\n",
       "<style scoped>\n",
       "    .dataframe tbody tr th:only-of-type {\n",
       "        vertical-align: middle;\n",
       "    }\n",
       "\n",
       "    .dataframe tbody tr th {\n",
       "        vertical-align: top;\n",
       "    }\n",
       "\n",
       "    .dataframe thead th {\n",
       "        text-align: right;\n",
       "    }\n",
       "</style>\n",
       "<table border=\"1\" class=\"dataframe\">\n",
       "  <thead>\n",
       "    <tr style=\"text-align: right;\">\n",
       "      <th></th>\n",
       "      <th>title</th>\n",
       "      <th>URL</th>\n",
       "      <th>Class</th>\n",
       "    </tr>\n",
       "  </thead>\n",
       "  <tbody>\n",
       "    <tr>\n",
       "      <th>0</th>\n",
       "      <td>Peixe com braço humano foi encontrado em Arapi...</td>\n",
       "      <td>www.boatos.org/brasil/peixe-braco-humano-arapi...</td>\n",
       "      <td>0</td>\n",
       "    </tr>\n",
       "    <tr>\n",
       "      <th>1</th>\n",
       "      <td>Globo News se arrependeu de convidar general H...</td>\n",
       "      <td>www.boatos.org/brasil/globo-news-arrependeu-ge...</td>\n",
       "      <td>0</td>\n",
       "    </tr>\n",
       "    <tr>\n",
       "      <th>2</th>\n",
       "      <td>Pabllo Vittar cai tombo durante show e “paga m...</td>\n",
       "      <td>www.boatos.org/entretenimento/pabllo-vittar-to...</td>\n",
       "      <td>0</td>\n",
       "    </tr>\n",
       "    <tr>\n",
       "      <th>3</th>\n",
       "      <td>Crivella diz que Rio foi castigado com dilúvio...</td>\n",
       "      <td>www.boatos.org/politica/crivella-rio-castigado...</td>\n",
       "      <td>0</td>\n",
       "    </tr>\n",
       "    <tr>\n",
       "      <th>4</th>\n",
       "      <td>Museu do Holocausto tem placa com sinais do fa...</td>\n",
       "      <td>www.boatos.org/mundo/museu-holocausto-placa-fa...</td>\n",
       "      <td>0</td>\n",
       "    </tr>\n",
       "  </tbody>\n",
       "</table>\n",
       "</div>"
      ],
      "text/plain": [
       "                                               title  \\\n",
       "0  Peixe com braço humano foi encontrado em Arapi...   \n",
       "1  Globo News se arrependeu de convidar general H...   \n",
       "2  Pabllo Vittar cai tombo durante show e “paga m...   \n",
       "3  Crivella diz que Rio foi castigado com dilúvio...   \n",
       "4  Museu do Holocausto tem placa com sinais do fa...   \n",
       "\n",
       "                                                 URL  Class  \n",
       "0  www.boatos.org/brasil/peixe-braco-humano-arapi...      0  \n",
       "1  www.boatos.org/brasil/globo-news-arrependeu-ge...      0  \n",
       "2  www.boatos.org/entretenimento/pabllo-vittar-to...      0  \n",
       "3  www.boatos.org/politica/crivella-rio-castigado...      0  \n",
       "4  www.boatos.org/mundo/museu-holocausto-placa-fa...      0  "
      ]
     },
     "execution_count": 281,
     "metadata": {},
     "output_type": "execute_result"
    }
   ],
   "source": [
    "boatos.head()"
   ]
  },
  {
   "cell_type": "code",
   "execution_count": 13,
   "metadata": {},
   "outputs": [
    {
     "name": "stdout",
     "output_type": "stream",
     "text": [
      "Mariana Jucá, filha de Romero é dona da mineradora que vai explorar a Renca #boato\n",
      "Cobra gigante de 400 kg e 10 metros em Belo Monte #boato\n",
      "Bloqueio do WhastApp é culpa do Marco Civil da internet, diz boato\n",
      "Luciano Huck doou R$2 mi para Santa Casa, diz história falsa\n",
      "Cantor Thiaguinho morre em acidente de carro, diz notícia falsa\n",
      "Milionária de 83 anos se casou com cuidador de idosos de 24 anos em Goiás #boato\n",
      "Papinhas de banana da Nestlé que vencem em 2017 têm vidro #boato\n",
      "Alerta falso: não atenda ligações do (84) 9131-6949, ele clona seu celular\n",
      "Promoção Copa do Mundo Premiada Cielo traz vírus no Facebook\n",
      "Brasileiro que vendia pão de queijo nos EUA é denunciado por brasileiros #boato\n"
     ]
    }
   ],
   "source": [
    "for j in boatos.title.sample(10):\n",
    "    print(j)"
   ]
  },
  {
   "cell_type": "code",
   "execution_count": 70,
   "metadata": {},
   "outputs": [],
   "source": [
    "false = pd.DataFrame([text for text in boatos.title if ':' in text])"
   ]
  },
  {
   "cell_type": "code",
   "execution_count": 66,
   "metadata": {},
   "outputs": [
    {
     "data": {
      "text/plain": [
       "273    Link com vírus: Cenas horripilantes durante qu...\n",
       "13     Nasa confirma Bíblia: Terra terá 6 dias de esc...\n",
       "198    Alerta falso: cera na casca da maçã da Turma d...\n",
       "380    Balela: amante de Dilma entra na Justiça e cob...\n",
       "487    Vírus em rede social: Facefollow – Ganhe segui...\n",
       "220    Texto falso do golpe militar: Dilma não é mais...\n",
       "467    Boato: governo brasileiro obriga médica cubana...\n",
       "411    Pegadinha: juiz proíbe estagiários de comerem ...\n",
       "174    Foto falsa: Neymar declara apoio à Dilma e pos...\n",
       "49     Mentira: Mc Melody briga com a atriz e cantora...\n",
       "Name: 0, dtype: object"
      ]
     },
     "execution_count": 66,
     "metadata": {},
     "output_type": "execute_result"
    }
   ],
   "source": [
    "false.sample(10).iloc[:,0]"
   ]
  },
  {
   "cell_type": "code",
   "execution_count": 67,
   "metadata": {},
   "outputs": [
    {
     "name": "stdout",
     "output_type": "stream",
     "text": [
      "Joaquim Barbosa presidente: boato o aponta como candidato em 2014\n",
      "Joaquim Barboato o aponta como candidato em 2014\n",
      "\n",
      "\n",
      "Lorota: pílula de gliter cria cocô colorido\n",
      "pílula de gliter cria cocô colorido\n",
      "\n",
      "\n",
      "Vírus: logotipo da Copa do Mundo tem mensagem subliminar\n",
      "logotipo da Copa do Mundo tem mensagem subliminar\n",
      "\n",
      "\n",
      "Balela: vaiar na Copa pode dar de 20 a 50 anos de cadeia, diz projeto\n",
      "vaiar na Copa pode dar de 20 a 50 anos de cadeia, diz projeto\n",
      "\n",
      "\n",
      "Mentira: Xuxa diz que é perda de tempo ficar criticando o governo\n",
      "Xuxa diz que é perda de tempo ficar criticando o governo\n",
      "\n",
      "\n",
      "Morar em Roraima: texto diz que estado é dominado por americanos #boato\n",
      "Mtexto diz que estado é dominado por americanos #boato\n",
      "\n",
      "\n",
      "Informação errada: deputado quer acabar com ensino de Inglês nas escolas\n",
      "Indeputado quer acabar com ensino de Inglês nas escolas\n",
      "\n",
      "\n",
      "Notícia falsa: Líbia desiste de sediar Copa do Mundo de 2026\n",
      "Líbia desiste de sediar Copa do Mundo de 2026\n",
      "\n",
      "\n",
      "Notícia falsa: overdose de maconha matou 37 pessoas no Colorado\n",
      "overdose de maconha matou 37 pessoas no Colorado\n",
      "\n",
      "\n",
      "Mentira: deputada Maria do Rosário quer proibir uso de defesa pessoal\n",
      "deputada Maria do Rosário quer proibir uso de defesa pessoal\n",
      "\n",
      "\n"
     ]
    }
   ],
   "source": [
    "regex = re.compile(r'(\\w|\\W){1,15}\\:(\\s){,1}')\n",
    "\n",
    "for j in false.sample(10).iloc[:,0]:\n",
    "    print(str(j))\n",
    "    print(str(regex.sub(\"\",str(j))))\n",
    "    print('\\n')"
   ]
  },
  {
   "cell_type": "code",
   "execution_count": 282,
   "metadata": {},
   "outputs": [],
   "source": [
    "boatos['title'].replace(to_replace=r'(\\w|\\W){1,15}\\:', value=r\"\\1\", regex=True, inplace=True)"
   ]
  },
  {
   "cell_type": "code",
   "execution_count": 123,
   "metadata": {},
   "outputs": [
    {
     "data": {
      "text/plain": [
       "968     Meteoro vai se chocar contra a Terra em 2019 #...\n",
       "2113       aartista faz Coliseu Romano dentro de um dente\n",
       "54      Compartilhe vídeo de pai agredindo crianças pa...\n",
       "1726           aCPF na nota é golpe do governo. Diga não!\n",
       "2400    aDilma contrata 300 mil policiais cubanos para...\n",
       "553     Mulher que pisou em cão é espancada na prisão ...\n",
       "2304          Iasoja está criando geração de meninos gays\n",
       "577     Começou o videomonitoramento de trânsito em to...\n",
       "1214    Campanha pede fraldas para bebês transexuais #...\n",
       "2421    Pirâmides mais antigas do mundo ficam na Crime...\n",
       "Name: title, dtype: object"
      ]
     },
     "execution_count": 123,
     "metadata": {},
     "output_type": "execute_result"
    }
   ],
   "source": [
    "boatos['title'].sample(10)"
   ]
  },
  {
   "cell_type": "code",
   "execution_count": 140,
   "metadata": {},
   "outputs": [
    {
     "data": {
      "text/plain": [
       "'o TEMER vai'"
      ]
     },
     "execution_count": 140,
     "metadata": {},
     "output_type": "execute_result"
    }
   ],
   "source": [
    "regex = re.compile(r'[a-z]{1}[A-Z]{1}')\n",
    "text = 'oTEMER vai'\n",
    "regex.sub(regex.search(text)[0][0]+' '+regex.search(text)[0][1], text)"
   ]
  },
  {
   "cell_type": "code",
   "execution_count": 254,
   "metadata": {},
   "outputs": [
    {
     "name": "stdout",
     "output_type": "stream",
     "text": [
      "Tiririca pede que seus eleitores apoiem Jair Bolsonaro #boato\n",
      "Tiririca pede que seus eleitores apoiem Jair Bolsonaro #boato\n",
      "\n",
      "\n",
      "aNike favorece Dilma e PT em personalização de camisas\n",
      "Nike favorece Dilma e PT em personalização de camisas\n",
      "\n",
      "\n",
      "oapresentador quebra computador em programa de esporte\n",
      "oapresentador quebra computador em programa de esporte\n",
      "\n",
      "\n",
      "Fim do mundo será em 23 de setembro de 2017 #boato\n",
      "Fim do mundo será em 23 de setembro de 2017 #boato\n",
      "\n",
      "\n",
      "Vídeo Carnaval de Pipoca é um vírus que hackeia celular #boato\n",
      "Vídeo Carnaval de Pipoca é um vírus que hackeia celular #boato\n",
      "\n",
      "\n",
      "Globo é a primeira da lista de maiores devedores do BNDES #boato\n",
      "Globo é a primeira da lista de maiores devedores do BNDES #boato\n",
      "\n",
      "\n",
      "Doação de filhotes de Dálmatas; já faleceram quatro #boato\n",
      "Doação de filhotes de Dálmatas; já faleceram quatro #boato\n",
      "\n",
      "\n",
      "Pirâmides mais antigas do mundo ficam na Crimeia, Ucrânia #boato\n",
      "Pirâmides mais antigas do mundo ficam na Crimeia, Ucrânia #boato\n",
      "\n",
      "\n",
      "Enfermeira do HC diz que todos têm que tomar vacina da febre amarela na cidade de São Paulo #boato\n",
      "Enfermeira do HC diz que todos têm que tomar vacina da febre amarela na cidade de São Paulo #boato\n",
      "\n",
      "\n",
      "7 histórias falsas de “milagres” que aparecem na internet\n",
      "7 histórias falsas de “milagres” que aparecem na internet\n",
      "\n",
      "\n"
     ]
    }
   ],
   "source": [
    "regex = re.compile(r'^a|^x')\n",
    "\n",
    "for j in boatos['title'].sample(10):\n",
    "    print(str(j))\n",
    "    print(str(regex.sub(\"\", j)))\n",
    "    print('\\n')"
   ]
  },
  {
   "cell_type": "code",
   "execution_count": 334,
   "metadata": {},
   "outputs": [],
   "source": [
    "xablau=boatos['title'].replace(to_replace=r'(^a|^x|^u|^f|^s|^e|^o|^n)(\\s){,1}', regex=True, value=\"\")#, inplace=True)"
   ]
  },
  {
   "cell_type": "code",
   "execution_count": 377,
   "metadata": {},
   "outputs": [
    {
     "name": "stdout",
     "output_type": "stream",
     "text": [
      "Ganhe créditos no seu celular com novo método grátis em site #boato\n",
      "ser muçulmano ou refugiado não significa ser terrorista\n",
      "Facebook vai ser bloqueado a partir da meia-noite de hoje #boato\n",
      "Latino vai criar versão de Faroeste Caboclo melhor que original\n",
      "Macacos estão transmitindo vírus mortal; doença é pandemia #boato\n",
      "Impeaa informação falsa fala de saída da presidente\n",
      "7 boatos sobre Silvio Santos que já enganaram fãs do homem do baú na web\n",
      "água de quiabo não cura diabetes\n",
      "35 dos 38 deputados a favor do impeachment são investigados por corrupção #boato\n",
      "Divaldo Franco pede atenção ao povo brasileiro em mensagem urgente #boato\n"
     ]
    }
   ],
   "source": [
    "for j in xablau.sample(10):\n",
    "    print(str(j))"
   ]
  },
  {
   "cell_type": "code",
   "execution_count": 378,
   "metadata": {},
   "outputs": [],
   "source": [
    "boatos['title'].replace(to_replace=r'(^a|^x|^u|^f|^s|^e|^o|^n)(\\s){,1}', regex=True, value=\"\", inplace=True)"
   ]
  },
  {
   "cell_type": "code",
   "execution_count": 387,
   "metadata": {},
   "outputs": [
    {
     "data": {
      "text/plain": [
       "2680    Boato aponta que Lula tem fortuna de 2 bilhões...\n",
       "2061    massagista americana gasta R$ 47 mil para ter ...\n",
       "1722         7 boatos que circulam sobre Lula na internet\n",
       "1044    Imagem de Virgem Maria é encontrada no Oceano ...\n",
       "820     Roberto Carlos morre aos 72 anos no Rio de jan...\n",
       "301     Sargento da Polícia Militar tem prisão decreta...\n",
       "2293              leia na íntegra o decreto Nº 8.228/2014\n",
       "2298    vaiar na Copa pode dar de 20 a 50 anos de cade...\n",
       "2104    pastor Everaldo solta pum durante entrevista n...\n",
       "914     Foto da criança mais negra do mundo circula na...\n",
       "Name: title, dtype: object"
      ]
     },
     "execution_count": 387,
     "metadata": {},
     "output_type": "execute_result"
    }
   ],
   "source": [
    "boatos['title'].sample(10)"
   ]
  },
  {
   "cell_type": "code",
   "execution_count": 388,
   "metadata": {},
   "outputs": [],
   "source": [
    "xablau=boatos['title'].replace(to_replace=r'^(\\s){1,}', regex=True, value=\"\")#, inplace=True)"
   ]
  },
  {
   "cell_type": "code",
   "execution_count": 430,
   "metadata": {},
   "outputs": [],
   "source": [
    "boatos['title'].replace(to_replace=r'^(\\s){1,}', regex=True, value=\"\", inplace=True)"
   ]
  },
  {
   "cell_type": "code",
   "execution_count": 482,
   "metadata": {},
   "outputs": [],
   "source": [
    "hoax_pattern = re.compile(r', diz boato|^(H|h)oax (fala de|(diz|aponta) que|sobre|–)(\\s){,1}|, (diz|afirma) hoax$')"
   ]
  },
  {
   "cell_type": "code",
   "execution_count": 483,
   "metadata": {},
   "outputs": [
    {
     "name": "stdout",
     "output_type": "stream",
     "text": [
      "Torre Eiffel fica verde e amarela por tragédia em Mariana (MG), diz hoax\n",
      "Torre Eiffel fica verde e amarela por tragédia em Mariana (MG)\n",
      "\n",
      "\n",
      "Auxílio reclusão teve aumento de 11% e foi para R$ 1.157, diz hoax\n",
      "Auxílio reclusão teve aumento de 11% e foi para R$ 1.157\n",
      "\n",
      "\n",
      "Interpol confirma que assinatura de Cunha na Suíça é falsa, diz hoax\n",
      "Interpol confirma que assinatura de Cunha na Suíça é falsa\n",
      "\n",
      "\n",
      "WhatsApp notificará usuários quando tela for printada, diz hoax\n",
      "WhatsApp notificará usuários quando tela for printada\n",
      "\n",
      "\n",
      "New York Times aponta caso Petrobras como o maior escândalo de corrupção, diz hoax\n",
      "New York Times aponta caso Petrobras como o maior escândalo de corrupção\n",
      "\n",
      "\n",
      "Jovem tenta subir arco de Osasco e tem foto de Sonic no perfil, diz hoax\n",
      "Jovem tenta subir arco de Osasco e tem foto de Sonic no perfil\n",
      "\n",
      "\n",
      "Carro radar circula pelas cidades para aplicar multas, diz hoax\n",
      "Carro radar circula pelas cidades para aplicar multas\n",
      "\n",
      "\n",
      "Hoje, 20h30, será transmitido pronunciamento do vice na TV, diz hoax\n",
      "Hoje, 20h30, será transmitido pronunciamento do vice na TV\n",
      "\n",
      "\n",
      "Romero Britto se nega a fazer retrato de Lula, diz hoax\n",
      "Romero Britto se nega a fazer retrato de Lula\n",
      "\n",
      "\n",
      "Menino Leandro de 8 anos está desaparecido, diz hoax\n",
      "Menino Leandro de 8 anos está desaparecido\n",
      "\n",
      "\n",
      "Macarrão instantâneo é revestido de cera e dá câncer, diz hoax\n",
      "Macarrão instantâneo é revestido de cera e dá câncer\n",
      "\n",
      "\n",
      "Água com anestésico veterinário é vendida por bandidos, diz hoax\n",
      "Água com anestésico veterinário é vendida por bandidos\n",
      "\n",
      "\n",
      "Unicef Brasil comprou um Range Rover Evoque, diz hoax\n",
      "Unicef Brasil comprou um Range Rover Evoque\n",
      "\n",
      "\n",
      "Lei do estacionamento gratuito em shopping é aprovada, diz hoax\n",
      "Lei do estacionamento gratuito em shopping é aprovada\n",
      "\n",
      "\n",
      "Caso de botulismo com a salsicha Pif Paf é confirmado, diz hoax\n",
      "Caso de botulismo com a salsicha Pif Paf é confirmado\n",
      "\n",
      "\n",
      "Dilma tentou suicídio no Palácio do Alvorada, diz hoax\n",
      "Dilma tentou suicídio no Palácio do Alvorada\n",
      "\n",
      "\n",
      "Travesti que desfilou na Parada Gay como Jesus é morta, diz hoax\n",
      "Travesti que desfilou na Parada Gay como Jesus é morta\n",
      "\n",
      "\n",
      "Para evitar assaltos OAB quer proibir uso de bicicletas, diz hoax\n",
      "Para evitar assaltos OAB quer proibir uso de bicicletas\n",
      "\n",
      "\n",
      "Deputada cria projeto a favor de casamento entre pessoas e animais, diz hoax\n",
      "Deputada cria projeto a favor de casamento entre pessoas e animais\n",
      "\n",
      "\n",
      "Mulher que matou cão com maçarico em vídeo foi queimada viva, diz hoax\n",
      "Mulher que matou cão com maçarico em vídeo foi queimada viva\n",
      "\n",
      "\n",
      "Fotos de Fátima Bernardes nua antes da fama vazam na web, diz hoax\n",
      "Fotos de Fátima Bernardes nua antes da fama vazam na web\n",
      "\n",
      "\n",
      "Comercial da Sprite com cena de sexo foi proibido, diz hoax\n",
      "Comercial da Sprite com cena de sexo foi proibido\n",
      "\n",
      "\n",
      "Bolsonaro cria projeto para separar sangue doado por gays, afirma hoax\n",
      "Bolsonaro cria projeto para separar sangue doado por gays\n",
      "\n",
      "\n",
      "Comida da cadeia é melhor que comida da escola, afirma hoax\n",
      "Comida da cadeia é melhor que comida da escola\n",
      "\n",
      "\n",
      "Governo vai gastar R$ 134 mi em filme sobre José Dirceu, diz hoax\n",
      "Governo vai gastar R$ 134 mi em filme sobre José Dirceu\n",
      "\n",
      "\n",
      "Chip 666 já está sendo vendido no Brasil, diz hoax\n",
      "Chip 666 já está sendo vendido no Brasil\n",
      "\n",
      "\n",
      "Dilma assina decreto que deixa Polícia Federal submissa ao governo, diz hoax\n",
      "Dilma assina decreto que deixa Polícia Federal submissa ao governo\n",
      "\n",
      "\n",
      "Projeto de legalização da maconha de Jean Wyllys é arquivado, diz hoax\n",
      "Projeto de legalização da maconha de Jean Wyllys é arquivado\n",
      "\n",
      "\n",
      "Dilma declara luto oficial de 3 dias após morte de Marco Archer, diz hoax\n",
      "Dilma declara luto oficial de 3 dias após morte de Marco Archer\n",
      "\n",
      "\n",
      "Missionária brasileira é morta por grupo terrorista, diz hoax\n",
      "Missionária brasileira é morta por grupo terrorista\n",
      "\n",
      "\n",
      "Maré vermelha no Ceará anuncia o fim do mundo, diz hoax\n",
      "Maré vermelha no Ceará anuncia o fim do mundo\n",
      "\n",
      "\n",
      "PT usa software livre para fraudar urnas eletrônicas, diz hoax\n",
      "PT usa software livre para fraudar urnas eletrônicas\n",
      "\n",
      "\n",
      "Hoax diz que Globo usa doações do Criança Esperança para deduzir imposto\n",
      "Globo usa doações do Criança Esperança para deduzir imposto\n",
      "\n",
      "\n",
      "hoax fala de criatura encontrada por turista na China\n",
      "criatura encontrada por turista na China\n",
      "\n",
      "\n",
      "Webdriver Torso, canal do Youtube, tem mensagem subliminar, diz hoax\n",
      "Webdriver Torso, canal do Youtube, tem mensagem subliminar\n",
      "\n",
      "\n",
      "Peixe-panga faz mal a saúde por ser sujo, diz hoax\n",
      "Peixe-panga faz mal a saúde por ser sujo\n",
      "\n",
      "\n",
      "Avião da Malaysia Airlines foi sequestrado por ovnis, diz hoax\n",
      "Avião da Malaysia Airlines foi sequestrado por ovnis\n",
      "\n",
      "\n",
      "Flappy o hoax diz que Dong Nguyen fez ritual satânico\n",
      "Flappy o hoax diz que Dong Nguyen fez ritual satânico\n",
      "\n",
      "\n",
      "Hoax diz que radiação de Fukushima chegou ao Brasil\n",
      "radiação de Fukushima chegou ao Brasil\n",
      "\n",
      "\n",
      "hoax aponta que filha de Dilma tem 20 empresas\n",
      "filha de Dilma tem 20 empresas\n",
      "\n",
      "\n",
      "Hoax sobre ex-paquita Patrícia usa foto de Luciana Vendramini\n",
      "ex-paquita Patrícia usa foto de Luciana Vendramini\n",
      "\n",
      "\n",
      "Eddiu hoax fala sobre acidente de snowboard que matou ator\n",
      "Eddiu hoax fala sobre acidente de snowboard que matou ator\n",
      "\n",
      "\n",
      "Hoax – Ladrões estão pichando símbolos em casas para facilitar assaltos\n",
      "Ladrões estão pichando símbolos em casas para facilitar assaltos\n",
      "\n",
      "\n",
      "Hoax – Ex-paquita Patrícia morre aos 17 anos de Aids após se envolver com drogas\n",
      "Ex-paquita Patrícia morre aos 17 anos de Aids após se envolver com drogas\n",
      "\n",
      "\n",
      "Hoax – Organismo sediado em Washington alerta para populismo socialista de Lula\n",
      "Organismo sediado em Washington alerta para populismo socialista de Lula\n",
      "\n",
      "\n",
      "Hoax – Snowden fala sobre cataclismo em tempestade solar em setembro de 2013\n",
      "Snowden fala sobre cataclismo em tempestade solar em setembro de 2013\n",
      "\n",
      "\n",
      "Hoax sobre doença de chagas em feijão cru fala de COOVENF e UNIUPS\n",
      "doença de chagas em feijão cru fala de COOVENF e UNIUPS\n",
      "\n",
      "\n",
      "Hoax – Menina de 21 anos derrete lente de contato em churrasco e fica cega\n",
      "Menina de 21 anos derrete lente de contato em churrasco e fica cega\n",
      "\n",
      "\n",
      "Hoax – Lula está internado com câncer no Sírio-libanês\n",
      "Lula está internado com câncer no Sírio-libanês\n",
      "\n",
      "\n"
     ]
    }
   ],
   "source": [
    "false = pd.DataFrame([text for text in boatos.title if 'oax' in text])\n",
    "\n",
    "for j in false.iloc[:,0]:\n",
    "    print(str(j))\n",
    "    print(str(hoax_pattern.sub(\"\",str(j))))\n",
    "    print('\\n')"
   ]
  },
  {
   "cell_type": "code",
   "execution_count": 484,
   "metadata": {},
   "outputs": [],
   "source": [
    "boatos['title'].replace(to_replace=hoax_pattern, regex=True, value=\"\", inplace=True)"
   ]
  },
  {
   "cell_type": "code",
   "execution_count": 485,
   "metadata": {},
   "outputs": [
    {
     "name": "stdout",
     "output_type": "stream",
     "text": [
      "Retrospectiva 2017 – Boatos.org\n",
      "Retrospectiva 2017 – Boatos.org\n",
      "\n",
      "\n",
      "7 boatos que nasceram de informações erradas na imprensa – Parte 2\n",
      "7 boatos que nasceram de informações erradas na imprensa – Parte 2\n",
      "\n",
      "\n",
      "7 boatos que nasceram de informações erradas da imprensa – Parte 1\n",
      "7 boatos que nasceram de informações erradas da imprensa – Parte 1\n",
      "\n",
      "\n",
      "Retrospectiva 2016 – O melhor de 2016 no Boatos.org, por Hellen Bizerra\n",
      "Retrospectiva 2016 – O melhor de 2016 no Boatos.org, por Hellen Bizerra\n",
      "\n",
      "\n",
      "Retrospectiva parte 2 – O melhor de 2016 no Boatos.org, por Carol Lira\n",
      "Retrospectiva parte 2 – O melhor de 2016 no Boatos.org, por Carol Lira\n",
      "\n",
      "\n",
      "Página CNJ – Destituição de Sérgio Moro conta votos contra juiz #boato\n",
      "Página CNJ – Destituição de Sérgio Moro conta votos contra juiz #boato\n",
      "\n",
      "\n",
      "Os 10 boatos mais marcantes de 2015 – Escolha dos editores\n",
      "Os 10 boatos mais marcantes de 2015 – Escolha dos editores\n",
      "\n",
      "\n",
      "Vík ganhe dinheiro sem sair de casa – Saiba como aqui\n",
      "Vík ganhe dinheiro sem sair de casa – Saiba como aqui\n",
      "\n",
      "\n",
      "Vírusl Facefollow – Ganhe seguidores no Facebook\n",
      "Vírusl Facefollow – Ganhe seguidores no Facebook\n",
      "\n",
      "\n",
      "Cuidado – Link “Brincadeira sem graça acaba em morte em prédio de Recife” esconde vírus\n",
      "Cuidado – Link “Brincadeira sem graça acaba em morte em prédio de Recife” esconde vírus\n",
      "\n",
      "\n",
      "Boato – Facebook vai cobrar taxa de $5,99 dos usuários\n",
      "Boato – Facebook vai cobrar taxa de $5,99 dos usuários\n",
      "\n",
      "\n"
     ]
    }
   ],
   "source": [
    "false = pd.DataFrame([text for text in boatos.title if '–' in text])\n",
    "\n",
    "for j in false.iloc[:,0]:\n",
    "    print(str(j))\n",
    "    print(str(hoax_pattern.sub(\"\",str(j))))\n",
    "    print('\\n')"
   ]
  },
  {
   "cell_type": "code",
   "execution_count": null,
   "metadata": {
    "collapsed": true
   },
   "outputs": [],
   "source": [
    "patternDel = \"–\"\n",
    "filter = df['Event Name'].str.contains(patternDel)"
   ]
  }
 ],
 "metadata": {
  "kernelspec": {
   "display_name": "Python 3",
   "language": "python",
   "name": "python3"
  },
  "language_info": {
   "codemirror_mode": {
    "name": "ipython",
    "version": 3
   },
   "file_extension": ".py",
   "mimetype": "text/x-python",
   "name": "python",
   "nbconvert_exporter": "python",
   "pygments_lexer": "ipython3",
   "version": "3.6.4"
  }
 },
 "nbformat": 4,
 "nbformat_minor": 2
}
