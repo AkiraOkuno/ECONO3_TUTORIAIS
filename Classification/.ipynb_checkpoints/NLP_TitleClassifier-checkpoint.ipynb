{
 "cells": [
  {
   "cell_type": "code",
   "execution_count": 1,
   "metadata": {},
   "outputs": [],
   "source": [
    "import numpy as np\n",
    "import pandas as pd\n",
    "import os\n",
    "import matplotlib.pyplot as plt\n",
    "% matplotlib inline"
   ]
  },
  {
   "cell_type": "code",
   "execution_count": 2,
   "metadata": {},
   "outputs": [],
   "source": [
    "os.chdir(r'C:\\Users\\Helio\\Documents\\ALL THAT MATTERS\\IC\\csv')"
   ]
  },
  {
   "cell_type": "code",
   "execution_count": 3,
   "metadata": {},
   "outputs": [],
   "source": [
    "data = pd.read_csv(r'TitlesLabelednoComma.csv', encoding=\"utf-8\", sep=';')"
   ]
  },
  {
   "cell_type": "code",
   "execution_count": 4,
   "metadata": {},
   "outputs": [
    {
     "data": {
      "text/html": [
       "<div>\n",
       "<style scoped>\n",
       "    .dataframe tbody tr th:only-of-type {\n",
       "        vertical-align: middle;\n",
       "    }\n",
       "\n",
       "    .dataframe tbody tr th {\n",
       "        vertical-align: top;\n",
       "    }\n",
       "\n",
       "    .dataframe thead th {\n",
       "        text-align: right;\n",
       "    }\n",
       "</style>\n",
       "<table border=\"1\" class=\"dataframe\">\n",
       "  <thead>\n",
       "    <tr style=\"text-align: right;\">\n",
       "      <th></th>\n",
       "      <th>Title</th>\n",
       "      <th>URL</th>\n",
       "      <th>Label</th>\n",
       "    </tr>\n",
       "  </thead>\n",
       "  <tbody>\n",
       "    <tr>\n",
       "      <th>0</th>\n",
       "      <td>A economia chilena: forte mas desigual</td>\n",
       "      <td>https://brasil.elpais.com/brasil/2013/11/17/in...</td>\n",
       "      <td>0.0</td>\n",
       "    </tr>\n",
       "    <tr>\n",
       "      <th>1</th>\n",
       "      <td>Uma líder discreta</td>\n",
       "      <td>https://brasil.elpais.com/brasil/2013/11/16/in...</td>\n",
       "      <td>0.0</td>\n",
       "    </tr>\n",
       "    <tr>\n",
       "      <th>2</th>\n",
       "      <td>China lança as maiores reformas econômicas e s...</td>\n",
       "      <td>https://brasil.elpais.com/brasil/2013/11/19/in...</td>\n",
       "      <td>0.0</td>\n",
       "    </tr>\n",
       "    <tr>\n",
       "      <th>3</th>\n",
       "      <td>Juízes argentinos pedem medidas do governo par...</td>\n",
       "      <td>https://brasil.elpais.com/brasil/2013/11/19/in...</td>\n",
       "      <td>0.0</td>\n",
       "    </tr>\n",
       "    <tr>\n",
       "      <th>4</th>\n",
       "      <td>Obama cede à pressão e anuncia mudanças na ref...</td>\n",
       "      <td>https://brasil.elpais.com/brasil/2013/11/19/in...</td>\n",
       "      <td>0.0</td>\n",
       "    </tr>\n",
       "    <tr>\n",
       "      <th>5</th>\n",
       "      <td>Adeus a 2013 sem a reforma da imigração nos Es...</td>\n",
       "      <td>https://brasil.elpais.com/brasil/2013/11/19/in...</td>\n",
       "      <td>0.0</td>\n",
       "    </tr>\n",
       "    <tr>\n",
       "      <th>6</th>\n",
       "      <td>O fim da esperança em Gaza</td>\n",
       "      <td>https://brasil.elpais.com/brasil/2013/11/20/in...</td>\n",
       "      <td>0.0</td>\n",
       "    </tr>\n",
       "    <tr>\n",
       "      <th>7</th>\n",
       "      <td>Oito países realizam o maior exercício militar...</td>\n",
       "      <td>https://brasil.elpais.com/brasil/2013/11/05/in...</td>\n",
       "      <td>0.0</td>\n",
       "    </tr>\n",
       "    <tr>\n",
       "      <th>8</th>\n",
       "      <td>“É por Mandela que agora somos livres”</td>\n",
       "      <td>https://brasil.elpais.com/brasil/2013/06/05/in...</td>\n",
       "      <td>0.0</td>\n",
       "    </tr>\n",
       "    <tr>\n",
       "      <th>9</th>\n",
       "      <td>“Só consideram provocação quando desenhamos Ma...</td>\n",
       "      <td>https://brasil.elpais.com/brasil/2012/09/19/in...</td>\n",
       "      <td>0.0</td>\n",
       "    </tr>\n",
       "    <tr>\n",
       "      <th>10</th>\n",
       "      <td>Revista já havia sido atacada em 2011 por capa...</td>\n",
       "      <td>https://brasil.elpais.com/brasil/2011/11/03/in...</td>\n",
       "      <td>0.0</td>\n",
       "    </tr>\n",
       "    <tr>\n",
       "      <th>11</th>\n",
       "      <td>Dallas lava suas feridas e relembra Kennedy 50...</td>\n",
       "      <td>https://brasil.elpais.com/brasil/2013/11/22/in...</td>\n",
       "      <td>0.0</td>\n",
       "    </tr>\n",
       "    <tr>\n",
       "      <th>12</th>\n",
       "      <td>O crime marca a eleição em Honduras</td>\n",
       "      <td>https://brasil.elpais.com/brasil/2013/11/22/in...</td>\n",
       "      <td>0.0</td>\n",
       "    </tr>\n",
       "    <tr>\n",
       "      <th>13</th>\n",
       "      <td>O primeiro presidente que reconheceu o poder d...</td>\n",
       "      <td>https://brasil.elpais.com/brasil/2013/11/22/in...</td>\n",
       "      <td>0.0</td>\n",
       "    </tr>\n",
       "    <tr>\n",
       "      <th>14</th>\n",
       "      <td>Santos terá que enfrentar o voto em branco e o...</td>\n",
       "      <td>https://brasil.elpais.com/brasil/2013/11/22/in...</td>\n",
       "      <td>0.0</td>\n",
       "    </tr>\n",
       "    <tr>\n",
       "      <th>15</th>\n",
       "      <td>As duas leis decretadas por Maduro aumentam o ...</td>\n",
       "      <td>https://brasil.elpais.com/brasil/2013/11/22/in...</td>\n",
       "      <td>0.0</td>\n",
       "    </tr>\n",
       "    <tr>\n",
       "      <th>16</th>\n",
       "      <td>A sentença do “bunga bunga”</td>\n",
       "      <td>https://brasil.elpais.com/brasil/2013/11/21/in...</td>\n",
       "      <td>0.0</td>\n",
       "    </tr>\n",
       "    <tr>\n",
       "      <th>17</th>\n",
       "      <td>O PIB mexicano sobe 084% no terceiro trimestre...</td>\n",
       "      <td>https://brasil.elpais.com/brasil/2013/11/22/in...</td>\n",
       "      <td>0.0</td>\n",
       "    </tr>\n",
       "    <tr>\n",
       "      <th>18</th>\n",
       "      <td>Yellen conquista primeiro voto para presidir B...</td>\n",
       "      <td>https://brasil.elpais.com/brasil/2013/11/21/in...</td>\n",
       "      <td>0.0</td>\n",
       "    </tr>\n",
       "    <tr>\n",
       "      <th>19</th>\n",
       "      <td>Um murro na mesa</td>\n",
       "      <td>https://brasil.elpais.com/brasil/2013/11/21/in...</td>\n",
       "      <td>0.0</td>\n",
       "    </tr>\n",
       "    <tr>\n",
       "      <th>20</th>\n",
       "      <td>O Senado elimina o veto minoritário a nomeaçõe...</td>\n",
       "      <td>https://brasil.elpais.com/brasil/2013/11/21/in...</td>\n",
       "      <td>0.0</td>\n",
       "    </tr>\n",
       "    <tr>\n",
       "      <th>21</th>\n",
       "      <td>Grupos civis armados avançam na tomada de muni...</td>\n",
       "      <td>https://brasil.elpais.com/brasil/2013/11/21/in...</td>\n",
       "      <td>0.0</td>\n",
       "    </tr>\n",
       "    <tr>\n",
       "      <th>22</th>\n",
       "      <td>De Kennedy a Obama dois símbolos de suas geraç...</td>\n",
       "      <td>https://brasil.elpais.com/brasil/2013/11/20/in...</td>\n",
       "      <td>0.0</td>\n",
       "    </tr>\n",
       "    <tr>\n",
       "      <th>23</th>\n",
       "      <td>Quem matou Kennedy?</td>\n",
       "      <td>https://brasil.elpais.com/brasil/2013/11/19/in...</td>\n",
       "      <td>0.0</td>\n",
       "    </tr>\n",
       "    <tr>\n",
       "      <th>24</th>\n",
       "      <td>Rei é operado do quadril pela quinta vez e só ...</td>\n",
       "      <td>https://brasil.elpais.com/brasil/2013/11/21/in...</td>\n",
       "      <td>0.0</td>\n",
       "    </tr>\n",
       "    <tr>\n",
       "      <th>25</th>\n",
       "      <td>Colômbia espera que as FARC renunciem ao uso d...</td>\n",
       "      <td>https://brasil.elpais.com/brasil/2013/11/19/in...</td>\n",
       "      <td>0.0</td>\n",
       "    </tr>\n",
       "    <tr>\n",
       "      <th>26</th>\n",
       "      <td>Uruguai: as vacas que transformaram a economia...</td>\n",
       "      <td>https://brasil.elpais.com/brasil/2013/11/18/in...</td>\n",
       "      <td>0.0</td>\n",
       "    </tr>\n",
       "    <tr>\n",
       "      <th>27</th>\n",
       "      <td>O soviético toma o leme argentino</td>\n",
       "      <td>https://brasil.elpais.com/brasil/2013/11/20/in...</td>\n",
       "      <td>0.0</td>\n",
       "    </tr>\n",
       "    <tr>\n",
       "      <th>28</th>\n",
       "      <td>Polícia confirma que detido é autor dos dispar...</td>\n",
       "      <td>https://brasil.elpais.com/brasil/2013/11/20/in...</td>\n",
       "      <td>0.0</td>\n",
       "    </tr>\n",
       "    <tr>\n",
       "      <th>29</th>\n",
       "      <td>Espanha prepara uma lei de segurança para puni...</td>\n",
       "      <td>https://brasil.elpais.com/brasil/2013/11/20/in...</td>\n",
       "      <td>0.0</td>\n",
       "    </tr>\n",
       "    <tr>\n",
       "      <th>...</th>\n",
       "      <td>...</td>\n",
       "      <td>...</td>\n",
       "      <td>...</td>\n",
       "    </tr>\n",
       "    <tr>\n",
       "      <th>37326</th>\n",
       "      <td>Janot livra Temer e diz que presidente não po...</td>\n",
       "      <td>https://www.newsatual.com/janot-livra-temer-e-...</td>\n",
       "      <td>1.0</td>\n",
       "    </tr>\n",
       "    <tr>\n",
       "      <th>37327</th>\n",
       "      <td>Moro é a personalidade mais popular do Brasil...</td>\n",
       "      <td>https://www.newsatual.com/moro-e-personalidade...</td>\n",
       "      <td>1.0</td>\n",
       "    </tr>\n",
       "    <tr>\n",
       "      <th>37328</th>\n",
       "      <td>Deltan convoca mais uma vez o povo para ir às...</td>\n",
       "      <td>https://www.newsatual.com/deltan-convoca-mais-...</td>\n",
       "      <td>1.0</td>\n",
       "    </tr>\n",
       "    <tr>\n",
       "      <th>37329</th>\n",
       "      <td>João Doria e Jair Bolsonaro dividem palanque</td>\n",
       "      <td>https://www.newsatual.com/joao-doria-e-jair-bo...</td>\n",
       "      <td>1.0</td>\n",
       "    </tr>\n",
       "    <tr>\n",
       "      <th>37330</th>\n",
       "      <td>Moro é atacado mas não perde a linha de JUIZ</td>\n",
       "      <td>https://www.newsatual.com/moro-e-atacado-mas-n...</td>\n",
       "      <td>1.0</td>\n",
       "    </tr>\n",
       "    <tr>\n",
       "      <th>37331</th>\n",
       "      <td>LULA em desespero TOTAL! Pede socorro a amigo...</td>\n",
       "      <td>https://www.newsatual.com/lula-em-desespero-to...</td>\n",
       "      <td>1.0</td>\n",
       "    </tr>\n",
       "    <tr>\n",
       "      <th>37332</th>\n",
       "      <td>Delegado da PF propõe: ‘Reeleição zero! Se po...</td>\n",
       "      <td>https://www.newsatual.com/delegado-da-pf-propo...</td>\n",
       "      <td>1.0</td>\n",
       "    </tr>\n",
       "    <tr>\n",
       "      <th>37333</th>\n",
       "      <td>Defesa de Cabral alega que ele tem cleptomani...</td>\n",
       "      <td>https://www.newsatual.com/defesa-de-cabral-ale...</td>\n",
       "      <td>1.0</td>\n",
       "    </tr>\n",
       "    <tr>\n",
       "      <th>37334</th>\n",
       "      <td>Urgente! Sérgio Moro vai à Câmara e detona re...</td>\n",
       "      <td>https://www.newsatual.com/urgente-sergio-moro-...</td>\n",
       "      <td>1.0</td>\n",
       "    </tr>\n",
       "    <tr>\n",
       "      <th>37335</th>\n",
       "      <td>Renan Calheiros quer aliança com Lula para 2018</td>\n",
       "      <td>https://www.newsatual.com/renan-calheiros-quer...</td>\n",
       "      <td>1.0</td>\n",
       "    </tr>\n",
       "    <tr>\n",
       "      <th>37336</th>\n",
       "      <td>Adriana Ancelmo mulher de CABRAL: da origem p...</td>\n",
       "      <td>https://www.newsatual.com/adriana-ancelmo-mulh...</td>\n",
       "      <td>1.0</td>\n",
       "    </tr>\n",
       "    <tr>\n",
       "      <th>37337</th>\n",
       "      <td>Cunha diz que Moro quer mantê-lo PRESO como ‘...</td>\n",
       "      <td>https://www.newsatual.com/cunha-diz-que-moro-q...</td>\n",
       "      <td>1.0</td>\n",
       "    </tr>\n",
       "    <tr>\n",
       "      <th>37338</th>\n",
       "      <td>Acostumada com o STF defesa de Cunha fica sur...</td>\n",
       "      <td>https://www.newsatual.com/acostumada-com-o-stf...</td>\n",
       "      <td>1.0</td>\n",
       "    </tr>\n",
       "    <tr>\n",
       "      <th>37339</th>\n",
       "      <td>Deputado petista convoca militância a fechar ...</td>\n",
       "      <td>https://www.newsatual.com/deputado-petista-con...</td>\n",
       "      <td>1.0</td>\n",
       "    </tr>\n",
       "    <tr>\n",
       "      <th>37340</th>\n",
       "      <td>Ministra pede ao STF mesmo tratamento dado a ...</td>\n",
       "      <td>https://www.newsatual.com/ministra-pede-ao-stf...</td>\n",
       "      <td>1.0</td>\n",
       "    </tr>\n",
       "    <tr>\n",
       "      <th>37341</th>\n",
       "      <td>EXCLUSIVO: Mulher de Cunha pode ser presa a q...</td>\n",
       "      <td>https://www.newsatual.com/exclusivo-mulher-de-...</td>\n",
       "      <td>1.0</td>\n",
       "    </tr>\n",
       "    <tr>\n",
       "      <th>37342</th>\n",
       "      <td>O Brilhante Sérgio Moro recebe medalha da Jus...</td>\n",
       "      <td>https://www.newsatual.com/o-brilhante-sergio-m...</td>\n",
       "      <td>1.0</td>\n",
       "    </tr>\n",
       "    <tr>\n",
       "      <th>37343</th>\n",
       "      <td>AGONIA: José Dirceu divulga nova carta sobre ...</td>\n",
       "      <td>https://www.newsatual.com/agonia-jose-dirceu-d...</td>\n",
       "      <td>1.0</td>\n",
       "    </tr>\n",
       "    <tr>\n",
       "      <th>37344</th>\n",
       "      <td>Bolsonaro e Sérgio Moro juntos no Aeroporto I...</td>\n",
       "      <td>https://www.newsatual.com/bolsonaro-e-sergio-m...</td>\n",
       "      <td>1.0</td>\n",
       "    </tr>\n",
       "    <tr>\n",
       "      <th>37345</th>\n",
       "      <td>Deputado petista ataca Sérgio Moro na Câmara</td>\n",
       "      <td>https://www.newsatual.com/deputado-petista-ata...</td>\n",
       "      <td>1.0</td>\n",
       "    </tr>\n",
       "    <tr>\n",
       "      <th>37346</th>\n",
       "      <td>Aécio diz que povo tem que engolir perda de d...</td>\n",
       "      <td>https://www.newsatual.com/aecio-diz-que-povo-t...</td>\n",
       "      <td>1.0</td>\n",
       "    </tr>\n",
       "    <tr>\n",
       "      <th>37347</th>\n",
       "      <td>URGENTE: Sérgio Moro condena Eduardo Cunha</td>\n",
       "      <td>https://www.newsatual.com/urgente-sergio-moro-...</td>\n",
       "      <td>1.0</td>\n",
       "    </tr>\n",
       "    <tr>\n",
       "      <th>37348</th>\n",
       "      <td>Cármen Lúcia fecha pauta de julgamentos do ST...</td>\n",
       "      <td>https://www.newsatual.com/carmen-lucia-fecha-p...</td>\n",
       "      <td>1.0</td>\n",
       "    </tr>\n",
       "    <tr>\n",
       "      <th>37349</th>\n",
       "      <td>O FALSO: Joaquim Barbosa PETISTA detona Temer...</td>\n",
       "      <td>https://www.newsatual.com/o-falso-joaquim-barb...</td>\n",
       "      <td>1.0</td>\n",
       "    </tr>\n",
       "    <tr>\n",
       "      <th>37350</th>\n",
       "      <td>Ciro Gomes ameaça a dar um tiro em Sérgio Moro</td>\n",
       "      <td>https://www.newsatual.com/ciro-gomes-ameaca-a-...</td>\n",
       "      <td>1.0</td>\n",
       "    </tr>\n",
       "    <tr>\n",
       "      <th>37351</th>\n",
       "      <td>Gilmar dá aval para investigar vazamento: ‘Fa...</td>\n",
       "      <td>https://www.newsatual.com/gilmar-da-aval-para-...</td>\n",
       "      <td>1.0</td>\n",
       "    </tr>\n",
       "    <tr>\n",
       "      <th>37352</th>\n",
       "      <td>Edson Fachin autoriza interrogatória à Renan ...</td>\n",
       "      <td>https://www.newsatual.com/edson-fachin-autoriz...</td>\n",
       "      <td>1.0</td>\n",
       "    </tr>\n",
       "    <tr>\n",
       "      <th>37353</th>\n",
       "      <td>EXPLOSIVO: Odebrecht confirma que contas de p...</td>\n",
       "      <td>https://www.newsatual.com/explosivo-odebrecht-...</td>\n",
       "      <td>1.0</td>\n",
       "    </tr>\n",
       "    <tr>\n",
       "      <th>37354</th>\n",
       "      <td>Lula perde mais uma para o juiz Sérgio Moro</td>\n",
       "      <td>https://www.newsatual.com/lula-perde-mais-uma-...</td>\n",
       "      <td>1.0</td>\n",
       "    </tr>\n",
       "    <tr>\n",
       "      <th>37355</th>\n",
       "      <td>NaN</td>\n",
       "      <td>NaN</td>\n",
       "      <td>NaN</td>\n",
       "    </tr>\n",
       "  </tbody>\n",
       "</table>\n",
       "<p>37356 rows × 3 columns</p>\n",
       "</div>"
      ],
      "text/plain": [
       "                                                   Title  \\\n",
       "0                A economia chilena: forte mas desigual    \n",
       "1                                    Uma líder discreta    \n",
       "2      China lança as maiores reformas econômicas e s...   \n",
       "3      Juízes argentinos pedem medidas do governo par...   \n",
       "4      Obama cede à pressão e anuncia mudanças na ref...   \n",
       "5      Adeus a 2013 sem a reforma da imigração nos Es...   \n",
       "6                            O fim da esperança em Gaza    \n",
       "7      Oito países realizam o maior exercício militar...   \n",
       "8                “É por Mandela que agora somos livres”    \n",
       "9      “Só consideram provocação quando desenhamos Ma...   \n",
       "10     Revista já havia sido atacada em 2011 por capa...   \n",
       "11     Dallas lava suas feridas e relembra Kennedy 50...   \n",
       "12                  O crime marca a eleição em Honduras    \n",
       "13     O primeiro presidente que reconheceu o poder d...   \n",
       "14     Santos terá que enfrentar o voto em branco e o...   \n",
       "15     As duas leis decretadas por Maduro aumentam o ...   \n",
       "16                          A sentença do “bunga bunga”    \n",
       "17     O PIB mexicano sobe 084% no terceiro trimestre...   \n",
       "18     Yellen conquista primeiro voto para presidir B...   \n",
       "19                                     Um murro na mesa    \n",
       "20     O Senado elimina o veto minoritário a nomeaçõe...   \n",
       "21     Grupos civis armados avançam na tomada de muni...   \n",
       "22     De Kennedy a Obama dois símbolos de suas geraç...   \n",
       "23                                  Quem matou Kennedy?    \n",
       "24     Rei é operado do quadril pela quinta vez e só ...   \n",
       "25     Colômbia espera que as FARC renunciem ao uso d...   \n",
       "26     Uruguai: as vacas que transformaram a economia...   \n",
       "27                    O soviético toma o leme argentino    \n",
       "28     Polícia confirma que detido é autor dos dispar...   \n",
       "29     Espanha prepara uma lei de segurança para puni...   \n",
       "...                                                  ...   \n",
       "37326   Janot livra Temer e diz que presidente não po...   \n",
       "37327   Moro é a personalidade mais popular do Brasil...   \n",
       "37328   Deltan convoca mais uma vez o povo para ir às...   \n",
       "37329       João Doria e Jair Bolsonaro dividem palanque   \n",
       "37330       Moro é atacado mas não perde a linha de JUIZ   \n",
       "37331   LULA em desespero TOTAL! Pede socorro a amigo...   \n",
       "37332   Delegado da PF propõe: ‘Reeleição zero! Se po...   \n",
       "37333   Defesa de Cabral alega que ele tem cleptomani...   \n",
       "37334   Urgente! Sérgio Moro vai à Câmara e detona re...   \n",
       "37335    Renan Calheiros quer aliança com Lula para 2018   \n",
       "37336   Adriana Ancelmo mulher de CABRAL: da origem p...   \n",
       "37337   Cunha diz que Moro quer mantê-lo PRESO como ‘...   \n",
       "37338   Acostumada com o STF defesa de Cunha fica sur...   \n",
       "37339   Deputado petista convoca militância a fechar ...   \n",
       "37340   Ministra pede ao STF mesmo tratamento dado a ...   \n",
       "37341   EXCLUSIVO: Mulher de Cunha pode ser presa a q...   \n",
       "37342   O Brilhante Sérgio Moro recebe medalha da Jus...   \n",
       "37343   AGONIA: José Dirceu divulga nova carta sobre ...   \n",
       "37344   Bolsonaro e Sérgio Moro juntos no Aeroporto I...   \n",
       "37345       Deputado petista ataca Sérgio Moro na Câmara   \n",
       "37346   Aécio diz que povo tem que engolir perda de d...   \n",
       "37347         URGENTE: Sérgio Moro condena Eduardo Cunha   \n",
       "37348   Cármen Lúcia fecha pauta de julgamentos do ST...   \n",
       "37349   O FALSO: Joaquim Barbosa PETISTA detona Temer...   \n",
       "37350     Ciro Gomes ameaça a dar um tiro em Sérgio Moro   \n",
       "37351   Gilmar dá aval para investigar vazamento: ‘Fa...   \n",
       "37352   Edson Fachin autoriza interrogatória à Renan ...   \n",
       "37353   EXPLOSIVO: Odebrecht confirma que contas de p...   \n",
       "37354        Lula perde mais uma para o juiz Sérgio Moro   \n",
       "37355                                                NaN   \n",
       "\n",
       "                                                     URL  Label  \n",
       "0      https://brasil.elpais.com/brasil/2013/11/17/in...    0.0  \n",
       "1      https://brasil.elpais.com/brasil/2013/11/16/in...    0.0  \n",
       "2      https://brasil.elpais.com/brasil/2013/11/19/in...    0.0  \n",
       "3      https://brasil.elpais.com/brasil/2013/11/19/in...    0.0  \n",
       "4      https://brasil.elpais.com/brasil/2013/11/19/in...    0.0  \n",
       "5      https://brasil.elpais.com/brasil/2013/11/19/in...    0.0  \n",
       "6      https://brasil.elpais.com/brasil/2013/11/20/in...    0.0  \n",
       "7      https://brasil.elpais.com/brasil/2013/11/05/in...    0.0  \n",
       "8      https://brasil.elpais.com/brasil/2013/06/05/in...    0.0  \n",
       "9      https://brasil.elpais.com/brasil/2012/09/19/in...    0.0  \n",
       "10     https://brasil.elpais.com/brasil/2011/11/03/in...    0.0  \n",
       "11     https://brasil.elpais.com/brasil/2013/11/22/in...    0.0  \n",
       "12     https://brasil.elpais.com/brasil/2013/11/22/in...    0.0  \n",
       "13     https://brasil.elpais.com/brasil/2013/11/22/in...    0.0  \n",
       "14     https://brasil.elpais.com/brasil/2013/11/22/in...    0.0  \n",
       "15     https://brasil.elpais.com/brasil/2013/11/22/in...    0.0  \n",
       "16     https://brasil.elpais.com/brasil/2013/11/21/in...    0.0  \n",
       "17     https://brasil.elpais.com/brasil/2013/11/22/in...    0.0  \n",
       "18     https://brasil.elpais.com/brasil/2013/11/21/in...    0.0  \n",
       "19     https://brasil.elpais.com/brasil/2013/11/21/in...    0.0  \n",
       "20     https://brasil.elpais.com/brasil/2013/11/21/in...    0.0  \n",
       "21     https://brasil.elpais.com/brasil/2013/11/21/in...    0.0  \n",
       "22     https://brasil.elpais.com/brasil/2013/11/20/in...    0.0  \n",
       "23     https://brasil.elpais.com/brasil/2013/11/19/in...    0.0  \n",
       "24     https://brasil.elpais.com/brasil/2013/11/21/in...    0.0  \n",
       "25     https://brasil.elpais.com/brasil/2013/11/19/in...    0.0  \n",
       "26     https://brasil.elpais.com/brasil/2013/11/18/in...    0.0  \n",
       "27     https://brasil.elpais.com/brasil/2013/11/20/in...    0.0  \n",
       "28     https://brasil.elpais.com/brasil/2013/11/20/in...    0.0  \n",
       "29     https://brasil.elpais.com/brasil/2013/11/20/in...    0.0  \n",
       "...                                                  ...    ...  \n",
       "37326  https://www.newsatual.com/janot-livra-temer-e-...    1.0  \n",
       "37327  https://www.newsatual.com/moro-e-personalidade...    1.0  \n",
       "37328  https://www.newsatual.com/deltan-convoca-mais-...    1.0  \n",
       "37329  https://www.newsatual.com/joao-doria-e-jair-bo...    1.0  \n",
       "37330  https://www.newsatual.com/moro-e-atacado-mas-n...    1.0  \n",
       "37331  https://www.newsatual.com/lula-em-desespero-to...    1.0  \n",
       "37332  https://www.newsatual.com/delegado-da-pf-propo...    1.0  \n",
       "37333  https://www.newsatual.com/defesa-de-cabral-ale...    1.0  \n",
       "37334  https://www.newsatual.com/urgente-sergio-moro-...    1.0  \n",
       "37335  https://www.newsatual.com/renan-calheiros-quer...    1.0  \n",
       "37336  https://www.newsatual.com/adriana-ancelmo-mulh...    1.0  \n",
       "37337  https://www.newsatual.com/cunha-diz-que-moro-q...    1.0  \n",
       "37338  https://www.newsatual.com/acostumada-com-o-stf...    1.0  \n",
       "37339  https://www.newsatual.com/deputado-petista-con...    1.0  \n",
       "37340  https://www.newsatual.com/ministra-pede-ao-stf...    1.0  \n",
       "37341  https://www.newsatual.com/exclusivo-mulher-de-...    1.0  \n",
       "37342  https://www.newsatual.com/o-brilhante-sergio-m...    1.0  \n",
       "37343  https://www.newsatual.com/agonia-jose-dirceu-d...    1.0  \n",
       "37344  https://www.newsatual.com/bolsonaro-e-sergio-m...    1.0  \n",
       "37345  https://www.newsatual.com/deputado-petista-ata...    1.0  \n",
       "37346  https://www.newsatual.com/aecio-diz-que-povo-t...    1.0  \n",
       "37347  https://www.newsatual.com/urgente-sergio-moro-...    1.0  \n",
       "37348  https://www.newsatual.com/carmen-lucia-fecha-p...    1.0  \n",
       "37349  https://www.newsatual.com/o-falso-joaquim-barb...    1.0  \n",
       "37350  https://www.newsatual.com/ciro-gomes-ameaca-a-...    1.0  \n",
       "37351  https://www.newsatual.com/gilmar-da-aval-para-...    1.0  \n",
       "37352  https://www.newsatual.com/edson-fachin-autoriz...    1.0  \n",
       "37353  https://www.newsatual.com/explosivo-odebrecht-...    1.0  \n",
       "37354  https://www.newsatual.com/lula-perde-mais-uma-...    1.0  \n",
       "37355                                                NaN    NaN  \n",
       "\n",
       "[37356 rows x 3 columns]"
      ]
     },
     "execution_count": 4,
     "metadata": {},
     "output_type": "execute_result"
    }
   ],
   "source": [
    "data"
   ]
  },
  {
   "cell_type": "code",
   "execution_count": 5,
   "metadata": {},
   "outputs": [],
   "source": [
    "#eliminate last row that contains NaN Values\n",
    "data = data.iloc[0:37355,:]"
   ]
  },
  {
   "cell_type": "code",
   "execution_count": 6,
   "metadata": {},
   "outputs": [],
   "source": [
    "data = data.dropna(subset = ['Title', 'URL'])"
   ]
  },
  {
   "cell_type": "code",
   "execution_count": 7,
   "metadata": {},
   "outputs": [],
   "source": [
    "from sklearn import preprocessing"
   ]
  },
  {
   "cell_type": "code",
   "execution_count": 8,
   "metadata": {},
   "outputs": [],
   "source": [
    "label_encoder = preprocessing.LabelEncoder()\n",
    "y = label_encoder.fit_transform(data.Label.values)\n",
    "x = data.Title.values"
   ]
  },
  {
   "cell_type": "code",
   "execution_count": 9,
   "metadata": {},
   "outputs": [],
   "source": [
    "from sklearn.model_selection import train_test_split"
   ]
  },
  {
   "cell_type": "code",
   "execution_count": 10,
   "metadata": {},
   "outputs": [],
   "source": [
    "Xtrain, Xtest, Ytrain, Ytest = train_test_split(x, y,\n",
    "                                                random_state = 42,\n",
    "                                                test_size = 0.2,\n",
    "                                                stratify = y) "
   ]
  },
  {
   "cell_type": "code",
   "execution_count": 11,
   "metadata": {},
   "outputs": [],
   "source": [
    "import collections"
   ]
  },
  {
   "cell_type": "code",
   "execution_count": 12,
   "metadata": {},
   "outputs": [
    {
     "data": {
      "text/plain": [
       "Counter({0: 25694, 1: 4133})"
      ]
     },
     "execution_count": 12,
     "metadata": {},
     "output_type": "execute_result"
    }
   ],
   "source": [
    "collections.Counter(Ytrain)"
   ]
  },
  {
   "cell_type": "code",
   "execution_count": 13,
   "metadata": {},
   "outputs": [
    {
     "data": {
      "text/plain": [
       "Counter({0: 6424, 1: 1033})"
      ]
     },
     "execution_count": 13,
     "metadata": {},
     "output_type": "execute_result"
    }
   ],
   "source": [
    "collections.Counter(Ytest)"
   ]
  },
  {
   "cell_type": "code",
   "execution_count": 14,
   "metadata": {},
   "outputs": [
    {
     "data": {
      "text/plain": [
       "((29827,), (7457,))"
      ]
     },
     "execution_count": 14,
     "metadata": {},
     "output_type": "execute_result"
    }
   ],
   "source": [
    "Xtrain.shape, Xtest.shape"
   ]
  },
  {
   "cell_type": "markdown",
   "metadata": {},
   "source": [
    "## TF-IDF APPROACH"
   ]
  },
  {
   "cell_type": "code",
   "execution_count": 15,
   "metadata": {},
   "outputs": [],
   "source": [
    "from sklearn.feature_extraction.text import TfidfVectorizer\n",
    "import nltk"
   ]
  },
  {
   "cell_type": "code",
   "execution_count": 16,
   "metadata": {},
   "outputs": [],
   "source": [
    "pt_stopwords = set(nltk.corpus.stopwords.words('portuguese'))"
   ]
  },
  {
   "cell_type": "code",
   "execution_count": 17,
   "metadata": {},
   "outputs": [],
   "source": [
    "tfidf = TfidfVectorizer(min_df = 3, strip_accents = 'unicode', max_features = 3000,\n",
    "                        analyzer = 'word', token_pattern = '\\w{1,}',\n",
    "                        ngram_range = (1,3), sublinear_tf = 1, stop_words = pt_stopwords)"
   ]
  },
  {
   "cell_type": "code",
   "execution_count": 18,
   "metadata": {},
   "outputs": [
    {
     "data": {
      "text/plain": [
       "(TfidfVectorizer(analyzer='word', binary=False, decode_error='strict',\n",
       "         dtype=<class 'numpy.int64'>, encoding='utf-8', input='content',\n",
       "         lowercase=True, max_df=1.0, max_features=3000, min_df=3,\n",
       "         ngram_range=(1, 3), norm='l2', preprocessor=None, smooth_idf=True,\n",
       "         stop_words={'houveríamos', 'seríamos', 'tiveram', 'tivessem', 'haja', 'fôramos', 'fossem', 'mesmo', 'houvesse', 'havemos', 'teve', 'pelo', 'lhes', 'esteja', 'do', 'houveria', 'houverão', 'seria', 'tivemos', 'nosso', 'temos', 'sou', 'até', 'houveriam', 'fôssemos', 'o', 'numa', 'só', 'nos', 'tivéramos...sto', 'estivermos', 'tem', 'me', 'estou', 'qual', 'estiverem', 'hajam', 'para', 'sua', 'fui', 'tua'},\n",
       "         strip_accents='unicode', sublinear_tf=1, token_pattern='\\\\w{1,}',\n",
       "         tokenizer=None, use_idf=True, vocabulary=None),\n",
       " TfidfVectorizer(analyzer='word', binary=False, decode_error='strict',\n",
       "         dtype=<class 'numpy.int64'>, encoding='utf-8', input='content',\n",
       "         lowercase=True, max_df=1.0, max_features=3000, min_df=3,\n",
       "         ngram_range=(1, 3), norm='l2', preprocessor=None, smooth_idf=True,\n",
       "         stop_words={'houveríamos', 'seríamos', 'tiveram', 'tivessem', 'haja', 'fôramos', 'fossem', 'mesmo', 'houvesse', 'havemos', 'teve', 'pelo', 'lhes', 'esteja', 'do', 'houveria', 'houverão', 'seria', 'tivemos', 'nosso', 'temos', 'sou', 'até', 'houveriam', 'fôssemos', 'o', 'numa', 'só', 'nos', 'tivéramos...sto', 'estivermos', 'tem', 'me', 'estou', 'qual', 'estiverem', 'hajam', 'para', 'sua', 'fui', 'tua'},\n",
       "         strip_accents='unicode', sublinear_tf=1, token_pattern='\\\\w{1,}',\n",
       "         tokenizer=None, use_idf=True, vocabulary=None))"
      ]
     },
     "execution_count": 18,
     "metadata": {},
     "output_type": "execute_result"
    }
   ],
   "source": [
    "tfidf.fit(Xtrain), tfidf.fit(Xtest)"
   ]
  },
  {
   "cell_type": "code",
   "execution_count": 19,
   "metadata": {},
   "outputs": [],
   "source": [
    "Xtrain_tfidf = tfidf.transform(Xtrain)\n",
    "Xtest_tfidf = tfidf.transform(Xtest)"
   ]
  },
  {
   "cell_type": "code",
   "execution_count": 20,
   "metadata": {},
   "outputs": [],
   "source": [
    "from sklearn.linear_model import LogisticRegression"
   ]
  },
  {
   "cell_type": "code",
   "execution_count": 21,
   "metadata": {},
   "outputs": [],
   "source": [
    "classif = LogisticRegression()\n",
    "classif.fit(Xtrain_tfidf, Ytrain)\n",
    "pred = classif.predict_proba(Xtest_tfidf)"
   ]
  },
  {
   "cell_type": "code",
   "execution_count": 22,
   "metadata": {},
   "outputs": [],
   "source": [
    "def multiclass_logloss(actual, predicted, eps=1e-15):\n",
    "    \"\"\"Multi class version of Logarithmic Loss metric.\n",
    "    :param actual: Array containing the actual target classes\n",
    "    :param predicted: Matrix with class predictions, one probability per class\n",
    "    \"\"\"\n",
    "    # Convert 'actual' to a binary array if it's not already:\n",
    "    if len(actual.shape) == 1:\n",
    "        actual2 = np.zeros((actual.shape[0], predicted.shape[1]))\n",
    "        for i, val in enumerate(actual):\n",
    "            actual2[i, val] = 1\n",
    "        actual = actual2\n",
    "\n",
    "    clip = np.clip(predicted, eps, 1 - eps)\n",
    "    rows = actual.shape[0]\n",
    "    vsota = np.sum(actual * np.log(clip))\n",
    "    return -1.0 / rows * vsota"
   ]
  },
  {
   "cell_type": "code",
   "execution_count": 23,
   "metadata": {},
   "outputs": [
    {
     "name": "stdout",
     "output_type": "stream",
     "text": [
      "Log loss: 0.1491692011229601\n"
     ]
    }
   ],
   "source": [
    "loss1 = multiclass_logloss(Ytest, pred)\n",
    "print('Log loss: {}'.format(loss1))"
   ]
  },
  {
   "cell_type": "code",
   "execution_count": 24,
   "metadata": {},
   "outputs": [],
   "source": [
    "y_pred_tfidf = classif.predict(Xtest_tfidf)"
   ]
  },
  {
   "cell_type": "code",
   "execution_count": 25,
   "metadata": {},
   "outputs": [],
   "source": [
    "from sklearn.metrics import confusion_matrix"
   ]
  },
  {
   "cell_type": "code",
   "execution_count": 26,
   "metadata": {},
   "outputs": [
    {
     "name": "stdout",
     "output_type": "stream",
     "text": [
      "[[6401   23]\n",
      " [ 361  672]]\n"
     ]
    }
   ],
   "source": [
    "y_pred_tfidf = classif.predict(Xtest_tfidf)\n",
    "confmat = confusion_matrix(y_true=Ytest, y_pred=y_pred_tfidf)\n",
    "print(confmat)"
   ]
  },
  {
   "cell_type": "code",
   "execution_count": 27,
   "metadata": {},
   "outputs": [
    {
     "data": {
      "image/png": "[encoded data removed]",
      "text/plain": [
       "<matplotlib.figure.Figure at 0x14ac3778828>"
      ]
     },
     "metadata": {},
     "output_type": "display_data"
    }
   ],
   "source": [
    "fig, ax = plt.subplots(figsize=(2.5, 2.5))\n",
    "ax.matshow(confmat, cmap=plt.cm.Blues, alpha=0.3)\n",
    "for i in range(confmat.shape[0]):\n",
    "    for j in range(confmat.shape[1]):\n",
    "        ax.text(x=j, y=i, s=confmat[i, j], va='center', ha='center')\n",
    "\n",
    "plt.xlabel('Classe Prevista')\n",
    "plt.ylabel('Classe Verdadeira')\n",
    "\n",
    "plt.tight_layout()\n",
    "plt.show()"
   ]
  },
  {
   "cell_type": "code",
   "execution_count": 28,
   "metadata": {},
   "outputs": [
    {
     "data": {
      "text/plain": [
       "0.9485047606275983"
      ]
     },
     "execution_count": 28,
     "metadata": {},
     "output_type": "execute_result"
    }
   ],
   "source": [
    "accuracy1 = classif.score(Xtest_tfidf, Ytest)\n",
    "accuracy1"
   ]
  },
  {
   "cell_type": "code",
   "execution_count": 29,
   "metadata": {},
   "outputs": [],
   "source": [
    "from sklearn.metrics import precision_score, recall_score, f1_score"
   ]
  },
  {
   "cell_type": "code",
   "execution_count": 30,
   "metadata": {},
   "outputs": [
    {
     "name": "stdout",
     "output_type": "stream",
     "text": [
      "Precision: 0.967\n",
      "Recall: 0.651\n",
      "F1: 0.778\n"
     ]
    }
   ],
   "source": [
    "print('Precision: %.3f' % precision_score(y_true=Ytest, y_pred=y_pred_tfidf))\n",
    "print('Recall: %.3f' % recall_score(y_true=Ytest, y_pred=y_pred_tfidf))\n",
    "print('F1: %.3f' % f1_score(y_true=Ytest, y_pred=y_pred_tfidf))"
   ]
  },
  {
   "cell_type": "code",
   "execution_count": 31,
   "metadata": {},
   "outputs": [
    {
     "name": "stdout",
     "output_type": "stream",
     "text": [
      "             precision    recall  f1-score   support\n",
      "\n",
      "          0       0.95      1.00      0.97      6424\n",
      "          1       0.97      0.65      0.78      1033\n",
      "\n",
      "avg / total       0.95      0.95      0.94      7457\n",
      "\n"
     ]
    }
   ],
   "source": [
    "from sklearn.metrics import classification_report\n",
    "print(classification_report(Ytest, y_pred_tfidf))"
   ]
  },
  {
   "cell_type": "code",
   "execution_count": 32,
   "metadata": {},
   "outputs": [],
   "source": [
    "y_proba = classif.predict_proba(Xtest_tfidf)"
   ]
  },
  {
   "cell_type": "code",
   "execution_count": 33,
   "metadata": {},
   "outputs": [],
   "source": [
    "y_proba = y_proba[:,0]"
   ]
  },
  {
   "cell_type": "code",
   "execution_count": 34,
   "metadata": {},
   "outputs": [
    {
     "data": {
      "text/plain": [
       "array([0.97184747, 0.99592477, 0.95394509, ..., 0.96052113, 0.98394003,\n",
       "       0.9175237 ])"
      ]
     },
     "execution_count": 34,
     "metadata": {},
     "output_type": "execute_result"
    }
   ],
   "source": [
    "y_proba"
   ]
  },
  {
   "cell_type": "code",
   "execution_count": 35,
   "metadata": {},
   "outputs": [
    {
     "data": {
      "text/plain": [
       "0.9067989808233874"
      ]
     },
     "execution_count": 35,
     "metadata": {},
     "output_type": "execute_result"
    }
   ],
   "source": [
    "1 - y_pred_tfidf.mean()"
   ]
  },
  {
   "cell_type": "code",
   "execution_count": 36,
   "metadata": {},
   "outputs": [
    {
     "data": {
      "text/plain": [
       "0.9067989808233874"
      ]
     },
     "execution_count": 36,
     "metadata": {},
     "output_type": "execute_result"
    }
   ],
   "source": [
    "sum(y_proba > 0.5)/len(y_proba)"
   ]
  },
  {
   "cell_type": "code",
   "execution_count": 37,
   "metadata": {},
   "outputs": [
    {
     "data": {
      "text/plain": [
       "array([0, 0, 0, ..., 0, 0, 0], dtype=int64)"
      ]
     },
     "execution_count": 37,
     "metadata": {},
     "output_type": "execute_result"
    }
   ],
   "source": [
    "Ytest"
   ]
  },
  {
   "cell_type": "markdown",
   "metadata": {},
   "source": [
    "## Finding the most important features"
   ]
  },
  {
   "cell_type": "markdown",
   "metadata": {},
   "source": [
    "Task: be able to extract qualitative info to explain which characteristics of the news texts are more relevant to the classification."
   ]
  },
  {
   "cell_type": "markdown",
   "metadata": {},
   "source": [
    "### Logistic Regression with cutoff point $\\neq$ 0.5"
   ]
  },
  {
   "cell_type": "code",
   "execution_count": 108,
   "metadata": {},
   "outputs": [
    {
     "data": {
      "text/plain": [
       "array([[ 807,  226],\n",
       "       [  84, 6340]], dtype=int64)"
      ]
     },
     "execution_count": 108,
     "metadata": {},
     "output_type": "execute_result"
    }
   ],
   "source": [
    "#define new cutoff \n",
    "cutoff = 0.31\n",
    "\n",
    "y_proba = classif.predict_proba(Xtest_tfidf)\n",
    "p0 = y_proba[:,0]\n",
    "p1 = 1 - p0\n",
    "estim = p1 > cutoff\n",
    "\n",
    "index0 = (estim == 0).nonzero()\n",
    "true0 = Ytest[index0]\n",
    "estim0 = estim[index0]\n",
    "\n",
    "FN = true0.sum()\n",
    "\n",
    "index1 = ((1 - estim) == 0).nonzero()\n",
    "true1 = Ytest[index1]\n",
    "estim1 = estim[index1]\n",
    "\n",
    "FP = len(true1) - true1.sum()\n",
    "\n",
    "TP = true1.sum()\n",
    "TN = len(true0) - true0.sum()\n",
    "\n",
    "accuracy = (TP+TN)/(TP+TN+FN+FP)\n",
    "\n",
    "np.array([[TP,FN],[FP,TN]])"
   ]
  },
  {
   "cell_type": "code",
   "execution_count": 39,
   "metadata": {},
   "outputs": [
    {
     "data": {
      "text/plain": [
       "0.9584283223816549"
      ]
     },
     "execution_count": 39,
     "metadata": {},
     "output_type": "execute_result"
    }
   ],
   "source": [
    "accuracy"
   ]
  },
  {
   "cell_type": "code",
   "execution_count": 97,
   "metadata": {},
   "outputs": [],
   "source": [
    "class Cutoff_logreg_init:\n",
    "    \n",
    "    def __init__(self, cutoff, model, x, Y):\n",
    "    \n",
    "        self.cutoff = cutoff\n",
    "        self.model = model\n",
    "        self.x = x\n",
    "        self.Y = Y\n",
    "        self.y_proba = model.predict_proba(self.x)\n",
    "    \n",
    "    def prob_0(self):\n",
    "        '''probability of y_hat == 0'''\n",
    "        return  self.y_proba[:,0]\n",
    "    \n",
    "    def prob_1(self):\n",
    "        '''probability of y_hat == 1'''\n",
    "        return 1 - self.y_proba[:,0]\n"
   ]
  },
  {
   "cell_type": "code",
   "execution_count": 99,
   "metadata": {},
   "outputs": [],
   "source": [
    "class Cutoff_logreg_pred(Cutoff_logreg_init):\n",
    "    \n",
    "    def __init__(self, cutoff, model, x, Y):\n",
    "        Cutoff_logreg_init.__init__(self, cutoff, model, x, Y)\n",
    "        \n",
    "    def estim(self):\n",
    "        return (1 - self.prob_0()) > self.cutoff\n",
    "    \n",
    "    def pred_0(self):\n",
    "        return ((self.prob_1() > self.cutoff) == 0).nonzero()\n",
    "    \n",
    "    def pred_1(self):\n",
    "        return ((1 - (self.prob_1() > self.cutoff)) == 0).nonzero()"
   ]
  },
  {
   "cell_type": "code",
   "execution_count": 101,
   "metadata": {},
   "outputs": [],
   "source": [
    "class Cutoff_logreg_values(Cutoff_logreg):\n",
    "    \n",
    "    def __init__(self, cutoff, model, x, Y):\n",
    "        Cutoff_logreg_pred.__init__(self, cutoff, model, x, Y)\n",
    "    \n",
    "    def true_0(self):\n",
    "        return self.Y[self.pred_0()]\n",
    "    \n",
    "    def true_1(self):\n",
    "        return self.Y[self.pred_1()]\n",
    "    \n",
    "    def estim_0(self):\n",
    "        return self.estim()[self.pred_0()]\n",
    "    \n",
    "    def estim_1(self):\n",
    "        return self.estim()[self.pred_1()]"
   ]
  },
  {
   "cell_type": "code",
   "execution_count": 103,
   "metadata": {},
   "outputs": [],
   "source": [
    "class Cutoff_logreg_confmat_values(Cutoff_logreg_values):\n",
    "    \n",
    "    def __init__(self, cutoff, model, x, Y):\n",
    "        Cutoff_logreg_values.__init__(self, cutoff, model, x, Y)\n",
    "    \n",
    "    def FN(self):\n",
    "        return self.true_0().sum()\n",
    "    \n",
    "    def FP(self):\n",
    "        return len(self.true_1()) - self.true_1().sum()\n",
    "    \n",
    "    def TP(self):\n",
    "        return self.true_1().sum()\n",
    "    \n",
    "    def TN(self):\n",
    "        return len(self.true_0()) - self.true_0().sum()"
   ]
  },
  {
   "cell_type": "code",
   "execution_count": 105,
   "metadata": {},
   "outputs": [],
   "source": [
    "class Cutoff_logreg(Cutoff_logreg_confmat_values):\n",
    "    \n",
    "    def __init__(self, cutoff, model, x, Y):\n",
    "        Cutoff_logreg_confmat_values.__init__(self, cutoff, model, x, Y)\n",
    "    \n",
    "    def confusion_matrix(self):\n",
    "        return (np.array([[self.TP(), self.FN()],\n",
    "                          [self.FP(), self.TN()]]))\n",
    "    \n",
    "    def accuracy(self):\n",
    "        return (self.TP() + self.TN())/(self.TP() + self.TN() + self.FN() + self.FP())"
   ]
  },
  {
   "cell_type": "code",
   "execution_count": 112,
   "metadata": {},
   "outputs": [
    {
     "data": {
      "text/plain": [
       "array([[ 807,  226],\n",
       "       [  84, 6340]], dtype=int64)"
      ]
     },
     "execution_count": 112,
     "metadata": {},
     "output_type": "execute_result"
    }
   ],
   "source": [
    "Cutoff_logreg(0.31, classif, Xtest_tfidf, Ytest).confusion_matrix()"
   ]
  },
  {
   "cell_type": "code",
   "execution_count": 114,
   "metadata": {},
   "outputs": [
    {
     "data": {
      "text/plain": [
       "0.9584283223816549"
      ]
     },
     "execution_count": 114,
     "metadata": {},
     "output_type": "execute_result"
    }
   ],
   "source": [
    "Cutoff_logreg(0.31, classif, Xtest_tfidf, Ytest).accuracy()"
   ]
  },
  {
   "cell_type": "code",
   "execution_count": 116,
   "metadata": {},
   "outputs": [],
   "source": [
    "possible_cutoffs = np.linspace(0,0.99,1000)"
   ]
  },
  {
   "cell_type": "code",
   "execution_count": 119,
   "metadata": {},
   "outputs": [],
   "source": [
    "accuracies = map(lambda x : Cutoff_logreg(x, classif, Xtest_tfidf, Ytest).accuracy(), possible_cutoffs)"
   ]
  },
  {
   "cell_type": "code",
   "execution_count": 120,
   "metadata": {},
   "outputs": [
    {
     "data": {
      "text/plain": [
       "[<matplotlib.lines.Line2D at 0x14ac494e390>]"
      ]
     },
     "execution_count": 120,
     "metadata": {},
     "output_type": "execute_result"
    },
    {
     "data": {
      "image/png": "[encoded data removed]",
      "text/plain": [
       "<matplotlib.figure.Figure at 0x14ac4e14630>"
      ]
     },
     "metadata": {},
     "output_type": "display_data"
    }
   ],
   "source": [
    "plt.plot(possible_cutoffs, list(accuracies))"
   ]
  },
  {
   "cell_type": "code",
   "execution_count": 122,
   "metadata": {},
   "outputs": [],
   "source": [
    "accuracies = map(lambda x : Cutoff_logreg(x, classif, Xtest_tfidf, Ytest).accuracy(), possible_cutoffs)\n",
    "acc = np.array((list(accuracies)))"
   ]
  },
  {
   "cell_type": "code",
   "execution_count": 123,
   "metadata": {},
   "outputs": [],
   "source": [
    "best_cutoff_1, best_accuracy_1 = (possible_cutoffs[acc.argmax()], acc.max())"
   ]
  },
  {
   "cell_type": "code",
   "execution_count": 163,
   "metadata": {},
   "outputs": [
    {
     "data": {
      "text/plain": [
       "0.9591"
      ]
     },
     "execution_count": 163,
     "metadata": {},
     "output_type": "execute_result"
    }
   ],
   "source": [
    "best_accuracy_1.round(4)"
   ]
  },
  {
   "cell_type": "code",
   "execution_count": 129,
   "metadata": {},
   "outputs": [
    {
     "data": {
      "text/plain": [
       "0.3042"
      ]
     },
     "execution_count": 129,
     "metadata": {},
     "output_type": "execute_result"
    }
   ],
   "source": [
    "best_cutoff_1.round(4)"
   ]
  },
  {
   "cell_type": "markdown",
   "metadata": {},
   "source": [
    "## Count Vectorizer"
   ]
  },
  {
   "cell_type": "code",
   "execution_count": 130,
   "metadata": {},
   "outputs": [],
   "source": [
    "from sklearn.feature_extraction.text import CountVectorizer"
   ]
  },
  {
   "cell_type": "code",
   "execution_count": 131,
   "metadata": {},
   "outputs": [],
   "source": [
    "cvt = CountVectorizer(analyzer='word',token_pattern=r'\\w{1,}',\n",
    "            ngram_range=(1, 3), stop_words = pt_stopwords)"
   ]
  },
  {
   "cell_type": "code",
   "execution_count": 132,
   "metadata": {},
   "outputs": [
    {
     "data": {
      "text/plain": [
       "CountVectorizer(analyzer='word', binary=False, decode_error='strict',\n",
       "        dtype=<class 'numpy.int64'>, encoding='utf-8', input='content',\n",
       "        lowercase=True, max_df=1.0, max_features=None, min_df=1,\n",
       "        ngram_range=(1, 3), preprocessor=None,\n",
       "        stop_words={'houveríamos', 'seríamos', 'tiveram', 'tivessem', 'haja', 'fôramos', 'fossem', 'mesmo', 'houvesse', 'havemos', 'teve', 'pelo', 'lhes', 'esteja', 'do', 'houveria', 'houverão', 'seria', 'tivemos', 'nosso', 'temos', 'sou', 'até', 'houveriam', 'fôssemos', 'o', 'numa', 'só', 'nos', 'tivéramos...sto', 'estivermos', 'tem', 'me', 'estou', 'qual', 'estiverem', 'hajam', 'para', 'sua', 'fui', 'tua'},\n",
       "        strip_accents=None, token_pattern='\\\\w{1,}', tokenizer=None,\n",
       "        vocabulary=None)"
      ]
     },
     "execution_count": 132,
     "metadata": {},
     "output_type": "execute_result"
    }
   ],
   "source": [
    "cvt.fit(Xtrain)\n",
    "cvt.fit(Xtest)"
   ]
  },
  {
   "cell_type": "code",
   "execution_count": 133,
   "metadata": {},
   "outputs": [],
   "source": [
    "Xtrain_cvt = cvt.transform(Xtrain)\n",
    "Xtest_cvt = cvt.transform(Xtest)"
   ]
  },
  {
   "cell_type": "code",
   "execution_count": 134,
   "metadata": {},
   "outputs": [],
   "source": [
    "classif2 = LogisticRegression()\n",
    "classif2.fit(Xtrain_cvt, Ytrain)\n",
    "pred2 = classif2.predict_proba(Xtest_cvt)"
   ]
  },
  {
   "cell_type": "code",
   "execution_count": 135,
   "metadata": {},
   "outputs": [
    {
     "name": "stdout",
     "output_type": "stream",
     "text": [
      "Log loss: 0.0892299355213839\n",
      "Log loss improvement: 0.05993926560157618\n"
     ]
    }
   ],
   "source": [
    "loss2 = multiclass_logloss(Ytest, pred2)\n",
    "print('Log loss: {}'.format(loss2))\n",
    "print('Log loss improvement: {}'.format(loss1 - loss2))"
   ]
  },
  {
   "cell_type": "code",
   "execution_count": 136,
   "metadata": {},
   "outputs": [
    {
     "name": "stdout",
     "output_type": "stream",
     "text": [
      "[[6405   19]\n",
      " [ 197  836]]\n"
     ]
    }
   ],
   "source": [
    "y_pred_cvt = classif2.predict(Xtest_cvt)\n",
    "confmat = confusion_matrix(y_true=Ytest, y_pred=y_pred_cvt)\n",
    "print(confmat)"
   ]
  },
  {
   "cell_type": "code",
   "execution_count": 137,
   "metadata": {},
   "outputs": [
    {
     "data": {
      "image/png": "[encoded data removed]",
      "text/plain": [
       "<matplotlib.figure.Figure at 0x14ac49fc668>"
      ]
     },
     "metadata": {},
     "output_type": "display_data"
    }
   ],
   "source": [
    "fig, ax = plt.subplots(figsize=(2.5, 2.5))\n",
    "ax.matshow(confmat, cmap=plt.cm.Blues, alpha=0.3)\n",
    "for i in range(confmat.shape[0]):\n",
    "    for j in range(confmat.shape[1]):\n",
    "        ax.text(x=j, y=i, s=confmat[i, j], va='center', ha='center')\n",
    "\n",
    "plt.xlabel('Predicted Class')\n",
    "plt.ylabel('True Class')\n",
    "\n",
    "plt.tight_layout()\n",
    "plt.show()"
   ]
  },
  {
   "cell_type": "code",
   "execution_count": 162,
   "metadata": {},
   "outputs": [
    {
     "data": {
      "text/plain": [
       "0.971"
      ]
     },
     "execution_count": 162,
     "metadata": {},
     "output_type": "execute_result"
    }
   ],
   "source": [
    "accuracy2 = classif2.score(Xtest_cvt, Ytest)\n",
    "accuracy2.round(4)"
   ]
  },
  {
   "cell_type": "code",
   "execution_count": 139,
   "metadata": {},
   "outputs": [
    {
     "name": "stdout",
     "output_type": "stream",
     "text": [
      "Precision: 0.978\n",
      "Recall: 0.809\n",
      "F1: 0.886\n"
     ]
    }
   ],
   "source": [
    "from sklearn.metrics import precision_score, recall_score, f1_score\n",
    "\n",
    "print('Precision: %.3f' % precision_score(y_true=Ytest, y_pred=y_pred_cvt))\n",
    "print('Recall: %.3f' % recall_score(y_true=Ytest, y_pred=y_pred_cvt))\n",
    "print('F1: %.3f' % f1_score(y_true=Ytest, y_pred=y_pred_cvt))"
   ]
  },
  {
   "cell_type": "code",
   "execution_count": 141,
   "metadata": {},
   "outputs": [
    {
     "name": "stdout",
     "output_type": "stream",
     "text": [
      "             precision    recall  f1-score   support\n",
      "\n",
      "          0       0.97      1.00      0.98      6424\n",
      "          1       0.98      0.81      0.89      1033\n",
      "\n",
      "avg / total       0.97      0.97      0.97      7457\n",
      "\n"
     ]
    }
   ],
   "source": [
    "from sklearn.metrics import classification_report\n",
    "print(classification_report(Ytest, y_pred_cvt))"
   ]
  },
  {
   "cell_type": "code",
   "execution_count": 142,
   "metadata": {},
   "outputs": [],
   "source": [
    "#OPTIMIZE CUTOFF PARAMETER"
   ]
  },
  {
   "cell_type": "code",
   "execution_count": 143,
   "metadata": {},
   "outputs": [],
   "source": [
    "possible_cutoffs = np.linspace(0,0.99,1000)"
   ]
  },
  {
   "cell_type": "code",
   "execution_count": 153,
   "metadata": {},
   "outputs": [],
   "source": [
    "accuracies = map(lambda x : Cutoff_logreg(x, classif2, Xtest_cvt, Ytest).accuracy(), possible_cutoffs)"
   ]
  },
  {
   "cell_type": "code",
   "execution_count": 154,
   "metadata": {},
   "outputs": [
    {
     "data": {
      "text/plain": [
       "[<matplotlib.lines.Line2D at 0x14ac5e2b5f8>]"
      ]
     },
     "execution_count": 154,
     "metadata": {},
     "output_type": "execute_result"
    },
    {
     "data": {
      "image/png": "[encoded data removed]",
      "text/plain": [
       "<matplotlib.figure.Figure at 0x14ac4343160>"
      ]
     },
     "metadata": {},
     "output_type": "display_data"
    }
   ],
   "source": [
    "plt.plot(possible_cutoffs, list(accuracies))"
   ]
  },
  {
   "cell_type": "code",
   "execution_count": 212,
   "metadata": {},
   "outputs": [],
   "source": [
    "accuracies = map(lambda x : Cutoff_logreg(x, classif2, Xtest_cvt, Ytest).accuracy(), possible_cutoffs)\n",
    "acc = np.array((list(accuracies)))"
   ]
  },
  {
   "cell_type": "code",
   "execution_count": 213,
   "metadata": {},
   "outputs": [],
   "source": [
    "best_cutoff_2, best_accuracy_2 = (possible_cutoffs[acc.argmax()], acc.max())"
   ]
  },
  {
   "cell_type": "code",
   "execution_count": 214,
   "metadata": {},
   "outputs": [
    {
     "data": {
      "text/plain": [
       "0.9765"
      ]
     },
     "execution_count": 214,
     "metadata": {},
     "output_type": "execute_result"
    }
   ],
   "source": [
    "best_accuracy_2.round(4)"
   ]
  },
  {
   "cell_type": "code",
   "execution_count": 160,
   "metadata": {},
   "outputs": [
    {
     "data": {
      "text/plain": [
       "0.2834"
      ]
     },
     "execution_count": 160,
     "metadata": {},
     "output_type": "execute_result"
    }
   ],
   "source": [
    "best_cutoff_2.round(4)"
   ]
  },
  {
   "cell_type": "markdown",
   "metadata": {},
   "source": [
    "## SVM"
   ]
  },
  {
   "cell_type": "code",
   "execution_count": 164,
   "metadata": {},
   "outputs": [],
   "source": [
    "#first reduce dimensionality of tfidf using singular value decomposition\n",
    "from sklearn import decomposition"
   ]
  },
  {
   "cell_type": "code",
   "execution_count": 165,
   "metadata": {},
   "outputs": [],
   "source": [
    "svd = decomposition.TruncatedSVD(n_components = 120)\n",
    "svd.fit(Xtrain_tfidf)\n",
    "Xtrain_svd = svd.transform(Xtrain_tfidf)\n",
    "Xtest_svd = svd.transform(Xtest_tfidf)"
   ]
  },
  {
   "cell_type": "code",
   "execution_count": 166,
   "metadata": {},
   "outputs": [],
   "source": [
    "# Scale the data obtained from SVD. Renaming variable to reuse without scaling.\n",
    "from sklearn import preprocessing"
   ]
  },
  {
   "cell_type": "code",
   "execution_count": 167,
   "metadata": {},
   "outputs": [],
   "source": [
    "scaler = preprocessing.StandardScaler()\n",
    "scaler.fit(Xtrain_svd)\n",
    "Xtrain_svd_scaled = scaler.transform(Xtrain_svd)\n",
    "Xtest_svd_scaled = scaler.transform(Xtest_svd)"
   ]
  },
  {
   "cell_type": "code",
   "execution_count": 168,
   "metadata": {},
   "outputs": [],
   "source": [
    "#Apply SVM\n",
    "from sklearn.svm import SVC"
   ]
  },
  {
   "cell_type": "code",
   "execution_count": null,
   "metadata": {},
   "outputs": [],
   "source": [
    "classif3_linear = SVC(probability=True, kernel = 'linear')\n",
    "classif3_poly = SVC(probability=True, kernel = 'poly')\n",
    "classif3_rbf = SVC(probability=True, kernel = 'rbf')\n",
    "\n",
    "classif3_list = [classif3_linear, classif3_poly, classif3_rbf]\n",
    "classif3_fit = list(map(lambda model:model.fit(Xtrain_tfidf, Ytrain), [classif1] )"
   ]
  },
  {
   "cell_type": "code",
   "execution_count": 458,
   "metadata": {},
   "outputs": [],
   "source": [
    "classif3_linear = SVC(probability=True, kernel = 'linear')\n",
    "classif3_poly = SVC(probability=True, kernel = 'poly')\n",
    "classif3_rbf = SVC(probability=True, kernel = 'rbf')\n",
    "\n",
    "classif3_list = [classif3_linear, classif3_poly, classif3_rbf]\n",
    "\n",
    "classif3_fit = list(map(lambda model:model.fit(Xtrain_svd_scaled, Ytrain)))\n",
    "classif3_predict = list(map(lambda model:model.predict_proba(Xtest_svd_scaled)))\n",
    "classif3_score = list(map(lambda model:model.score(Xtest_svd_scaled, Ytest)))"
   ]
  },
  {
   "cell_type": "code",
   "execution_count": 457,
   "metadata": {},
   "outputs": [
    {
     "name": "stdout",
     "output_type": "stream",
     "text": [
      "Log loss - Linear Kernel: 0.23777673570918703\n",
      "Log loss - Polynomial Kernel: 0.2747356400797606\n",
      "Log loss - RBF Kernel: 0.19813123795831222\n",
      "Log loss improvement - Linear Kernel: -0.14854680018780314\n",
      "Log loss improvement - Polynomial Kernel:: -0.18550570455837667\n",
      "Log loss improvement - RBF Kernel:-0.10890130243692832\n"
     ]
    }
   ],
   "source": [
    "loss3_linear, loss3_poly, loss3_rbf = list(map(lambda model:multiclass_logloss(Ytest, model),\n",
    "                                                                          classif3_predict))\n",
    "print('Log loss - Linear Kernel: {}'.format(loss3_linear))\n",
    "print('Log loss - Polynomial Kernel: {}'.format(loss3_poly))\n",
    "print('Log loss - RBF Kernel: {}'.format(loss3_rbf))"
   ]
  },
  {
   "cell_type": "code",
   "execution_count": null,
   "metadata": {},
   "outputs": [],
   "source": [
    "print('Log loss improvement - Linear Kernel: {}'.format(loss2 - loss3_linear))\n",
    "print('Log loss improvement - Polynomial Kernel:: {}'.format(loss2 - loss3_poly))\n",
    "print('Log loss improvement - RBF Kernel:{}'.format(loss2 - loss3_rbf))"
   ]
  },
  {
   "cell_type": "markdown",
   "metadata": {},
   "source": [
    "## Summary table"
   ]
  },
  {
   "cell_type": "code",
   "execution_count": 300,
   "metadata": {},
   "outputs": [],
   "source": [
    "class Summary:\n",
    "    \n",
    "    '''\n",
    "    models_str = list of models to avaliate (string visualisation)\n",
    "    models = list of classifier objects to pair models_str\n",
    "    Ypred = Ypredicted for each model\n",
    "    Ytest = True Y in test set\n",
    "    Xtest_t, Xtest transformed for each model\n",
    "    '''\n",
    "    \n",
    "    def __init__(self, models, Ypred, Ytest, Xtest_t):\n",
    "        #self.models_str = models_str\n",
    "        self.models = models\n",
    "        self.Ypred = Ypred\n",
    "        self.Ytest = Ytest\n",
    "        self.Xtest_t = Xtest_t\n",
    "        self.df = pd.DataFrame(columns = ['Model','Accuracy', 'Log-loss', 'Precision','Recall','F1'])\n",
    "\n",
    "        \n",
    "    def accuracies(self):\n",
    "        \n",
    "        acc_list = []\n",
    "        \n",
    "        for i in list(zip(self.models, self.Xtest_t)):\n",
    "            acc_list.append(i[0].score(i[1], self.Ytest))\n",
    "        \n",
    "        return acc_list\n",
    "    \n",
    "    def logloss(self):    \n",
    "        \n",
    "        probas = []\n",
    "        \n",
    "        for j in list(zip(self.models, self.Xtest_t)):\n",
    "            probas.append(j[0].predict_proba(j[1]))\n",
    "            \n",
    "        loss_map = map(lambda y : multiclass_logloss(Ytest, y), probas)\n",
    "        return list(loss_map)\n",
    "            \n",
    "    def precision(self):\n",
    "        \n",
    "        precision_map = map(lambda y : precision_score(y_true=self.Ytest, y_pred=y), self.Ypred)\n",
    "        return list(precision_map)\n",
    "     \n",
    "    def recall(self):\n",
    "        \n",
    "        recall_map = map(lambda y : recall_score(y_true=self.Ytest, y_pred=y), self.Ypred)\n",
    "        return list(recall_map)\n",
    "    \n",
    "    def f1(self):\n",
    "        \n",
    "        f1_map = map(lambda y : f1_score(y_true=self.Ytest, y_pred=y), self.Ypred)\n",
    "        return list(f1_map)   "
   ]
  },
  {
   "cell_type": "code",
   "execution_count": 287,
   "metadata": {},
   "outputs": [
    {
     "data": {
      "text/html": [
       "<div>\n",
       "<style scoped>\n",
       "    .dataframe tbody tr th:only-of-type {\n",
       "        vertical-align: middle;\n",
       "    }\n",
       "\n",
       "    .dataframe tbody tr th {\n",
       "        vertical-align: top;\n",
       "    }\n",
       "\n",
       "    .dataframe thead th {\n",
       "        text-align: right;\n",
       "    }\n",
       "</style>\n",
       "<table border=\"1\" class=\"dataframe\">\n",
       "  <thead>\n",
       "    <tr style=\"text-align: right;\">\n",
       "      <th></th>\n",
       "      <th>Model</th>\n",
       "      <th>Accuracy</th>\n",
       "      <th>Precision</th>\n",
       "      <th>Recall</th>\n",
       "      <th>F1</th>\n",
       "    </tr>\n",
       "  </thead>\n",
       "  <tbody>\n",
       "  </tbody>\n",
       "</table>\n",
       "</div>"
      ],
      "text/plain": [
       "Empty DataFrame\n",
       "Columns: [Model, Accuracy, Precision, Recall, F1]\n",
       "Index: []"
      ]
     },
     "execution_count": 287,
     "metadata": {},
     "output_type": "execute_result"
    }
   ],
   "source": [
    "Summary([classif, classif2], [y_pred_tfidf, y_pred_cvt], \n",
    "        Ytest, [Xtest_tfidf, Xtest_cvt]).df"
   ]
  },
  {
   "cell_type": "code",
   "execution_count": 302,
   "metadata": {},
   "outputs": [],
   "source": [
    "class Summary_table(Summary):\n",
    "    \n",
    "    def __init__(self, models_str, models, Ypred, Ytest, Xtest_t, add = None):\n",
    "        Summary.__init__(self, models, Ypred, Ytest, Xtest_t)\n",
    "        self.models_str = models_str\n",
    "        self.add = add\n",
    "    \n",
    "    def apply(self):\n",
    "        self.df['Model'] = self.models_str\n",
    "        self.df['Accuracy'] = self.accuracies()\n",
    "        self.df['Log-loss'] = self.logloss()\n",
    "        self.df['Precision'] = self.precision()\n",
    "        self.df['Recall'] = self.recall()\n",
    "        self.df['F1'] = self.f1()\n",
    "        return self.df\n",
    "    "
   ]
  },
  {
   "cell_type": "code",
   "execution_count": 303,
   "metadata": {},
   "outputs": [
    {
     "data": {
      "text/html": [
       "<div>\n",
       "<style scoped>\n",
       "    .dataframe tbody tr th:only-of-type {\n",
       "        vertical-align: middle;\n",
       "    }\n",
       "\n",
       "    .dataframe tbody tr th {\n",
       "        vertical-align: top;\n",
       "    }\n",
       "\n",
       "    .dataframe thead th {\n",
       "        text-align: right;\n",
       "    }\n",
       "</style>\n",
       "<table border=\"1\" class=\"dataframe\">\n",
       "  <thead>\n",
       "    <tr style=\"text-align: right;\">\n",
       "      <th></th>\n",
       "      <th>Model</th>\n",
       "      <th>Accuracy</th>\n",
       "      <th>Log-loss</th>\n",
       "      <th>Precision</th>\n",
       "      <th>Recall</th>\n",
       "      <th>F1</th>\n",
       "    </tr>\n",
       "  </thead>\n",
       "  <tbody>\n",
       "    <tr>\n",
       "      <th>0</th>\n",
       "      <td>TDIDF</td>\n",
       "      <td>0.948505</td>\n",
       "      <td>0.149169</td>\n",
       "      <td>0.966906</td>\n",
       "      <td>0.650532</td>\n",
       "      <td>0.777778</td>\n",
       "    </tr>\n",
       "    <tr>\n",
       "      <th>1</th>\n",
       "      <td>CVT</td>\n",
       "      <td>0.971034</td>\n",
       "      <td>0.089230</td>\n",
       "      <td>0.977778</td>\n",
       "      <td>0.809293</td>\n",
       "      <td>0.885593</td>\n",
       "    </tr>\n",
       "  </tbody>\n",
       "</table>\n",
       "</div>"
      ],
      "text/plain": [
       "   Model  Accuracy  Log-loss  Precision    Recall        F1\n",
       "0  TDIDF  0.948505  0.149169   0.966906  0.650532  0.777778\n",
       "1    CVT  0.971034  0.089230   0.977778  0.809293  0.885593"
      ]
     },
     "execution_count": 303,
     "metadata": {},
     "output_type": "execute_result"
    }
   ],
   "source": [
    "Summary_table(['TDIDF','CVT'],[classif, classif2], [y_pred_tfidf, y_pred_cvt],\n",
    "              Ytest, [Xtest_tfidf, Xtest_cvt]).apply()"
   ]
  },
  {
   "cell_type": "code",
   "execution_count": 474,
   "metadata": {},
   "outputs": [],
   "source": [
    "models = ['Logistic Regression - TFIDF', 'Logistic Regression - CVT', 'SVM - Linear Kernel', \n",
    "             'SVM - Polynomial Kernel', 'SVM - RBF Kernel']\n",
    "loglosses = [loss1, loss2, loss3_linear, loss3_poly, loss3_rbf]\n",
    "accuracies = [accuracy1, accuracy2, accuracy3_linear, accuracy3_poly, accuracy3_rbf]\n",
    "accuracies_optimized = [best_accuracy_1, best_accuracy_2, '-', '-', '-']\n",
    "\n",
    "precisions = [precision_score(y_true=Ytest, y_pred=y_pred_tfidf),\n",
    "              precision_score(y_true=Ytest, y_pred=y_pred_cvt),\n",
    "              precision_score(y_true=Ytest, y_pred=classif3_linear.predict(Xtest_svd_scaled)),\n",
    "              precision_score(y_true=Ytest, y_pred=classif3_poly.predict(Xtest_svd_scaled)),\n",
    "              precision_score(y_true=Ytest, y_pred=classif3_rbf.predict(Xtest_svd_scaled))]\n",
    "\n",
    "recalls = precisions = [recall_score(y_true=Ytest, y_pred=y_pred_tfidf),\n",
    "                        recall_score(y_true=Ytest, y_pred=y_pred_cvt),\n",
    "                        recall_score(y_true=Ytest, y_pred=classif3_linear.predict(Xtest_svd_scaled)),\n",
    "                        recall_score(y_true=Ytest, y_pred=classif3_poly.predict(Xtest_svd_scaled)),\n",
    "                        recall_score(y_true=Ytest, y_pred=classif3_rbf.predict(Xtest_svd_scaled))]\n",
    "\n",
    "f1s = [f1_score(y_true=Ytest, y_pred=y_pred_tfidf),\n",
    "       f1_score(y_true=Ytest, y_pred=y_pred_cvt),\n",
    "       f1_score(y_true=Ytest, y_pred=classif3_linear.predict(Xtest_svd_scaled)),\n",
    "       f1_score(y_true=Ytest, y_pred=classif3_poly.predict(Xtest_svd_scaled)),\n",
    "       f1_score(y_true=Ytest, y_pred=classif3_rbf.predict(Xtest_svd_scaled))]"
   ]
  },
  {
   "cell_type": "code",
   "execution_count": 475,
   "metadata": {},
   "outputs": [],
   "source": [
    "summary_table = pd.DataFrame()"
   ]
  },
  {
   "cell_type": "code",
   "execution_count": 476,
   "metadata": {},
   "outputs": [],
   "source": [
    "summary_table['Model'] = models\n",
    "summary_table['Log-Loss'] = loglosses\n",
    "summary_table['Accuracy'] = accuracies\n",
    "summary_table['Optimized Accuracy'] = accuracies_optimized\n",
    "summary_table['Precision'] = precisions\n",
    "summary_table['Recall'] = recalls\n",
    "summary_table['F1'] = f1s"
   ]
  },
  {
   "cell_type": "code",
   "execution_count": 477,
   "metadata": {},
   "outputs": [
    {
     "data": {
      "text/html": [
       "<div>\n",
       "<style scoped>\n",
       "    .dataframe tbody tr th:only-of-type {\n",
       "        vertical-align: middle;\n",
       "    }\n",
       "\n",
       "    .dataframe tbody tr th {\n",
       "        vertical-align: top;\n",
       "    }\n",
       "\n",
       "    .dataframe thead th {\n",
       "        text-align: right;\n",
       "    }\n",
       "</style>\n",
       "<table border=\"1\" class=\"dataframe\">\n",
       "  <thead>\n",
       "    <tr style=\"text-align: right;\">\n",
       "      <th></th>\n",
       "      <th>Model</th>\n",
       "      <th>Log-Loss</th>\n",
       "      <th>Accuracy</th>\n",
       "      <th>Optimized Accuracy</th>\n",
       "      <th>Precision</th>\n",
       "      <th>Recall</th>\n",
       "      <th>F1</th>\n",
       "    </tr>\n",
       "  </thead>\n",
       "  <tbody>\n",
       "    <tr>\n",
       "      <th>0</th>\n",
       "      <td>Logistic Regression - TFIDF</td>\n",
       "      <td>0.148284</td>\n",
       "      <td>0.948102</td>\n",
       "      <td>0.962854</td>\n",
       "      <td>0.640852</td>\n",
       "      <td>0.640852</td>\n",
       "      <td>0.773816</td>\n",
       "    </tr>\n",
       "    <tr>\n",
       "      <th>1</th>\n",
       "      <td>Logistic Regression - CVT</td>\n",
       "      <td>0.089230</td>\n",
       "      <td>0.971034</td>\n",
       "      <td>0.976532</td>\n",
       "      <td>0.809293</td>\n",
       "      <td>0.809293</td>\n",
       "      <td>0.885593</td>\n",
       "    </tr>\n",
       "    <tr>\n",
       "      <th>2</th>\n",
       "      <td>SVM - Linear Kernel</td>\n",
       "      <td>0.237777</td>\n",
       "      <td>0.916454</td>\n",
       "      <td>-</td>\n",
       "      <td>0.483059</td>\n",
       "      <td>0.483059</td>\n",
       "      <td>0.615669</td>\n",
       "    </tr>\n",
       "    <tr>\n",
       "      <th>3</th>\n",
       "      <td>SVM - Polynomial Kernel</td>\n",
       "      <td>0.274736</td>\n",
       "      <td>0.914309</td>\n",
       "      <td>-</td>\n",
       "      <td>0.408519</td>\n",
       "      <td>0.408519</td>\n",
       "      <td>0.569117</td>\n",
       "    </tr>\n",
       "    <tr>\n",
       "      <th>4</th>\n",
       "      <td>SVM - RBF Kernel</td>\n",
       "      <td>0.198131</td>\n",
       "      <td>0.929865</td>\n",
       "      <td>-</td>\n",
       "      <td>0.564376</td>\n",
       "      <td>0.564376</td>\n",
       "      <td>0.690349</td>\n",
       "    </tr>\n",
       "  </tbody>\n",
       "</table>\n",
       "</div>"
      ],
      "text/plain": [
       "                         Model  Log-Loss  Accuracy Optimized Accuracy  \\\n",
       "0  Logistic Regression - TFIDF  0.148284  0.948102           0.962854   \n",
       "1    Logistic Regression - CVT  0.089230  0.971034           0.976532   \n",
       "2          SVM - Linear Kernel  0.237777  0.916454                  -   \n",
       "3      SVM - Polynomial Kernel  0.274736  0.914309                  -   \n",
       "4             SVM - RBF Kernel  0.198131  0.929865                  -   \n",
       "\n",
       "   Precision    Recall        F1  \n",
       "0   0.640852  0.640852  0.773816  \n",
       "1   0.809293  0.809293  0.885593  \n",
       "2   0.483059  0.483059  0.615669  \n",
       "3   0.408519  0.408519  0.569117  \n",
       "4   0.564376  0.564376  0.690349  "
      ]
     },
     "execution_count": 477,
     "metadata": {},
     "output_type": "execute_result"
    }
   ],
   "source": [
    "summary_table"
   ]
  },
  {
   "cell_type": "markdown",
   "metadata": {},
   "source": [
    "## Cross Validation for Logistic Regressions"
   ]
  },
  {
   "cell_type": "code",
   "execution_count": 346,
   "metadata": {},
   "outputs": [],
   "source": [
    "from sklearn.model_selection import cross_val_score"
   ]
  },
  {
   "cell_type": "code",
   "execution_count": 353,
   "metadata": {},
   "outputs": [
    {
     "name": "stdout",
     "output_type": "stream",
     "text": [
      "[0.91152815 0.91018767 0.92627346 0.91482227 0.91879195]\n",
      "Média dos Scores CV (K-NN): 0.9163206978766156\n"
     ]
    }
   ],
   "source": [
    "#TFIDF\n",
    "cv_scores = cross_val_score(classif, Xtest_tfidf, Ytest, cv=5)\n",
    "print(cv_scores)\n",
    "print(\"Média dos Scores CV: {}\".format(np.mean(cv_scores)))"
   ]
  },
  {
   "cell_type": "code",
   "execution_count": 354,
   "metadata": {},
   "outputs": [
    {
     "name": "stdout",
     "output_type": "stream",
     "text": [
      "[0.92359249 0.92225201 0.93431635 0.92219987 0.93087248]\n",
      "Média dos Scores CV (Reg. Logística): 0.9266466413984322\n"
     ]
    }
   ],
   "source": [
    "#CVT -> more accurate\n",
    "cv_scores = cross_val_score(classif2, Xtest_cvt, Ytest, cv=5)\n",
    "print(cv_scores)\n",
    "print(\"Média dos Scores CV (Reg. Logística): {}\".format(np.mean(cv_scores)))"
   ]
  },
  {
   "cell_type": "code",
   "execution_count": 352,
   "metadata": {},
   "outputs": [],
   "source": [
    "from sklearn.model_selection import cross_validate"
   ]
  },
  {
   "cell_type": "code",
   "execution_count": 361,
   "metadata": {},
   "outputs": [],
   "source": [
    "cv_metrics = cross_validate(classif2, Xtest_cvt, Ytest, cv=5, scoring=('precision', 'recall'))"
   ]
  },
  {
   "cell_type": "code",
   "execution_count": 362,
   "metadata": {},
   "outputs": [
    {
     "name": "stdout",
     "output_type": "stream",
     "text": [
      "Média das Precisions CV CVT : 0.9857638681698854\n",
      "Média das Recalls CV CVT : 0.4772477838750528\n"
     ]
    }
   ],
   "source": [
    "print(\"Média das Precisions CV CVT : {}\".format(np.mean(cv_metrics['test_precision'])))\n",
    "print(\"Média das Recalls CV CVT : {}\".format(np.mean(cv_metrics['test_recall'])))"
   ]
  },
  {
   "cell_type": "code",
   "execution_count": 363,
   "metadata": {},
   "outputs": [],
   "source": [
    "cv_metrics = cross_validate(classif, Xtest_tfidf, Ytest, cv=5, scoring=('precision', 'recall'))"
   ]
  },
  {
   "cell_type": "code",
   "execution_count": 364,
   "metadata": {},
   "outputs": [
    {
     "name": "stdout",
     "output_type": "stream",
     "text": [
      "Média das Precisions CV TFIDF: 0.9884766841216142\n",
      "Média das Recalls CV TFIDF: 0.40077388490220905\n"
     ]
    }
   ],
   "source": [
    "print(\"Média das Precisions CV TFIDF: {}\".format(np.mean(cv_metrics['test_precision'])))\n",
    "print(\"Média das Recalls CV TFIDF: {}\".format(np.mean(cv_metrics['test_recall'])))"
   ]
  },
  {
   "cell_type": "markdown",
   "metadata": {},
   "source": [
    "## Precision x Recall Tradeoff"
   ]
  },
  {
   "cell_type": "code",
   "execution_count": 365,
   "metadata": {},
   "outputs": [],
   "source": [
    "y_pred_tfidf = classif.predict_proba(Xtest_tfidf)[:,1]"
   ]
  },
  {
   "cell_type": "code",
   "execution_count": 366,
   "metadata": {},
   "outputs": [],
   "source": [
    "y_pred_cvt = classif2.predict_proba(Xtest_cvt)[:,1]"
   ]
  },
  {
   "cell_type": "code",
   "execution_count": 367,
   "metadata": {},
   "outputs": [
    {
     "name": "stdout",
     "output_type": "stream",
     "text": [
      "Média de precision-recall tfidf: 0.92\n",
      "Média de precision-recall cvt: 0.96\n"
     ]
    }
   ],
   "source": [
    "from sklearn.metrics import average_precision_score\n",
    "average_precision_tfidf = average_precision_score(Ytest, y_pred_tfidf)\n",
    "average_precision_cvt = average_precision_score(Ytest, y_pred_cvt)\n",
    "\n",
    "print('Média de precision-recall tfidf: {0:0.2f}'.format(\n",
    "      average_precision_tfidf))\n",
    "\n",
    "print('Média de precision-recall cvt: {0:0.2f}'.format(\n",
    "      average_precision_cvt))"
   ]
  },
  {
   "cell_type": "code",
   "execution_count": 370,
   "metadata": {},
   "outputs": [
    {
     "data": {
      "text/plain": [
       "Text(0.5,1,'Trade-off entre Precision e Recall (TFIDF): AP=0.92')"
      ]
     },
     "execution_count": 370,
     "metadata": {},
     "output_type": "execute_result"
    },
    {
     "data": {
      "image/png": "[encoded data removed]",
      "text/plain": [
       "<matplotlib.figure.Figure at 0x1e301b11e48>"
      ]
     },
     "metadata": {},
     "output_type": "display_data"
    }
   ],
   "source": [
    "from sklearn.metrics import precision_recall_curve\n",
    "\n",
    "precision, recall, thresholds = precision_recall_curve(Ytest, y_pred_tfidf)\n",
    "\n",
    "plt.step(recall, precision, color='b', alpha=0.2,\n",
    "         where='post')\n",
    "plt.fill_between(recall, precision, step='post', alpha=0.2,\n",
    "                 color='b')\n",
    "\n",
    "plt.xlabel('Recall')\n",
    "plt.ylabel('Precision')\n",
    "plt.ylim([0.0, 1.05])\n",
    "plt.xlim([0.0, 1.0])\n",
    "plt.title('Trade-off entre Precision e Recall (TFIDF): AP={0:0.2f}'.format(\n",
    "          average_precision_tfidf))"
   ]
  },
  {
   "cell_type": "code",
   "execution_count": 371,
   "metadata": {},
   "outputs": [
    {
     "data": {
      "text/plain": [
       "Text(0.5,1,'Trade-off entre Precision e Recall (CVT): AP=0.96')"
      ]
     },
     "execution_count": 371,
     "metadata": {},
     "output_type": "execute_result"
    },
    {
     "data": {
      "image/png": "[encoded data removed]",
      "text/plain": [
       "<matplotlib.figure.Figure at 0x1e301b11cf8>"
      ]
     },
     "metadata": {},
     "output_type": "display_data"
    }
   ],
   "source": [
    "precision, recall, thresholds = precision_recall_curve(Ytest, y_pred_cvt)\n",
    "\n",
    "plt.step(recall, precision, color='b', alpha=0.2,\n",
    "         where='post')\n",
    "plt.fill_between(recall, precision, step='post', alpha=0.2,\n",
    "                 color='b')\n",
    "\n",
    "plt.xlabel('Recall')\n",
    "plt.ylabel('Precision')\n",
    "plt.ylim([0.0, 1.05])\n",
    "plt.xlim([0.0, 1.0])\n",
    "plt.title('Trade-off entre Precision e Recall (CVT): AP={0:0.2f}'.format(\n",
    "          average_precision_cvt))"
   ]
  },
  {
   "cell_type": "code",
   "execution_count": 372,
   "metadata": {},
   "outputs": [],
   "source": [
    "from sklearn.metrics import roc_curve, auc"
   ]
  },
  {
   "cell_type": "code",
   "execution_count": 384,
   "metadata": {},
   "outputs": [],
   "source": [
    "fpr_cvt, tpr_cvt, thresholds_cvt = roc_curve(Ytest, y_pred_cvt)"
   ]
  },
  {
   "cell_type": "code",
   "execution_count": 385,
   "metadata": {},
   "outputs": [
    {
     "data": {
      "text/plain": [
       "0.9872483270022024"
      ]
     },
     "execution_count": 385,
     "metadata": {},
     "output_type": "execute_result"
    }
   ],
   "source": [
    "roc_auc_cvt = auc(fpr_cvt, tpr_cvt)\n",
    "roc_auc_cvt"
   ]
  },
  {
   "cell_type": "code",
   "execution_count": 387,
   "metadata": {},
   "outputs": [
    {
     "data": {
      "image/png": "[encoded data removed]",
      "text/plain": [
       "<matplotlib.figure.Figure at 0x1e3019b1668>"
      ]
     },
     "metadata": {},
     "output_type": "display_data"
    }
   ],
   "source": [
    "plt.figure()\n",
    "lw = 2\n",
    "plt.plot(fpr, tpr, color='red',\n",
    "         lw=lw, label='ROC curve (area = %0.2f)' % roc_auc_cvt)\n",
    "plt.plot([0, 1], [0, 1], color='navy', lw=lw, linestyle='--')\n",
    "plt.xlim([0.0, 1.0])\n",
    "plt.ylim([0.0, 1.05])\n",
    "plt.xlabel('False Positive Rate')\n",
    "plt.ylabel('True Positive Rate')\n",
    "plt.title('ROC - CVT')\n",
    "plt.legend(loc=\"lower right\")\n",
    "plt.show()"
   ]
  },
  {
   "cell_type": "code",
   "execution_count": 388,
   "metadata": {},
   "outputs": [],
   "source": [
    "fpr_tfidf, tpr_tfidf, thresholds_tfidf = roc_curve(Ytest, y_pred_tfidf)"
   ]
  },
  {
   "cell_type": "code",
   "execution_count": 389,
   "metadata": {},
   "outputs": [],
   "source": [
    "roc_auc_tfidf = auc(fpr_tfidf, tpr_tfidf)"
   ]
  },
  {
   "cell_type": "code",
   "execution_count": 390,
   "metadata": {},
   "outputs": [
    {
     "data": {
      "image/png": "[encoded data removed]",
      "text/plain": [
       "<matplotlib.figure.Figure at 0x1e37d63eef0>"
      ]
     },
     "metadata": {},
     "output_type": "display_data"
    }
   ],
   "source": [
    "plt.figure()\n",
    "lw = 2\n",
    "plt.plot(fpr_tfidf, tpr_tfidf, color='red',\n",
    "         lw=lw, label='ROC curve - tfidf (area = %0.2f)' % roc_auc_tfidf)\n",
    "plt.plot(fpr_cvt, tpr_cvt, color='blue',\n",
    "         lw=lw, label='ROC curve - cvt (area = %0.2f)' % roc_auc_cvt)\n",
    "plt.plot([0, 1], [0, 1], color='navy', lw=lw, linestyle='--')\n",
    "plt.xlim([0.0, 1.0])\n",
    "plt.ylim([0.0, 1.05])\n",
    "plt.xlabel('False Positive Rate')\n",
    "plt.ylabel('True Positive Rate')\n",
    "plt.title('ROC')\n",
    "plt.legend(loc=\"lower right\")\n",
    "plt.show()"
   ]
  }
 ],
 "metadata": {
  "kernelspec": {
   "display_name": "Python 3",
   "language": "python",
   "name": "python3"
  },
  "language_info": {
   "codemirror_mode": {
    "name": "ipython",
    "version": 3
   },
   "file_extension": ".py",
   "mimetype": "text/x-python",
   "name": "python",
   "nbconvert_exporter": "python",
   "pygments_lexer": "ipython3",
   "version": "3.6.4"
  }
 },
 "nbformat": 4,
 "nbformat_minor": 2
}
