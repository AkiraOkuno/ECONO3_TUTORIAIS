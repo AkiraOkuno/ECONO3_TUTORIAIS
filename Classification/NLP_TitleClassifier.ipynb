{
 "cells": [
  {
   "cell_type": "code",
   "execution_count": 1,
   "metadata": {},
   "outputs": [],
   "source": [
    "import numpy as np\n",
    "import pandas as pd\n",
    "import os\n",
    "import matplotlib.pyplot as plt\n",
    "% matplotlib inline"
   ]
  },
  {
   "cell_type": "code",
   "execution_count": 6,
   "metadata": {},
   "outputs": [],
   "source": [
    "os.chdir(r'C:\\Users\\Helio\\Documents\\ALL THAT MATTERS\\IC\\csv')"
   ]
  },
  {
   "cell_type": "code",
   "execution_count": 18,
   "metadata": {},
   "outputs": [],
   "source": [
    "data = pd.read_csv(r'TitlesLabelednoComma.csv', encoding=\"utf-8\", sep=';')"
   ]
  },
  {
   "cell_type": "code",
   "execution_count": 19,
   "metadata": {},
   "outputs": [
    {
     "data": {
      "text/html": [
       "<div>\n",
       "<style scoped>\n",
       "    .dataframe tbody tr th:only-of-type {\n",
       "        vertical-align: middle;\n",
       "    }\n",
       "\n",
       "    .dataframe tbody tr th {\n",
       "        vertical-align: top;\n",
       "    }\n",
       "\n",
       "    .dataframe thead th {\n",
       "        text-align: right;\n",
       "    }\n",
       "</style>\n",
       "<table border=\"1\" class=\"dataframe\">\n",
       "  <thead>\n",
       "    <tr style=\"text-align: right;\">\n",
       "      <th></th>\n",
       "      <th>Title</th>\n",
       "      <th>URL</th>\n",
       "      <th>Label</th>\n",
       "    </tr>\n",
       "  </thead>\n",
       "  <tbody>\n",
       "    <tr>\n",
       "      <th>0</th>\n",
       "      <td>A economia chilena: forte mas desigual</td>\n",
       "      <td>https://brasil.elpais.com/brasil/2013/11/17/in...</td>\n",
       "      <td>0.0</td>\n",
       "    </tr>\n",
       "    <tr>\n",
       "      <th>1</th>\n",
       "      <td>Uma líder discreta</td>\n",
       "      <td>https://brasil.elpais.com/brasil/2013/11/16/in...</td>\n",
       "      <td>0.0</td>\n",
       "    </tr>\n",
       "    <tr>\n",
       "      <th>2</th>\n",
       "      <td>China lança as maiores reformas econômicas e s...</td>\n",
       "      <td>https://brasil.elpais.com/brasil/2013/11/19/in...</td>\n",
       "      <td>0.0</td>\n",
       "    </tr>\n",
       "    <tr>\n",
       "      <th>3</th>\n",
       "      <td>Juízes argentinos pedem medidas do governo par...</td>\n",
       "      <td>https://brasil.elpais.com/brasil/2013/11/19/in...</td>\n",
       "      <td>0.0</td>\n",
       "    </tr>\n",
       "    <tr>\n",
       "      <th>4</th>\n",
       "      <td>Obama cede à pressão e anuncia mudanças na ref...</td>\n",
       "      <td>https://brasil.elpais.com/brasil/2013/11/19/in...</td>\n",
       "      <td>0.0</td>\n",
       "    </tr>\n",
       "    <tr>\n",
       "      <th>5</th>\n",
       "      <td>Adeus a 2013 sem a reforma da imigração nos Es...</td>\n",
       "      <td>https://brasil.elpais.com/brasil/2013/11/19/in...</td>\n",
       "      <td>0.0</td>\n",
       "    </tr>\n",
       "    <tr>\n",
       "      <th>6</th>\n",
       "      <td>O fim da esperança em Gaza</td>\n",
       "      <td>https://brasil.elpais.com/brasil/2013/11/20/in...</td>\n",
       "      <td>0.0</td>\n",
       "    </tr>\n",
       "    <tr>\n",
       "      <th>7</th>\n",
       "      <td>Oito países realizam o maior exercício militar...</td>\n",
       "      <td>https://brasil.elpais.com/brasil/2013/11/05/in...</td>\n",
       "      <td>0.0</td>\n",
       "    </tr>\n",
       "    <tr>\n",
       "      <th>8</th>\n",
       "      <td>“É por Mandela que agora somos livres”</td>\n",
       "      <td>https://brasil.elpais.com/brasil/2013/06/05/in...</td>\n",
       "      <td>0.0</td>\n",
       "    </tr>\n",
       "    <tr>\n",
       "      <th>9</th>\n",
       "      <td>“Só consideram provocação quando desenhamos Ma...</td>\n",
       "      <td>https://brasil.elpais.com/brasil/2012/09/19/in...</td>\n",
       "      <td>0.0</td>\n",
       "    </tr>\n",
       "    <tr>\n",
       "      <th>10</th>\n",
       "      <td>Revista já havia sido atacada em 2011 por capa...</td>\n",
       "      <td>https://brasil.elpais.com/brasil/2011/11/03/in...</td>\n",
       "      <td>0.0</td>\n",
       "    </tr>\n",
       "    <tr>\n",
       "      <th>11</th>\n",
       "      <td>Dallas lava suas feridas e relembra Kennedy 50...</td>\n",
       "      <td>https://brasil.elpais.com/brasil/2013/11/22/in...</td>\n",
       "      <td>0.0</td>\n",
       "    </tr>\n",
       "    <tr>\n",
       "      <th>12</th>\n",
       "      <td>O crime marca a eleição em Honduras</td>\n",
       "      <td>https://brasil.elpais.com/brasil/2013/11/22/in...</td>\n",
       "      <td>0.0</td>\n",
       "    </tr>\n",
       "    <tr>\n",
       "      <th>13</th>\n",
       "      <td>O primeiro presidente que reconheceu o poder d...</td>\n",
       "      <td>https://brasil.elpais.com/brasil/2013/11/22/in...</td>\n",
       "      <td>0.0</td>\n",
       "    </tr>\n",
       "    <tr>\n",
       "      <th>14</th>\n",
       "      <td>Santos terá que enfrentar o voto em branco e o...</td>\n",
       "      <td>https://brasil.elpais.com/brasil/2013/11/22/in...</td>\n",
       "      <td>0.0</td>\n",
       "    </tr>\n",
       "    <tr>\n",
       "      <th>15</th>\n",
       "      <td>As duas leis decretadas por Maduro aumentam o ...</td>\n",
       "      <td>https://brasil.elpais.com/brasil/2013/11/22/in...</td>\n",
       "      <td>0.0</td>\n",
       "    </tr>\n",
       "    <tr>\n",
       "      <th>16</th>\n",
       "      <td>A sentença do “bunga bunga”</td>\n",
       "      <td>https://brasil.elpais.com/brasil/2013/11/21/in...</td>\n",
       "      <td>0.0</td>\n",
       "    </tr>\n",
       "    <tr>\n",
       "      <th>17</th>\n",
       "      <td>O PIB mexicano sobe 084% no terceiro trimestre...</td>\n",
       "      <td>https://brasil.elpais.com/brasil/2013/11/22/in...</td>\n",
       "      <td>0.0</td>\n",
       "    </tr>\n",
       "    <tr>\n",
       "      <th>18</th>\n",
       "      <td>Yellen conquista primeiro voto para presidir B...</td>\n",
       "      <td>https://brasil.elpais.com/brasil/2013/11/21/in...</td>\n",
       "      <td>0.0</td>\n",
       "    </tr>\n",
       "    <tr>\n",
       "      <th>19</th>\n",
       "      <td>Um murro na mesa</td>\n",
       "      <td>https://brasil.elpais.com/brasil/2013/11/21/in...</td>\n",
       "      <td>0.0</td>\n",
       "    </tr>\n",
       "    <tr>\n",
       "      <th>20</th>\n",
       "      <td>O Senado elimina o veto minoritário a nomeaçõe...</td>\n",
       "      <td>https://brasil.elpais.com/brasil/2013/11/21/in...</td>\n",
       "      <td>0.0</td>\n",
       "    </tr>\n",
       "    <tr>\n",
       "      <th>21</th>\n",
       "      <td>Grupos civis armados avançam na tomada de muni...</td>\n",
       "      <td>https://brasil.elpais.com/brasil/2013/11/21/in...</td>\n",
       "      <td>0.0</td>\n",
       "    </tr>\n",
       "    <tr>\n",
       "      <th>22</th>\n",
       "      <td>De Kennedy a Obama dois símbolos de suas geraç...</td>\n",
       "      <td>https://brasil.elpais.com/brasil/2013/11/20/in...</td>\n",
       "      <td>0.0</td>\n",
       "    </tr>\n",
       "    <tr>\n",
       "      <th>23</th>\n",
       "      <td>Quem matou Kennedy?</td>\n",
       "      <td>https://brasil.elpais.com/brasil/2013/11/19/in...</td>\n",
       "      <td>0.0</td>\n",
       "    </tr>\n",
       "    <tr>\n",
       "      <th>24</th>\n",
       "      <td>Rei é operado do quadril pela quinta vez e só ...</td>\n",
       "      <td>https://brasil.elpais.com/brasil/2013/11/21/in...</td>\n",
       "      <td>0.0</td>\n",
       "    </tr>\n",
       "    <tr>\n",
       "      <th>25</th>\n",
       "      <td>Colômbia espera que as FARC renunciem ao uso d...</td>\n",
       "      <td>https://brasil.elpais.com/brasil/2013/11/19/in...</td>\n",
       "      <td>0.0</td>\n",
       "    </tr>\n",
       "    <tr>\n",
       "      <th>26</th>\n",
       "      <td>Uruguai: as vacas que transformaram a economia...</td>\n",
       "      <td>https://brasil.elpais.com/brasil/2013/11/18/in...</td>\n",
       "      <td>0.0</td>\n",
       "    </tr>\n",
       "    <tr>\n",
       "      <th>27</th>\n",
       "      <td>O soviético toma o leme argentino</td>\n",
       "      <td>https://brasil.elpais.com/brasil/2013/11/20/in...</td>\n",
       "      <td>0.0</td>\n",
       "    </tr>\n",
       "    <tr>\n",
       "      <th>28</th>\n",
       "      <td>Polícia confirma que detido é autor dos dispar...</td>\n",
       "      <td>https://brasil.elpais.com/brasil/2013/11/20/in...</td>\n",
       "      <td>0.0</td>\n",
       "    </tr>\n",
       "    <tr>\n",
       "      <th>29</th>\n",
       "      <td>Espanha prepara uma lei de segurança para puni...</td>\n",
       "      <td>https://brasil.elpais.com/brasil/2013/11/20/in...</td>\n",
       "      <td>0.0</td>\n",
       "    </tr>\n",
       "    <tr>\n",
       "      <th>...</th>\n",
       "      <td>...</td>\n",
       "      <td>...</td>\n",
       "      <td>...</td>\n",
       "    </tr>\n",
       "    <tr>\n",
       "      <th>37326</th>\n",
       "      <td>Janot livra Temer e diz que presidente não po...</td>\n",
       "      <td>https://www.newsatual.com/janot-livra-temer-e-...</td>\n",
       "      <td>1.0</td>\n",
       "    </tr>\n",
       "    <tr>\n",
       "      <th>37327</th>\n",
       "      <td>Moro é a personalidade mais popular do Brasil...</td>\n",
       "      <td>https://www.newsatual.com/moro-e-personalidade...</td>\n",
       "      <td>1.0</td>\n",
       "    </tr>\n",
       "    <tr>\n",
       "      <th>37328</th>\n",
       "      <td>Deltan convoca mais uma vez o povo para ir às...</td>\n",
       "      <td>https://www.newsatual.com/deltan-convoca-mais-...</td>\n",
       "      <td>1.0</td>\n",
       "    </tr>\n",
       "    <tr>\n",
       "      <th>37329</th>\n",
       "      <td>João Doria e Jair Bolsonaro dividem palanque</td>\n",
       "      <td>https://www.newsatual.com/joao-doria-e-jair-bo...</td>\n",
       "      <td>1.0</td>\n",
       "    </tr>\n",
       "    <tr>\n",
       "      <th>37330</th>\n",
       "      <td>Moro é atacado mas não perde a linha de JUIZ</td>\n",
       "      <td>https://www.newsatual.com/moro-e-atacado-mas-n...</td>\n",
       "      <td>1.0</td>\n",
       "    </tr>\n",
       "    <tr>\n",
       "      <th>37331</th>\n",
       "      <td>LULA em desespero TOTAL! Pede socorro a amigo...</td>\n",
       "      <td>https://www.newsatual.com/lula-em-desespero-to...</td>\n",
       "      <td>1.0</td>\n",
       "    </tr>\n",
       "    <tr>\n",
       "      <th>37332</th>\n",
       "      <td>Delegado da PF propõe: ‘Reeleição zero! Se po...</td>\n",
       "      <td>https://www.newsatual.com/delegado-da-pf-propo...</td>\n",
       "      <td>1.0</td>\n",
       "    </tr>\n",
       "    <tr>\n",
       "      <th>37333</th>\n",
       "      <td>Defesa de Cabral alega que ele tem cleptomani...</td>\n",
       "      <td>https://www.newsatual.com/defesa-de-cabral-ale...</td>\n",
       "      <td>1.0</td>\n",
       "    </tr>\n",
       "    <tr>\n",
       "      <th>37334</th>\n",
       "      <td>Urgente! Sérgio Moro vai à Câmara e detona re...</td>\n",
       "      <td>https://www.newsatual.com/urgente-sergio-moro-...</td>\n",
       "      <td>1.0</td>\n",
       "    </tr>\n",
       "    <tr>\n",
       "      <th>37335</th>\n",
       "      <td>Renan Calheiros quer aliança com Lula para 2018</td>\n",
       "      <td>https://www.newsatual.com/renan-calheiros-quer...</td>\n",
       "      <td>1.0</td>\n",
       "    </tr>\n",
       "    <tr>\n",
       "      <th>37336</th>\n",
       "      <td>Adriana Ancelmo mulher de CABRAL: da origem p...</td>\n",
       "      <td>https://www.newsatual.com/adriana-ancelmo-mulh...</td>\n",
       "      <td>1.0</td>\n",
       "    </tr>\n",
       "    <tr>\n",
       "      <th>37337</th>\n",
       "      <td>Cunha diz que Moro quer mantê-lo PRESO como ‘...</td>\n",
       "      <td>https://www.newsatual.com/cunha-diz-que-moro-q...</td>\n",
       "      <td>1.0</td>\n",
       "    </tr>\n",
       "    <tr>\n",
       "      <th>37338</th>\n",
       "      <td>Acostumada com o STF defesa de Cunha fica sur...</td>\n",
       "      <td>https://www.newsatual.com/acostumada-com-o-stf...</td>\n",
       "      <td>1.0</td>\n",
       "    </tr>\n",
       "    <tr>\n",
       "      <th>37339</th>\n",
       "      <td>Deputado petista convoca militância a fechar ...</td>\n",
       "      <td>https://www.newsatual.com/deputado-petista-con...</td>\n",
       "      <td>1.0</td>\n",
       "    </tr>\n",
       "    <tr>\n",
       "      <th>37340</th>\n",
       "      <td>Ministra pede ao STF mesmo tratamento dado a ...</td>\n",
       "      <td>https://www.newsatual.com/ministra-pede-ao-stf...</td>\n",
       "      <td>1.0</td>\n",
       "    </tr>\n",
       "    <tr>\n",
       "      <th>37341</th>\n",
       "      <td>EXCLUSIVO: Mulher de Cunha pode ser presa a q...</td>\n",
       "      <td>https://www.newsatual.com/exclusivo-mulher-de-...</td>\n",
       "      <td>1.0</td>\n",
       "    </tr>\n",
       "    <tr>\n",
       "      <th>37342</th>\n",
       "      <td>O Brilhante Sérgio Moro recebe medalha da Jus...</td>\n",
       "      <td>https://www.newsatual.com/o-brilhante-sergio-m...</td>\n",
       "      <td>1.0</td>\n",
       "    </tr>\n",
       "    <tr>\n",
       "      <th>37343</th>\n",
       "      <td>AGONIA: José Dirceu divulga nova carta sobre ...</td>\n",
       "      <td>https://www.newsatual.com/agonia-jose-dirceu-d...</td>\n",
       "      <td>1.0</td>\n",
       "    </tr>\n",
       "    <tr>\n",
       "      <th>37344</th>\n",
       "      <td>Bolsonaro e Sérgio Moro juntos no Aeroporto I...</td>\n",
       "      <td>https://www.newsatual.com/bolsonaro-e-sergio-m...</td>\n",
       "      <td>1.0</td>\n",
       "    </tr>\n",
       "    <tr>\n",
       "      <th>37345</th>\n",
       "      <td>Deputado petista ataca Sérgio Moro na Câmara</td>\n",
       "      <td>https://www.newsatual.com/deputado-petista-ata...</td>\n",
       "      <td>1.0</td>\n",
       "    </tr>\n",
       "    <tr>\n",
       "      <th>37346</th>\n",
       "      <td>Aécio diz que povo tem que engolir perda de d...</td>\n",
       "      <td>https://www.newsatual.com/aecio-diz-que-povo-t...</td>\n",
       "      <td>1.0</td>\n",
       "    </tr>\n",
       "    <tr>\n",
       "      <th>37347</th>\n",
       "      <td>URGENTE: Sérgio Moro condena Eduardo Cunha</td>\n",
       "      <td>https://www.newsatual.com/urgente-sergio-moro-...</td>\n",
       "      <td>1.0</td>\n",
       "    </tr>\n",
       "    <tr>\n",
       "      <th>37348</th>\n",
       "      <td>Cármen Lúcia fecha pauta de julgamentos do ST...</td>\n",
       "      <td>https://www.newsatual.com/carmen-lucia-fecha-p...</td>\n",
       "      <td>1.0</td>\n",
       "    </tr>\n",
       "    <tr>\n",
       "      <th>37349</th>\n",
       "      <td>O FALSO: Joaquim Barbosa PETISTA detona Temer...</td>\n",
       "      <td>https://www.newsatual.com/o-falso-joaquim-barb...</td>\n",
       "      <td>1.0</td>\n",
       "    </tr>\n",
       "    <tr>\n",
       "      <th>37350</th>\n",
       "      <td>Ciro Gomes ameaça a dar um tiro em Sérgio Moro</td>\n",
       "      <td>https://www.newsatual.com/ciro-gomes-ameaca-a-...</td>\n",
       "      <td>1.0</td>\n",
       "    </tr>\n",
       "    <tr>\n",
       "      <th>37351</th>\n",
       "      <td>Gilmar dá aval para investigar vazamento: ‘Fa...</td>\n",
       "      <td>https://www.newsatual.com/gilmar-da-aval-para-...</td>\n",
       "      <td>1.0</td>\n",
       "    </tr>\n",
       "    <tr>\n",
       "      <th>37352</th>\n",
       "      <td>Edson Fachin autoriza interrogatória à Renan ...</td>\n",
       "      <td>https://www.newsatual.com/edson-fachin-autoriz...</td>\n",
       "      <td>1.0</td>\n",
       "    </tr>\n",
       "    <tr>\n",
       "      <th>37353</th>\n",
       "      <td>EXPLOSIVO: Odebrecht confirma que contas de p...</td>\n",
       "      <td>https://www.newsatual.com/explosivo-odebrecht-...</td>\n",
       "      <td>1.0</td>\n",
       "    </tr>\n",
       "    <tr>\n",
       "      <th>37354</th>\n",
       "      <td>Lula perde mais uma para o juiz Sérgio Moro</td>\n",
       "      <td>https://www.newsatual.com/lula-perde-mais-uma-...</td>\n",
       "      <td>1.0</td>\n",
       "    </tr>\n",
       "    <tr>\n",
       "      <th>37355</th>\n",
       "      <td>NaN</td>\n",
       "      <td>NaN</td>\n",
       "      <td>NaN</td>\n",
       "    </tr>\n",
       "  </tbody>\n",
       "</table>\n",
       "<p>37356 rows × 3 columns</p>\n",
       "</div>"
      ],
      "text/plain": [
       "                                                   Title  \\\n",
       "0                A economia chilena: forte mas desigual    \n",
       "1                                    Uma líder discreta    \n",
       "2      China lança as maiores reformas econômicas e s...   \n",
       "3      Juízes argentinos pedem medidas do governo par...   \n",
       "4      Obama cede à pressão e anuncia mudanças na ref...   \n",
       "5      Adeus a 2013 sem a reforma da imigração nos Es...   \n",
       "6                            O fim da esperança em Gaza    \n",
       "7      Oito países realizam o maior exercício militar...   \n",
       "8                “É por Mandela que agora somos livres”    \n",
       "9      “Só consideram provocação quando desenhamos Ma...   \n",
       "10     Revista já havia sido atacada em 2011 por capa...   \n",
       "11     Dallas lava suas feridas e relembra Kennedy 50...   \n",
       "12                  O crime marca a eleição em Honduras    \n",
       "13     O primeiro presidente que reconheceu o poder d...   \n",
       "14     Santos terá que enfrentar o voto em branco e o...   \n",
       "15     As duas leis decretadas por Maduro aumentam o ...   \n",
       "16                          A sentença do “bunga bunga”    \n",
       "17     O PIB mexicano sobe 084% no terceiro trimestre...   \n",
       "18     Yellen conquista primeiro voto para presidir B...   \n",
       "19                                     Um murro na mesa    \n",
       "20     O Senado elimina o veto minoritário a nomeaçõe...   \n",
       "21     Grupos civis armados avançam na tomada de muni...   \n",
       "22     De Kennedy a Obama dois símbolos de suas geraç...   \n",
       "23                                  Quem matou Kennedy?    \n",
       "24     Rei é operado do quadril pela quinta vez e só ...   \n",
       "25     Colômbia espera que as FARC renunciem ao uso d...   \n",
       "26     Uruguai: as vacas que transformaram a economia...   \n",
       "27                    O soviético toma o leme argentino    \n",
       "28     Polícia confirma que detido é autor dos dispar...   \n",
       "29     Espanha prepara uma lei de segurança para puni...   \n",
       "...                                                  ...   \n",
       "37326   Janot livra Temer e diz que presidente não po...   \n",
       "37327   Moro é a personalidade mais popular do Brasil...   \n",
       "37328   Deltan convoca mais uma vez o povo para ir às...   \n",
       "37329       João Doria e Jair Bolsonaro dividem palanque   \n",
       "37330       Moro é atacado mas não perde a linha de JUIZ   \n",
       "37331   LULA em desespero TOTAL! Pede socorro a amigo...   \n",
       "37332   Delegado da PF propõe: ‘Reeleição zero! Se po...   \n",
       "37333   Defesa de Cabral alega que ele tem cleptomani...   \n",
       "37334   Urgente! Sérgio Moro vai à Câmara e detona re...   \n",
       "37335    Renan Calheiros quer aliança com Lula para 2018   \n",
       "37336   Adriana Ancelmo mulher de CABRAL: da origem p...   \n",
       "37337   Cunha diz que Moro quer mantê-lo PRESO como ‘...   \n",
       "37338   Acostumada com o STF defesa de Cunha fica sur...   \n",
       "37339   Deputado petista convoca militância a fechar ...   \n",
       "37340   Ministra pede ao STF mesmo tratamento dado a ...   \n",
       "37341   EXCLUSIVO: Mulher de Cunha pode ser presa a q...   \n",
       "37342   O Brilhante Sérgio Moro recebe medalha da Jus...   \n",
       "37343   AGONIA: José Dirceu divulga nova carta sobre ...   \n",
       "37344   Bolsonaro e Sérgio Moro juntos no Aeroporto I...   \n",
       "37345       Deputado petista ataca Sérgio Moro na Câmara   \n",
       "37346   Aécio diz que povo tem que engolir perda de d...   \n",
       "37347         URGENTE: Sérgio Moro condena Eduardo Cunha   \n",
       "37348   Cármen Lúcia fecha pauta de julgamentos do ST...   \n",
       "37349   O FALSO: Joaquim Barbosa PETISTA detona Temer...   \n",
       "37350     Ciro Gomes ameaça a dar um tiro em Sérgio Moro   \n",
       "37351   Gilmar dá aval para investigar vazamento: ‘Fa...   \n",
       "37352   Edson Fachin autoriza interrogatória à Renan ...   \n",
       "37353   EXPLOSIVO: Odebrecht confirma que contas de p...   \n",
       "37354        Lula perde mais uma para o juiz Sérgio Moro   \n",
       "37355                                                NaN   \n",
       "\n",
       "                                                     URL  Label  \n",
       "0      https://brasil.elpais.com/brasil/2013/11/17/in...    0.0  \n",
       "1      https://brasil.elpais.com/brasil/2013/11/16/in...    0.0  \n",
       "2      https://brasil.elpais.com/brasil/2013/11/19/in...    0.0  \n",
       "3      https://brasil.elpais.com/brasil/2013/11/19/in...    0.0  \n",
       "4      https://brasil.elpais.com/brasil/2013/11/19/in...    0.0  \n",
       "5      https://brasil.elpais.com/brasil/2013/11/19/in...    0.0  \n",
       "6      https://brasil.elpais.com/brasil/2013/11/20/in...    0.0  \n",
       "7      https://brasil.elpais.com/brasil/2013/11/05/in...    0.0  \n",
       "8      https://brasil.elpais.com/brasil/2013/06/05/in...    0.0  \n",
       "9      https://brasil.elpais.com/brasil/2012/09/19/in...    0.0  \n",
       "10     https://brasil.elpais.com/brasil/2011/11/03/in...    0.0  \n",
       "11     https://brasil.elpais.com/brasil/2013/11/22/in...    0.0  \n",
       "12     https://brasil.elpais.com/brasil/2013/11/22/in...    0.0  \n",
       "13     https://brasil.elpais.com/brasil/2013/11/22/in...    0.0  \n",
       "14     https://brasil.elpais.com/brasil/2013/11/22/in...    0.0  \n",
       "15     https://brasil.elpais.com/brasil/2013/11/22/in...    0.0  \n",
       "16     https://brasil.elpais.com/brasil/2013/11/21/in...    0.0  \n",
       "17     https://brasil.elpais.com/brasil/2013/11/22/in...    0.0  \n",
       "18     https://brasil.elpais.com/brasil/2013/11/21/in...    0.0  \n",
       "19     https://brasil.elpais.com/brasil/2013/11/21/in...    0.0  \n",
       "20     https://brasil.elpais.com/brasil/2013/11/21/in...    0.0  \n",
       "21     https://brasil.elpais.com/brasil/2013/11/21/in...    0.0  \n",
       "22     https://brasil.elpais.com/brasil/2013/11/20/in...    0.0  \n",
       "23     https://brasil.elpais.com/brasil/2013/11/19/in...    0.0  \n",
       "24     https://brasil.elpais.com/brasil/2013/11/21/in...    0.0  \n",
       "25     https://brasil.elpais.com/brasil/2013/11/19/in...    0.0  \n",
       "26     https://brasil.elpais.com/brasil/2013/11/18/in...    0.0  \n",
       "27     https://brasil.elpais.com/brasil/2013/11/20/in...    0.0  \n",
       "28     https://brasil.elpais.com/brasil/2013/11/20/in...    0.0  \n",
       "29     https://brasil.elpais.com/brasil/2013/11/20/in...    0.0  \n",
       "...                                                  ...    ...  \n",
       "37326  https://www.newsatual.com/janot-livra-temer-e-...    1.0  \n",
       "37327  https://www.newsatual.com/moro-e-personalidade...    1.0  \n",
       "37328  https://www.newsatual.com/deltan-convoca-mais-...    1.0  \n",
       "37329  https://www.newsatual.com/joao-doria-e-jair-bo...    1.0  \n",
       "37330  https://www.newsatual.com/moro-e-atacado-mas-n...    1.0  \n",
       "37331  https://www.newsatual.com/lula-em-desespero-to...    1.0  \n",
       "37332  https://www.newsatual.com/delegado-da-pf-propo...    1.0  \n",
       "37333  https://www.newsatual.com/defesa-de-cabral-ale...    1.0  \n",
       "37334  https://www.newsatual.com/urgente-sergio-moro-...    1.0  \n",
       "37335  https://www.newsatual.com/renan-calheiros-quer...    1.0  \n",
       "37336  https://www.newsatual.com/adriana-ancelmo-mulh...    1.0  \n",
       "37337  https://www.newsatual.com/cunha-diz-que-moro-q...    1.0  \n",
       "37338  https://www.newsatual.com/acostumada-com-o-stf...    1.0  \n",
       "37339  https://www.newsatual.com/deputado-petista-con...    1.0  \n",
       "37340  https://www.newsatual.com/ministra-pede-ao-stf...    1.0  \n",
       "37341  https://www.newsatual.com/exclusivo-mulher-de-...    1.0  \n",
       "37342  https://www.newsatual.com/o-brilhante-sergio-m...    1.0  \n",
       "37343  https://www.newsatual.com/agonia-jose-dirceu-d...    1.0  \n",
       "37344  https://www.newsatual.com/bolsonaro-e-sergio-m...    1.0  \n",
       "37345  https://www.newsatual.com/deputado-petista-ata...    1.0  \n",
       "37346  https://www.newsatual.com/aecio-diz-que-povo-t...    1.0  \n",
       "37347  https://www.newsatual.com/urgente-sergio-moro-...    1.0  \n",
       "37348  https://www.newsatual.com/carmen-lucia-fecha-p...    1.0  \n",
       "37349  https://www.newsatual.com/o-falso-joaquim-barb...    1.0  \n",
       "37350  https://www.newsatual.com/ciro-gomes-ameaca-a-...    1.0  \n",
       "37351  https://www.newsatual.com/gilmar-da-aval-para-...    1.0  \n",
       "37352  https://www.newsatual.com/edson-fachin-autoriz...    1.0  \n",
       "37353  https://www.newsatual.com/explosivo-odebrecht-...    1.0  \n",
       "37354  https://www.newsatual.com/lula-perde-mais-uma-...    1.0  \n",
       "37355                                                NaN    NaN  \n",
       "\n",
       "[37356 rows x 3 columns]"
      ]
     },
     "execution_count": 19,
     "metadata": {},
     "output_type": "execute_result"
    }
   ],
   "source": [
    "data"
   ]
  },
  {
   "cell_type": "code",
   "execution_count": 20,
   "metadata": {},
   "outputs": [],
   "source": [
    "#eliminate last row that contains NaN Values\n",
    "data = data.iloc[0:37355,:]"
   ]
  },
  {
   "cell_type": "code",
   "execution_count": 23,
   "metadata": {},
   "outputs": [],
   "source": [
    "data = data.dropna(subset = ['Title', 'URL'])"
   ]
  },
  {
   "cell_type": "code",
   "execution_count": 25,
   "metadata": {},
   "outputs": [],
   "source": [
    "from sklearn import preprocessing"
   ]
  },
  {
   "cell_type": "code",
   "execution_count": 27,
   "metadata": {},
   "outputs": [],
   "source": [
    "label_encoder = preprocessing.LabelEncoder()\n",
    "y = label_encoder.fit_transform(data.Label.values)\n",
    "x = data.Title.values"
   ]
  },
  {
   "cell_type": "code",
   "execution_count": 29,
   "metadata": {},
   "outputs": [],
   "source": [
    "from sklearn.model_selection import train_test_split"
   ]
  },
  {
   "cell_type": "code",
   "execution_count": 30,
   "metadata": {},
   "outputs": [],
   "source": [
    "Xtrain, Xtest, Ytrain, Ytest = train_test_split(x, y,\n",
    "                                                random_state = 42,\n",
    "                                                test_size = 0.2,\n",
    "                                                stratify = y) "
   ]
  },
  {
   "cell_type": "code",
   "execution_count": 35,
   "metadata": {},
   "outputs": [],
   "source": [
    "import collections"
   ]
  },
  {
   "cell_type": "code",
   "execution_count": 37,
   "metadata": {},
   "outputs": [
    {
     "data": {
      "text/plain": [
       "Counter({0: 25694, 1: 4133})"
      ]
     },
     "execution_count": 37,
     "metadata": {},
     "output_type": "execute_result"
    }
   ],
   "source": [
    "collections.Counter(Ytrain)"
   ]
  },
  {
   "cell_type": "code",
   "execution_count": 38,
   "metadata": {},
   "outputs": [
    {
     "data": {
      "text/plain": [
       "Counter({0: 6424, 1: 1033})"
      ]
     },
     "execution_count": 38,
     "metadata": {},
     "output_type": "execute_result"
    }
   ],
   "source": [
    "collections.Counter(Ytest)"
   ]
  },
  {
   "cell_type": "code",
   "execution_count": 39,
   "metadata": {},
   "outputs": [
    {
     "data": {
      "text/plain": [
       "((29827,), (7457,))"
      ]
     },
     "execution_count": 39,
     "metadata": {},
     "output_type": "execute_result"
    }
   ],
   "source": [
    "Xtrain.shape, Xtest.shape"
   ]
  },
  {
   "cell_type": "markdown",
   "metadata": {},
   "source": [
    "## TF-IDF APPROACH"
   ]
  },
  {
   "cell_type": "code",
   "execution_count": 46,
   "metadata": {},
   "outputs": [],
   "source": [
    "from sklearn.feature_extraction.text import TfidfVectorizer\n",
    "import nltk"
   ]
  },
  {
   "cell_type": "code",
   "execution_count": 47,
   "metadata": {},
   "outputs": [],
   "source": [
    "pt_stopwords = set(nltk.corpus.stopwords.words('portuguese'))"
   ]
  },
  {
   "cell_type": "code",
   "execution_count": 48,
   "metadata": {},
   "outputs": [],
   "source": [
    "tfidf = TfidfVectorizer(min_df = 3, strip_accents = 'unicode',\n",
    "                        analyzer = 'word', token_pattern = '\\w{1,}',\n",
    "                        ngram_range = (1,3), sublinear_tf = 1, stop_words = pt_stopwords)"
   ]
  },
  {
   "cell_type": "code",
   "execution_count": 49,
   "metadata": {},
   "outputs": [
    {
     "data": {
      "text/plain": [
       "(TfidfVectorizer(analyzer='word', binary=False, decode_error='strict',\n",
       "         dtype=<class 'numpy.int64'>, encoding='utf-8', input='content',\n",
       "         lowercase=True, max_df=1.0, max_features=None, min_df=3,\n",
       "         ngram_range=(1, 3), norm='l2', preprocessor=None, smooth_idf=True,\n",
       "         stop_words={'estivéssemos', 'estiverem', 'fora', 'tuas', 'estávamos', 'esteja', 'fui', 'até', 'as', 'serei', 'um', 'nossos', 'nossas', 'tinham', 'pelas', 'fomos', 'tenho', 'fôramos', 'houvéramos', 'mais', 'teríamos', 'sua', 'estiver', 'estavam', 'ou', 'essas', 'este', 'estão', 'tive', 'lhes', 'tivem...u', 'houvera', 'quando', 'esse', 'tua', 'houvemos', 'elas', 'houverem', 'seremos', 'a', 'estiveram'},\n",
       "         strip_accents='unicode', sublinear_tf=1, token_pattern='\\\\w{1,}',\n",
       "         tokenizer=None, use_idf=True, vocabulary=None),\n",
       " TfidfVectorizer(analyzer='word', binary=False, decode_error='strict',\n",
       "         dtype=<class 'numpy.int64'>, encoding='utf-8', input='content',\n",
       "         lowercase=True, max_df=1.0, max_features=None, min_df=3,\n",
       "         ngram_range=(1, 3), norm='l2', preprocessor=None, smooth_idf=True,\n",
       "         stop_words={'estivéssemos', 'estiverem', 'fora', 'tuas', 'estávamos', 'esteja', 'fui', 'até', 'as', 'serei', 'um', 'nossos', 'nossas', 'tinham', 'pelas', 'fomos', 'tenho', 'fôramos', 'houvéramos', 'mais', 'teríamos', 'sua', 'estiver', 'estavam', 'ou', 'essas', 'este', 'estão', 'tive', 'lhes', 'tivem...u', 'houvera', 'quando', 'esse', 'tua', 'houvemos', 'elas', 'houverem', 'seremos', 'a', 'estiveram'},\n",
       "         strip_accents='unicode', sublinear_tf=1, token_pattern='\\\\w{1,}',\n",
       "         tokenizer=None, use_idf=True, vocabulary=None))"
      ]
     },
     "execution_count": 49,
     "metadata": {},
     "output_type": "execute_result"
    }
   ],
   "source": [
    "tfidf.fit(Xtrain), tfidf.fit(Xtest)"
   ]
  },
  {
   "cell_type": "code",
   "execution_count": 50,
   "metadata": {},
   "outputs": [],
   "source": [
    "Xtrain_tfidf = tfidf.transform(Xtrain)\n",
    "Xtest_tfidf = tfidf.transform(Xtest)"
   ]
  },
  {
   "cell_type": "code",
   "execution_count": 51,
   "metadata": {},
   "outputs": [],
   "source": [
    "from sklearn.linear_model import LogisticRegression"
   ]
  },
  {
   "cell_type": "code",
   "execution_count": 52,
   "metadata": {},
   "outputs": [],
   "source": [
    "classif = LogisticRegression()\n",
    "classif.fit(Xtrain_tfidf, Ytrain)\n",
    "pred = classif.predict_proba(Xtest_tfidf)"
   ]
  },
  {
   "cell_type": "code",
   "execution_count": 53,
   "metadata": {},
   "outputs": [],
   "source": [
    "def multiclass_logloss(actual, predicted, eps=1e-15):\n",
    "    \"\"\"Multi class version of Logarithmic Loss metric.\n",
    "    :param actual: Array containing the actual target classes\n",
    "    :param predicted: Matrix with class predictions, one probability per class\n",
    "    \"\"\"\n",
    "    # Convert 'actual' to a binary array if it's not already:\n",
    "    if len(actual.shape) == 1:\n",
    "        actual2 = np.zeros((actual.shape[0], predicted.shape[1]))\n",
    "        for i, val in enumerate(actual):\n",
    "            actual2[i, val] = 1\n",
    "        actual = actual2\n",
    "\n",
    "    clip = np.clip(predicted, eps, 1 - eps)\n",
    "    rows = actual.shape[0]\n",
    "    vsota = np.sum(actual * np.log(clip))\n",
    "    return -1.0 / rows * vsota"
   ]
  },
  {
   "cell_type": "code",
   "execution_count": 54,
   "metadata": {},
   "outputs": [
    {
     "name": "stdout",
     "output_type": "stream",
     "text": [
      "Log loss: 0.14828358506107256\n"
     ]
    }
   ],
   "source": [
    "loss1 = multiclass_logloss(Ytest, pred)\n",
    "print('Log loss: {}'.format(loss1))"
   ]
  },
  {
   "cell_type": "code",
   "execution_count": 58,
   "metadata": {},
   "outputs": [],
   "source": [
    "y_pred = classif.predict(Xtest_tfidf)"
   ]
  },
  {
   "cell_type": "code",
   "execution_count": 92,
   "metadata": {},
   "outputs": [
    {
     "name": "stdout",
     "output_type": "stream",
     "text": [
      "[[6408   16]\n",
      " [ 371  662]]\n"
     ]
    }
   ],
   "source": [
    "y_pred = classif.predict(Xtest_tfidf)\n",
    "confmat = confusion_matrix(y_true=Ytest, y_pred=y_pred)\n",
    "print(confmat)"
   ]
  },
  {
   "cell_type": "code",
   "execution_count": 93,
   "metadata": {},
   "outputs": [
    {
     "data": {
      "image/png": "[encoded data removed]",
      "text/plain": [
       "<matplotlib.figure.Figure at 0x1e37cf13320>"
      ]
     },
     "metadata": {},
     "output_type": "display_data"
    }
   ],
   "source": [
    "fig, ax = plt.subplots(figsize=(2.5, 2.5))\n",
    "ax.matshow(confmat, cmap=plt.cm.Blues, alpha=0.3)\n",
    "for i in range(confmat.shape[0]):\n",
    "    for j in range(confmat.shape[1]):\n",
    "        ax.text(x=j, y=i, s=confmat[i, j], va='center', ha='center')\n",
    "\n",
    "plt.xlabel('Classe Prevista')\n",
    "plt.ylabel('Classe Verdadeira')\n",
    "\n",
    "plt.tight_layout()\n",
    "plt.show()"
   ]
  },
  {
   "cell_type": "code",
   "execution_count": 61,
   "metadata": {},
   "outputs": [
    {
     "data": {
      "text/plain": [
       "0.9481024540700014"
      ]
     },
     "execution_count": 61,
     "metadata": {},
     "output_type": "execute_result"
    }
   ],
   "source": [
    "classif.score(Xtest_tfidf, Ytest)"
   ]
  },
  {
   "cell_type": "code",
   "execution_count": 116,
   "metadata": {},
   "outputs": [],
   "source": [
    "y_proba = classif.predict_proba(Xtest_tfidf)"
   ]
  },
  {
   "cell_type": "code",
   "execution_count": 117,
   "metadata": {},
   "outputs": [],
   "source": [
    "y_proba = y_proba[:,0]"
   ]
  },
  {
   "cell_type": "code",
   "execution_count": 118,
   "metadata": {},
   "outputs": [
    {
     "data": {
      "text/plain": [
       "array([0.96876477, 0.99319261, 0.95287178, ..., 0.9574706 , 0.98373487,\n",
       "       0.92727258])"
      ]
     },
     "execution_count": 118,
     "metadata": {},
     "output_type": "execute_result"
    }
   ],
   "source": [
    "y_proba"
   ]
  },
  {
   "cell_type": "code",
   "execution_count": 124,
   "metadata": {},
   "outputs": [
    {
     "data": {
      "text/plain": [
       "0.9090787179831031"
      ]
     },
     "execution_count": 124,
     "metadata": {},
     "output_type": "execute_result"
    }
   ],
   "source": [
    "1 - y_pred.mean()"
   ]
  },
  {
   "cell_type": "code",
   "execution_count": 130,
   "metadata": {},
   "outputs": [
    {
     "data": {
      "text/plain": [
       "0.9090787179831031"
      ]
     },
     "execution_count": 130,
     "metadata": {},
     "output_type": "execute_result"
    }
   ],
   "source": [
    "sum(y_proba > 0.5)/len(y_proba)"
   ]
  },
  {
   "cell_type": "code",
   "execution_count": 77,
   "metadata": {},
   "outputs": [
    {
     "data": {
      "text/plain": [
       "array([0, 0, 0, ..., 0, 0, 0], dtype=int64)"
      ]
     },
     "execution_count": 77,
     "metadata": {},
     "output_type": "execute_result"
    }
   ],
   "source": [
    "Ytest"
   ]
  },
  {
   "cell_type": "markdown",
   "metadata": {},
   "source": [
    "### Logistic Regression with cutoff point $\\neq$ 0.5"
   ]
  },
  {
   "cell_type": "code",
   "execution_count": 279,
   "metadata": {},
   "outputs": [
    {
     "data": {
      "text/plain": [
       "array([[ 806,  227],\n",
       "       [  60, 6364]], dtype=int64)"
      ]
     },
     "execution_count": 279,
     "metadata": {},
     "output_type": "execute_result"
    }
   ],
   "source": [
    "#define new cutoff \n",
    "cutoff = 0.31\n",
    "\n",
    "y_proba = classif.predict_proba(Xtest_tfidf)\n",
    "p0 = y_proba[:,0]\n",
    "p1 = 1 - p0\n",
    "estim = p1 > cutoff\n",
    "\n",
    "index0 = (estim == 0).nonzero()\n",
    "true0 = Ytest[index0]\n",
    "estim0 = estim[index0]\n",
    "\n",
    "FN = true0.sum()\n",
    "\n",
    "index1 = ((1 - estim) == 0).nonzero()\n",
    "true1 = Ytest[index1]\n",
    "estim1 = estim[index1]\n",
    "\n",
    "FP = len(true1) - true1.sum()\n",
    "\n",
    "TP = true1.sum()\n",
    "TN = len(true0) - true0.sum()\n",
    "\n",
    "accuracy = (TP+TN)/(TP+TN+FN+FP)\n",
    "\n",
    "np.array([[TP,FN],[FP,TN]])"
   ]
  },
  {
   "cell_type": "code",
   "execution_count": 285,
   "metadata": {},
   "outputs": [
    {
     "data": {
      "text/plain": [
       "0.9615126726565643"
      ]
     },
     "execution_count": 285,
     "metadata": {},
     "output_type": "execute_result"
    }
   ],
   "source": [
    "accuracy"
   ]
  },
  {
   "cell_type": "code",
   "execution_count": 281,
   "metadata": {},
   "outputs": [],
   "source": [
    "def accuracy_logreg(cutoff, output=1):\n",
    "    y_proba = classif.predict_proba(Xtest_tfidf)\n",
    "    p0 = y_proba[:,0]\n",
    "    p1 = 1 - p0\n",
    "    estim = p1 > cutoff\n",
    "    index0 = (estim == 0).nonzero()\n",
    "    true0 = Ytest[index0]\n",
    "    estim0 = estim[index0]\n",
    "    FN = true0.sum()\n",
    "    index1 = ((1 - estim) == 0).nonzero()\n",
    "    true1 = Ytest[index1]\n",
    "    estim1 = estim[index1]\n",
    "    FP = len(true1) - true1.sum()\n",
    "    TP = true1.sum()\n",
    "    TN = len(true0) - true0.sum()\n",
    "    \n",
    "    if output == 0:\n",
    "        return (np.array([[TP,FN],[FP,TN]]))\n",
    "    else:\n",
    "        return ((TP+TN)/(TP+TN+FN+FP))"
   ]
  },
  {
   "cell_type": "code",
   "execution_count": 284,
   "metadata": {},
   "outputs": [
    {
     "data": {
      "text/plain": [
       "0.9615126726565643"
      ]
     },
     "execution_count": 284,
     "metadata": {},
     "output_type": "execute_result"
    }
   ],
   "source": [
    "accuracy_logreg(0.31)"
   ]
  },
  {
   "cell_type": "code",
   "execution_count": 286,
   "metadata": {},
   "outputs": [],
   "source": [
    "possible_cutoffs = np.linspace(0,0.99,1000)"
   ]
  },
  {
   "cell_type": "code",
   "execution_count": 308,
   "metadata": {},
   "outputs": [],
   "source": [
    "accuracies = map(lambda x : accuracy_logreg(x), possible_cutoffs)"
   ]
  },
  {
   "cell_type": "code",
   "execution_count": 305,
   "metadata": {},
   "outputs": [
    {
     "data": {
      "text/plain": [
       "<matplotlib.collections.PathCollection at 0x1e37d976978>"
      ]
     },
     "execution_count": 305,
     "metadata": {},
     "output_type": "execute_result"
    },
    {
     "data": {
      "image/png": "[encoded data removed]",
      "text/plain": [
       "<matplotlib.figure.Figure at 0x1e3012945c0>"
      ]
     },
     "metadata": {},
     "output_type": "display_data"
    }
   ],
   "source": [
    "plt.scatter(possible_cutoffs, list(accuracies))"
   ]
  },
  {
   "cell_type": "code",
   "execution_count": 309,
   "metadata": {},
   "outputs": [],
   "source": [
    "acc = np.array((list(accuracies)))"
   ]
  },
  {
   "cell_type": "code",
   "execution_count": 313,
   "metadata": {},
   "outputs": [
    {
     "data": {
      "text/plain": [
       "(0.2804504504504505, 0.9628536945152206)"
      ]
     },
     "execution_count": 313,
     "metadata": {},
     "output_type": "execute_result"
    }
   ],
   "source": [
    "(possible_cutoffs[acc.argmax()], acc.max())"
   ]
  },
  {
   "cell_type": "markdown",
   "metadata": {},
   "source": [
    "## Count Vectorizer"
   ]
  },
  {
   "cell_type": "code",
   "execution_count": 80,
   "metadata": {},
   "outputs": [],
   "source": [
    "from sklearn.feature_extraction.text import CountVectorizer"
   ]
  },
  {
   "cell_type": "code",
   "execution_count": 81,
   "metadata": {},
   "outputs": [],
   "source": [
    "cvt = CountVectorizer(analyzer='word',token_pattern=r'\\w{1,}',\n",
    "            ngram_range=(1, 3), stop_words = pt_stopwords)"
   ]
  },
  {
   "cell_type": "code",
   "execution_count": 82,
   "metadata": {},
   "outputs": [
    {
     "data": {
      "text/plain": [
       "CountVectorizer(analyzer='word', binary=False, decode_error='strict',\n",
       "        dtype=<class 'numpy.int64'>, encoding='utf-8', input='content',\n",
       "        lowercase=True, max_df=1.0, max_features=None, min_df=1,\n",
       "        ngram_range=(1, 3), preprocessor=None,\n",
       "        stop_words={'estivéssemos', 'estiverem', 'fora', 'tuas', 'estávamos', 'esteja', 'fui', 'até', 'as', 'serei', 'um', 'nossos', 'nossas', 'tinham', 'pelas', 'fomos', 'tenho', 'fôramos', 'houvéramos', 'mais', 'teríamos', 'sua', 'estiver', 'estavam', 'ou', 'essas', 'este', 'estão', 'tive', 'lhes', 'tivem...u', 'houvera', 'quando', 'esse', 'tua', 'houvemos', 'elas', 'houverem', 'seremos', 'a', 'estiveram'},\n",
       "        strip_accents=None, token_pattern='\\\\w{1,}', tokenizer=None,\n",
       "        vocabulary=None)"
      ]
     },
     "execution_count": 82,
     "metadata": {},
     "output_type": "execute_result"
    }
   ],
   "source": [
    "cvt.fit(Xtrain)\n",
    "cvt.fit(Xtest)"
   ]
  },
  {
   "cell_type": "code",
   "execution_count": 83,
   "metadata": {},
   "outputs": [],
   "source": [
    "Xtrain_cvt = cvt.transform(Xtrain)\n",
    "Xtest_cvt = cvt.transform(Xtest)"
   ]
  },
  {
   "cell_type": "code",
   "execution_count": 84,
   "metadata": {},
   "outputs": [],
   "source": [
    "classif2 = LogisticRegression()\n",
    "classif2.fit(Xtrain_cvt, Ytrain)\n",
    "pred2 = classif2.predict_proba(Xtest_cvt)"
   ]
  },
  {
   "cell_type": "code",
   "execution_count": 85,
   "metadata": {},
   "outputs": [
    {
     "name": "stdout",
     "output_type": "stream",
     "text": [
      "Log loss: 0.0892299355213839\n",
      "Log loss improvement: 0.059053649539688655\n"
     ]
    }
   ],
   "source": [
    "loss2 = multiclass_logloss(Ytest, pred2)\n",
    "print('Log loss: {}'.format(loss2))\n",
    "print('Log loss improvement: {}'.format(loss1 - loss2))"
   ]
  },
  {
   "cell_type": "code",
   "execution_count": 94,
   "metadata": {},
   "outputs": [
    {
     "name": "stdout",
     "output_type": "stream",
     "text": [
      "[[6405   19]\n",
      " [ 197  836]]\n"
     ]
    }
   ],
   "source": [
    "y_pred_cvt = classif2.predict(Xtest_cvt)\n",
    "confmat = confusion_matrix(y_true=Ytest, y_pred=y_pred_cvt)\n",
    "print(confmat)"
   ]
  },
  {
   "cell_type": "code",
   "execution_count": 95,
   "metadata": {},
   "outputs": [
    {
     "data": {
      "image/png": "[encoded data removed]",
      "text/plain": [
       "<matplotlib.figure.Figure at 0x1e37c82ae80>"
      ]
     },
     "metadata": {},
     "output_type": "display_data"
    }
   ],
   "source": [
    "fig, ax = plt.subplots(figsize=(2.5, 2.5))\n",
    "ax.matshow(confmat, cmap=plt.cm.Blues, alpha=0.3)\n",
    "for i in range(confmat.shape[0]):\n",
    "    for j in range(confmat.shape[1]):\n",
    "        ax.text(x=j, y=i, s=confmat[i, j], va='center', ha='center')\n",
    "\n",
    "plt.xlabel('Predicted Class')\n",
    "plt.ylabel('True Class')\n",
    "\n",
    "plt.tight_layout()\n",
    "plt.show()"
   ]
  },
  {
   "cell_type": "code",
   "execution_count": 96,
   "metadata": {},
   "outputs": [
    {
     "data": {
      "text/plain": [
       "0.971033927853024"
      ]
     },
     "execution_count": 96,
     "metadata": {},
     "output_type": "execute_result"
    }
   ],
   "source": [
    "classif2.score(Xtest_cvt, Ytest)"
   ]
  },
  {
   "cell_type": "markdown",
   "metadata": {},
   "source": [
    "## SVM"
   ]
  },
  {
   "cell_type": "code",
   "execution_count": 97,
   "metadata": {},
   "outputs": [],
   "source": [
    "#first reduce dimensionality of tfidf using singular value decomposition\n",
    "from sklearn import decomposition"
   ]
  },
  {
   "cell_type": "code",
   "execution_count": 98,
   "metadata": {},
   "outputs": [],
   "source": [
    "svd = decomposition.TruncatedSVD(n_components = 120)\n",
    "svd.fit(Xtrain_tfidf)\n",
    "Xtrain_svd = svd.transform(Xtrain_tfidf)\n",
    "Xtest_svd = svd.transform(Xtest_tfidf)"
   ]
  },
  {
   "cell_type": "code",
   "execution_count": 99,
   "metadata": {},
   "outputs": [],
   "source": [
    "# Scale the data obtained from SVD. Renaming variable to reuse without scaling.\n",
    "from sklearn import preprocessing"
   ]
  },
  {
   "cell_type": "code",
   "execution_count": 100,
   "metadata": {},
   "outputs": [],
   "source": [
    "scaler = preprocessing.StandardScaler()\n",
    "scaler.fit(Xtrain_svd)\n",
    "Xtrain_svd_scaled = scaler.transform(Xtrain_svd)\n",
    "Xtest_svd_scaled = scaler.transform(Xtest_svd)"
   ]
  },
  {
   "cell_type": "code",
   "execution_count": 101,
   "metadata": {},
   "outputs": [],
   "source": [
    "#Apply SVM\n",
    "from sklearn.svm import SVC"
   ]
  },
  {
   "cell_type": "code",
   "execution_count": 102,
   "metadata": {},
   "outputs": [],
   "source": [
    "classif3 = SVC(probability=True)\n",
    "classif3.fit(Xtrain_svd_scaled, Ytrain)\n",
    "pred3 = classif3.predict_proba(Xtest_svd_scaled)"
   ]
  },
  {
   "cell_type": "code",
   "execution_count": 103,
   "metadata": {},
   "outputs": [
    {
     "name": "stdout",
     "output_type": "stream",
     "text": [
      "Log loss: 0.19739955092319592\n",
      "Log loss improvement: -0.10816961540181201\n"
     ]
    }
   ],
   "source": [
    "loss3 = multiclass_logloss(Ytest, pred3)\n",
    "print('Log loss: {}'.format(loss3))\n",
    "print('Log loss improvement: {}'.format(loss2 - loss3))"
   ]
  }
 ],
 "metadata": {
  "kernelspec": {
   "display_name": "Python 3",
   "language": "python",
   "name": "python3"
  },
  "language_info": {
   "codemirror_mode": {
    "name": "ipython",
    "version": 3
   },
   "file_extension": ".py",
   "mimetype": "text/x-python",
   "name": "python",
   "nbconvert_exporter": "python",
   "pygments_lexer": "ipython3",
   "version": "3.6.4"
  }
 },
 "nbformat": 4,
 "nbformat_minor": 2
}
