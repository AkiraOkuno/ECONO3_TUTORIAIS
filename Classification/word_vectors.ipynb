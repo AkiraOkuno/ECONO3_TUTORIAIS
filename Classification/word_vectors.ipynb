{
 "cells": [
  {
   "cell_type": "markdown",
   "metadata": {},
   "source": [
    "# WORD VECTORS FEATURES"
   ]
  },
  {
   "cell_type": "code",
   "execution_count": 14,
   "metadata": {},
   "outputs": [],
   "source": [
    "import numpy as np\n",
    "import pandas as pd\n",
    "import os\n",
    "import re\n",
    "import tqdm"
   ]
  },
  {
   "cell_type": "code",
   "execution_count": 11,
   "metadata": {},
   "outputs": [],
   "source": [
    "os.chdir(r'C:\\Users\\C336682\\Documents\\fake\\IC_FakeNews-master\\\\')"
   ]
  },
  {
   "cell_type": "code",
   "execution_count": 5,
   "metadata": {},
   "outputs": [],
   "source": [
    "data = pd.read_csv('news_concat_01.csv').drop(columns=['Unnamed: 0'])"
   ]
  },
  {
   "cell_type": "code",
   "execution_count": 8,
   "metadata": {},
   "outputs": [
    {
     "data": {
      "text/html": [
       "<div>\n",
       "<style scoped>\n",
       "    .dataframe tbody tr th:only-of-type {\n",
       "        vertical-align: middle;\n",
       "    }\n",
       "\n",
       "    .dataframe tbody tr th {\n",
       "        vertical-align: top;\n",
       "    }\n",
       "\n",
       "    .dataframe thead th {\n",
       "        text-align: right;\n",
       "    }\n",
       "</style>\n",
       "<table border=\"1\" class=\"dataframe\">\n",
       "  <thead>\n",
       "    <tr style=\"text-align: right;\">\n",
       "      <th></th>\n",
       "      <th>Label</th>\n",
       "      <th>Title</th>\n",
       "    </tr>\n",
       "  </thead>\n",
       "  <tbody>\n",
       "    <tr>\n",
       "      <th>0</th>\n",
       "      <td>1</td>\n",
       "      <td>Indústria brasileira reage com melhora do comé...</td>\n",
       "    </tr>\n",
       "    <tr>\n",
       "      <th>1</th>\n",
       "      <td>1</td>\n",
       "      <td>A bancarrota de Detroit deixa no ar as pensões...</td>\n",
       "    </tr>\n",
       "    <tr>\n",
       "      <th>2</th>\n",
       "      <td>1</td>\n",
       "      <td>PIB no Brasil cai 0,5% na leitura trimestral, ...</td>\n",
       "    </tr>\n",
       "    <tr>\n",
       "      <th>3</th>\n",
       "      <td>1</td>\n",
       "      <td>O órgão supervisor europeu questiona o trabalh...</td>\n",
       "    </tr>\n",
       "    <tr>\n",
       "      <th>4</th>\n",
       "      <td>1</td>\n",
       "      <td>Vega Sicilia, a ilusão da escassez</td>\n",
       "    </tr>\n",
       "  </tbody>\n",
       "</table>\n",
       "</div>"
      ],
      "text/plain": [
       "   Label                                              Title\n",
       "0      1  Indústria brasileira reage com melhora do comé...\n",
       "1      1  A bancarrota de Detroit deixa no ar as pensões...\n",
       "2      1  PIB no Brasil cai 0,5% na leitura trimestral, ...\n",
       "3      1  O órgão supervisor europeu questiona o trabalh...\n",
       "4      1                Vega Sicilia, a ilusão da escassez "
      ]
     },
     "execution_count": 8,
     "metadata": {},
     "output_type": "execute_result"
    }
   ],
   "source": [
    "data.head()"
   ]
  },
  {
   "cell_type": "code",
   "execution_count": 97,
   "metadata": {},
   "outputs": [
    {
     "name": "stdout",
     "output_type": "stream",
     "text": [
      "[nltk_data] Downloading package punkt to\n",
      "[nltk_data]     C:\\Users\\C336682\\AppData\\Roaming\\nltk_data...\n",
      "[nltk_data]   Unzipping tokenizers\\punkt.zip.\n"
     ]
    },
    {
     "data": {
      "text/plain": [
       "True"
      ]
     },
     "execution_count": 97,
     "metadata": {},
     "output_type": "execute_result"
    }
   ],
   "source": [
    "from gensim.models import KeyedVectors\n",
    "from nltk import word_tokenize\n",
    "import nltk\n",
    "nltk.download('punkt')"
   ]
  },
  {
   "cell_type": "code",
   "execution_count": 28,
   "metadata": {},
   "outputs": [],
   "source": [
    "model = KeyedVectors.load_word2vec_format('embeddings\\w2v_cbow_s300\\cbow_s300.txt', unicode_errors=\"ignore\")"
   ]
  },
  {
   "cell_type": "code",
   "execution_count": 89,
   "metadata": {},
   "outputs": [
    {
     "data": {
      "text/plain": [
       "<gensim.models.keyedvectors.Vocab at 0xc388940>"
      ]
     },
     "execution_count": 89,
     "metadata": {},
     "output_type": "execute_result"
    }
   ],
   "source": [
    "model.vocab['MAGIA']"
   ]
  },
  {
   "cell_type": "code",
   "execution_count": 98,
   "metadata": {},
   "outputs": [],
   "source": [
    "def sent2vec(s):\n",
    "    words = str(s).upper()\n",
    "    words = word_tokenize(words)\n",
    "    #words = [w for w in words if not w in stop_words]\n",
    "    words = [w for w in words if w.isalpha()]\n",
    "    M = []\n",
    "    for w in words:\n",
    "        try:\n",
    "            M.append(model[w])\n",
    "        except:\n",
    "            continue\n",
    "    M = np.array(M)\n",
    "    v = M.sum(axis=0)\n",
    "    if type(v) != np.ndarray:\n",
    "        return np.zeros(300)\n",
    "    return v / np.sqrt((v ** 2).sum())"
   ]
  },
  {
   "cell_type": "code",
   "execution_count": 100,
   "metadata": {},
   "outputs": [
    {
     "data": {
      "text/plain": [
       "array([ 8.26025903e-02,  7.24097574e-03, -7.38379126e-03, -5.79546094e-02,\n",
       "       -9.62195545e-02, -1.51402904e-02,  8.44508596e-03, -8.75014663e-02,\n",
       "        1.46775153e-02,  8.53199959e-02, -2.42008027e-02, -2.63336226e-02,\n",
       "       -7.82743841e-03, -2.42232718e-03, -2.04831883e-02,  5.11138141e-02,\n",
       "       -1.17282696e-01, -8.91963914e-02, -4.45625409e-02, -5.22044599e-02,\n",
       "       -2.02399176e-02,  2.33970731e-02, -6.84385449e-02, -2.85574216e-02,\n",
       "        4.31255586e-02, -7.94489607e-02, -4.85189706e-02, -8.65993127e-02,\n",
       "       -1.24169901e-01,  4.16343585e-02, -7.01472163e-02,  1.28226988e-02,\n",
       "        4.99262400e-02,  8.42963979e-02, -1.11995317e-01, -2.83923093e-03,\n",
       "        3.37016326e-03, -9.19047073e-02, -6.21290617e-02, -5.73009392e-03,\n",
       "       -8.47000163e-04,  8.76494721e-02, -8.53980053e-03, -3.16273049e-02,\n",
       "       -1.90150104e-02, -7.78398244e-03,  1.28775179e-01,  7.17182755e-02,\n",
       "        3.86259407e-02,  1.09461593e-02,  4.65973094e-02, -3.09485588e-02,\n",
       "        1.46812266e-02,  4.16046418e-02,  7.00695962e-02, -1.91223472e-02,\n",
       "        9.22800079e-02, -1.03422642e-01, -3.75964046e-02, -1.20796777e-01,\n",
       "       -1.99736133e-02, -5.98435961e-02,  7.77610913e-02, -1.10984348e-01,\n",
       "       -3.01620997e-02,  5.15355505e-02,  5.86449343e-04,  6.80428073e-02,\n",
       "       -4.96961512e-02,  9.09966081e-02,  5.00957854e-02, -3.73945385e-02,\n",
       "        3.47231776e-02, -7.47731104e-02,  5.28477365e-03,  1.81797128e-02,\n",
       "       -1.03562109e-01, -4.55640443e-02, -4.31686454e-02,  3.25244404e-02,\n",
       "       -5.82119972e-02,  7.77293295e-02, -3.39140706e-02,  1.96774192e-02,\n",
       "        2.68361275e-03, -4.57530916e-02,  4.10425151e-03, -5.50648645e-02,\n",
       "       -2.79780291e-02,  4.11777087e-02,  1.73485128e-03,  6.31398484e-02,\n",
       "       -4.80342796e-03,  7.10827932e-02,  1.55841395e-01, -7.15091685e-03,\n",
       "       -4.98924404e-02,  2.47345176e-02, -1.76368989e-02,  1.37452753e-02,\n",
       "        7.72607997e-02, -6.05476014e-02, -2.42944006e-02,  5.25385402e-02,\n",
       "       -3.89928967e-02, -1.64422649e-03, -3.71891470e-03,  1.75364316e-01,\n",
       "        5.21008335e-02, -2.67143101e-02, -6.28945231e-02,  6.90758824e-02,\n",
       "       -1.86974537e-02, -1.04308277e-02,  8.95540565e-02, -1.47653520e-02,\n",
       "       -2.93275472e-02,  1.74558368e-02, -1.91214178e-02,  3.89941433e-03,\n",
       "       -4.92264982e-03,  3.52403596e-02,  4.43983786e-02,  6.38933899e-03,\n",
       "       -3.30499820e-02, -2.79744994e-02,  6.44620657e-02,  6.14187419e-02,\n",
       "        2.08898801e-02,  3.38966097e-03, -1.42502142e-02,  5.13231046e-02,\n",
       "       -5.60459420e-02, -4.43650206e-04, -6.01743311e-02, -1.61637031e-02,\n",
       "        3.22091132e-02,  7.77180046e-02,  6.53833449e-02, -5.19773401e-02,\n",
       "        2.07431469e-04,  3.81083996e-03,  4.78170207e-03, -6.93212003e-02,\n",
       "       -3.94939259e-02,  3.08272913e-02, -1.94120463e-02,  2.52500325e-02,\n",
       "       -7.09396154e-02, -1.17986143e-01, -1.22255102e-01, -9.65718459e-03,\n",
       "        4.09721322e-02,  4.37313318e-02,  1.11353889e-01,  2.79737581e-02,\n",
       "        7.48407096e-02, -5.09635843e-02,  4.11166102e-02, -4.96647656e-02,\n",
       "       -7.12987632e-02,  5.41220456e-02, -9.99921337e-02, -1.81698669e-02,\n",
       "       -3.09628583e-02, -1.14689887e-01, -7.11966306e-02,  3.81822996e-02,\n",
       "        5.84173910e-02, -1.50377797e-02, -2.19335388e-02,  2.32377369e-02,\n",
       "       -2.30273399e-05,  1.73275117e-02,  5.29563800e-02,  7.13123241e-03,\n",
       "        4.48210388e-02,  2.16167271e-02,  1.05477467e-01, -7.72325769e-02,\n",
       "        1.98458526e-02,  1.00623900e-02, -7.09219724e-02, -3.45384069e-02,\n",
       "       -2.21424531e-02, -6.66925535e-02, -8.15398097e-02, -4.16074283e-02,\n",
       "        6.31849766e-02,  5.52017279e-02,  1.10135647e-02, -4.55012778e-03,\n",
       "        5.02450950e-02, -4.69666645e-02, -3.14534865e-02,  4.48197359e-03,\n",
       "        3.28199007e-02,  8.37849751e-02, -7.61543810e-02,  1.32147195e-02,\n",
       "       -2.26288140e-02,  2.33740490e-02, -3.99515033e-02,  1.12222426e-01,\n",
       "       -1.10753858e-03,  9.27849412e-02,  2.24744957e-02,  6.79510739e-03,\n",
       "        4.93839830e-02,  7.82604516e-02,  5.49809262e-02,  1.79667100e-02,\n",
       "       -1.71392113e-02,  7.63176084e-02,  8.77716690e-02, -1.65722575e-02,\n",
       "        8.12103692e-03,  8.37045535e-02, -1.16777942e-01, -8.02762732e-02,\n",
       "       -1.12614827e-02, -4.00597639e-02,  3.02443653e-02,  8.72444510e-02,\n",
       "       -5.59545681e-03, -1.99788157e-02, -1.62511691e-02,  4.57649818e-03,\n",
       "       -1.13320313e-01,  1.95100941e-02, -6.93427324e-02, -1.97069091e-03,\n",
       "       -8.00155401e-02,  7.95427430e-03, -1.10122673e-02, -4.72064093e-02,\n",
       "        6.44096881e-02, -1.02857919e-02, -7.44375437e-02, -4.20130044e-02,\n",
       "       -2.36087777e-02,  5.41926138e-02,  1.00897983e-01,  3.47853936e-02,\n",
       "        4.21695523e-02, -7.51959532e-02,  2.19837919e-01, -1.79362521e-02,\n",
       "        1.10071965e-01,  7.63974637e-02, -3.57532836e-02, -8.11442509e-02,\n",
       "        4.30923253e-02, -2.61334274e-02, -1.16798794e-02, -4.69980575e-03,\n",
       "       -4.85709645e-02, -3.90398800e-02, -2.09268369e-02,  3.07821650e-02,\n",
       "        1.46869859e-02, -3.47798243e-02,  1.40471026e-01, -2.99702678e-02,\n",
       "       -6.20960034e-02, -1.29192658e-02,  3.19448635e-02, -7.41439387e-02,\n",
       "        1.08323194e-01,  3.13611850e-02, -4.25463505e-02,  3.99015509e-02,\n",
       "       -9.08224378e-03, -9.05677443e-04,  6.58778697e-02,  7.64858574e-02,\n",
       "        1.70977972e-02,  8.34492147e-02, -4.93572392e-02,  7.94058740e-02,\n",
       "        1.14063295e-02,  4.18822691e-02, -3.71048450e-02, -1.94644146e-02,\n",
       "       -9.13145021e-03,  7.06527010e-02, -3.84987369e-02,  2.88406257e-02,\n",
       "       -5.32119088e-02, -7.61549398e-02, -5.84656671e-02,  7.37428218e-02,\n",
       "        5.87204546e-02, -4.38992046e-02,  1.30986562e-02,  2.47157644e-02,\n",
       "       -1.01957284e-02, -3.60647142e-02,  3.20980661e-02, -1.32003471e-01],\n",
       "      dtype=float32)"
      ]
     },
     "execution_count": 100,
     "metadata": {},
     "output_type": "execute_result"
    }
   ],
   "source": [
    "sent2vec('A magia está no ar')"
   ]
  },
  {
   "cell_type": "code",
   "execution_count": 109,
   "metadata": {},
   "outputs": [],
   "source": [
    "X_w2v_cbow_list = [sent2vec(x) for x in data['Title']]"
   ]
  },
  {
   "cell_type": "code",
   "execution_count": 111,
   "metadata": {},
   "outputs": [],
   "source": [
    "X_w2v_cbow = pd.DataFrame()\n",
    "\n",
    "for j in range(len(X_w2v_cbow_list)):\n",
    "    X_w2v_cbow[j] = X_w2v_cbow_list[j]"
   ]
  },
  {
   "cell_type": "code",
   "execution_count": 112,
   "metadata": {},
   "outputs": [],
   "source": [
    "X_w2v_cbow = X_w2v_cbow.T"
   ]
  },
  {
   "cell_type": "code",
   "execution_count": 114,
   "metadata": {},
   "outputs": [],
   "source": [
    "columns = []\n",
    "for j in range(1,301):\n",
    "    columns.append('feature'+str(j))"
   ]
  },
  {
   "cell_type": "code",
   "execution_count": 115,
   "metadata": {},
   "outputs": [],
   "source": [
    "X_w2v_cbow.columns = columns"
   ]
  },
  {
   "cell_type": "code",
   "execution_count": 116,
   "metadata": {},
   "outputs": [
    {
     "data": {
      "text/html": [
       "<div>\n",
       "<style scoped>\n",
       "    .dataframe tbody tr th:only-of-type {\n",
       "        vertical-align: middle;\n",
       "    }\n",
       "\n",
       "    .dataframe tbody tr th {\n",
       "        vertical-align: top;\n",
       "    }\n",
       "\n",
       "    .dataframe thead th {\n",
       "        text-align: right;\n",
       "    }\n",
       "</style>\n",
       "<table border=\"1\" class=\"dataframe\">\n",
       "  <thead>\n",
       "    <tr style=\"text-align: right;\">\n",
       "      <th></th>\n",
       "      <th>feature1</th>\n",
       "      <th>feature2</th>\n",
       "      <th>feature3</th>\n",
       "      <th>feature4</th>\n",
       "      <th>feature5</th>\n",
       "      <th>feature6</th>\n",
       "      <th>feature7</th>\n",
       "      <th>feature8</th>\n",
       "      <th>feature9</th>\n",
       "      <th>feature10</th>\n",
       "      <th>...</th>\n",
       "      <th>feature291</th>\n",
       "      <th>feature292</th>\n",
       "      <th>feature293</th>\n",
       "      <th>feature294</th>\n",
       "      <th>feature295</th>\n",
       "      <th>feature296</th>\n",
       "      <th>feature297</th>\n",
       "      <th>feature298</th>\n",
       "      <th>feature299</th>\n",
       "      <th>feature300</th>\n",
       "    </tr>\n",
       "  </thead>\n",
       "  <tbody>\n",
       "    <tr>\n",
       "      <th>0</th>\n",
       "      <td>0.042570</td>\n",
       "      <td>0.012104</td>\n",
       "      <td>0.074938</td>\n",
       "      <td>-0.013384</td>\n",
       "      <td>0.092475</td>\n",
       "      <td>-0.031281</td>\n",
       "      <td>-0.070357</td>\n",
       "      <td>-0.024914</td>\n",
       "      <td>-0.004816</td>\n",
       "      <td>0.013637</td>\n",
       "      <td>...</td>\n",
       "      <td>0.005758</td>\n",
       "      <td>-0.077279</td>\n",
       "      <td>-0.017853</td>\n",
       "      <td>-0.006452</td>\n",
       "      <td>-0.017334</td>\n",
       "      <td>-0.106524</td>\n",
       "      <td>-0.065605</td>\n",
       "      <td>0.046967</td>\n",
       "      <td>-0.037649</td>\n",
       "      <td>-0.061136</td>\n",
       "    </tr>\n",
       "    <tr>\n",
       "      <th>1</th>\n",
       "      <td>-0.018268</td>\n",
       "      <td>0.116134</td>\n",
       "      <td>0.088298</td>\n",
       "      <td>-0.064570</td>\n",
       "      <td>0.011260</td>\n",
       "      <td>0.039332</td>\n",
       "      <td>0.083535</td>\n",
       "      <td>0.042699</td>\n",
       "      <td>-0.000626</td>\n",
       "      <td>0.071059</td>\n",
       "      <td>...</td>\n",
       "      <td>-0.057831</td>\n",
       "      <td>-0.023792</td>\n",
       "      <td>0.017571</td>\n",
       "      <td>-0.036500</td>\n",
       "      <td>-0.066888</td>\n",
       "      <td>-0.001920</td>\n",
       "      <td>0.123694</td>\n",
       "      <td>-0.045279</td>\n",
       "      <td>0.013808</td>\n",
       "      <td>-0.082070</td>\n",
       "    </tr>\n",
       "    <tr>\n",
       "      <th>2</th>\n",
       "      <td>0.095050</td>\n",
       "      <td>0.034736</td>\n",
       "      <td>-0.040186</td>\n",
       "      <td>-0.048977</td>\n",
       "      <td>0.070348</td>\n",
       "      <td>0.006896</td>\n",
       "      <td>0.065039</td>\n",
       "      <td>0.089740</td>\n",
       "      <td>-0.068805</td>\n",
       "      <td>-0.027196</td>\n",
       "      <td>...</td>\n",
       "      <td>0.003375</td>\n",
       "      <td>0.035696</td>\n",
       "      <td>0.043836</td>\n",
       "      <td>-0.121432</td>\n",
       "      <td>-0.002649</td>\n",
       "      <td>0.018771</td>\n",
       "      <td>0.087685</td>\n",
       "      <td>0.047486</td>\n",
       "      <td>-0.124016</td>\n",
       "      <td>-0.026470</td>\n",
       "    </tr>\n",
       "    <tr>\n",
       "      <th>3</th>\n",
       "      <td>0.019449</td>\n",
       "      <td>0.099607</td>\n",
       "      <td>-0.023152</td>\n",
       "      <td>0.035851</td>\n",
       "      <td>-0.018510</td>\n",
       "      <td>0.036798</td>\n",
       "      <td>0.032469</td>\n",
       "      <td>0.067076</td>\n",
       "      <td>0.024612</td>\n",
       "      <td>0.009722</td>\n",
       "      <td>...</td>\n",
       "      <td>0.063799</td>\n",
       "      <td>-0.092861</td>\n",
       "      <td>0.096599</td>\n",
       "      <td>-0.058167</td>\n",
       "      <td>-0.003396</td>\n",
       "      <td>0.069895</td>\n",
       "      <td>0.141475</td>\n",
       "      <td>-0.025738</td>\n",
       "      <td>0.007802</td>\n",
       "      <td>-0.052845</td>\n",
       "    </tr>\n",
       "    <tr>\n",
       "      <th>4</th>\n",
       "      <td>0.064135</td>\n",
       "      <td>-0.029280</td>\n",
       "      <td>-0.068144</td>\n",
       "      <td>-0.130111</td>\n",
       "      <td>0.004120</td>\n",
       "      <td>-0.007988</td>\n",
       "      <td>0.058953</td>\n",
       "      <td>0.000371</td>\n",
       "      <td>0.019016</td>\n",
       "      <td>0.033978</td>\n",
       "      <td>...</td>\n",
       "      <td>-0.002356</td>\n",
       "      <td>0.042550</td>\n",
       "      <td>0.035945</td>\n",
       "      <td>0.034265</td>\n",
       "      <td>-0.035605</td>\n",
       "      <td>0.000997</td>\n",
       "      <td>-0.022376</td>\n",
       "      <td>-0.005851</td>\n",
       "      <td>-0.010347</td>\n",
       "      <td>0.033598</td>\n",
       "    </tr>\n",
       "  </tbody>\n",
       "</table>\n",
       "<p>5 rows × 300 columns</p>\n",
       "</div>"
      ],
      "text/plain": [
       "   feature1  feature2  feature3  feature4  feature5  feature6  feature7  \\\n",
       "0  0.042570  0.012104  0.074938 -0.013384  0.092475 -0.031281 -0.070357   \n",
       "1 -0.018268  0.116134  0.088298 -0.064570  0.011260  0.039332  0.083535   \n",
       "2  0.095050  0.034736 -0.040186 -0.048977  0.070348  0.006896  0.065039   \n",
       "3  0.019449  0.099607 -0.023152  0.035851 -0.018510  0.036798  0.032469   \n",
       "4  0.064135 -0.029280 -0.068144 -0.130111  0.004120 -0.007988  0.058953   \n",
       "\n",
       "   feature8  feature9  feature10     ...      feature291  feature292  \\\n",
       "0 -0.024914 -0.004816   0.013637     ...        0.005758   -0.077279   \n",
       "1  0.042699 -0.000626   0.071059     ...       -0.057831   -0.023792   \n",
       "2  0.089740 -0.068805  -0.027196     ...        0.003375    0.035696   \n",
       "3  0.067076  0.024612   0.009722     ...        0.063799   -0.092861   \n",
       "4  0.000371  0.019016   0.033978     ...       -0.002356    0.042550   \n",
       "\n",
       "   feature293  feature294  feature295  feature296  feature297  feature298  \\\n",
       "0   -0.017853   -0.006452   -0.017334   -0.106524   -0.065605    0.046967   \n",
       "1    0.017571   -0.036500   -0.066888   -0.001920    0.123694   -0.045279   \n",
       "2    0.043836   -0.121432   -0.002649    0.018771    0.087685    0.047486   \n",
       "3    0.096599   -0.058167   -0.003396    0.069895    0.141475   -0.025738   \n",
       "4    0.035945    0.034265   -0.035605    0.000997   -0.022376   -0.005851   \n",
       "\n",
       "   feature299  feature300  \n",
       "0   -0.037649   -0.061136  \n",
       "1    0.013808   -0.082070  \n",
       "2   -0.124016   -0.026470  \n",
       "3    0.007802   -0.052845  \n",
       "4   -0.010347    0.033598  \n",
       "\n",
       "[5 rows x 300 columns]"
      ]
     },
     "execution_count": 116,
     "metadata": {},
     "output_type": "execute_result"
    }
   ],
   "source": [
    "X_w2v_cbow.head()"
   ]
  },
  {
   "cell_type": "code",
   "execution_count": 121,
   "metadata": {},
   "outputs": [],
   "source": [
    "import xgboost as xgb\n",
    "from sklearn import preprocessing\n",
    "from sklearn.model_selection import train_test_split"
   ]
  },
  {
   "cell_type": "code",
   "execution_count": 122,
   "metadata": {},
   "outputs": [],
   "source": [
    "label_encoder = preprocessing.LabelEncoder()\n",
    "y = label_encoder.fit_transform(data.Label.values)\n",
    "X = X_w2v_cbow.values\n",
    "\n",
    "Xtrain, Xtest, Ytrain, Ytest = train_test_split(X, y,\n",
    "                                            random_state = 42,\n",
    "                                            test_size = 0.2,\n",
    "                                            stratify = y) "
   ]
  },
  {
   "cell_type": "code",
   "execution_count": 126,
   "metadata": {},
   "outputs": [
    {
     "data": {
      "text/plain": [
       "XGBClassifier(base_score=0.5, booster='gbtree', colsample_bylevel=1,\n",
       "       colsample_bytree=1, gamma=0, learning_rate=0.1, max_delta_step=0,\n",
       "       max_depth=3, min_child_weight=1, missing=None, n_estimators=100,\n",
       "       n_jobs=1, nthread=10, objective='binary:logistic', random_state=0,\n",
       "       reg_alpha=0, reg_lambda=1, scale_pos_weight=1, seed=None,\n",
       "       silent=False, subsample=1)"
      ]
     },
     "execution_count": 126,
     "metadata": {},
     "output_type": "execute_result"
    }
   ],
   "source": [
    "clf = xgb.XGBClassifier(nthread=10, silent=False)\n",
    "clf.fit(Xtrain, Ytrain)"
   ]
  },
  {
   "cell_type": "code",
   "execution_count": 127,
   "metadata": {},
   "outputs": [
    {
     "name": "stderr",
     "output_type": "stream",
     "text": [
      "C:\\Users\\C336682\\AppData\\Local\\Continuum\\anaconda3\\lib\\site-packages\\sklearn\\preprocessing\\label.py:151: DeprecationWarning: The truth value of an empty array is ambiguous. Returning False, but in future this will result in an error. Use `array.size > 0` to check that an array is not empty.\n",
      "  if diff:\n"
     ]
    },
    {
     "data": {
      "text/plain": [
       "0.91495093323071"
      ]
     },
     "execution_count": 127,
     "metadata": {},
     "output_type": "execute_result"
    }
   ],
   "source": [
    "clf.score(Xtest, Ytest)"
   ]
  },
  {
   "cell_type": "code",
   "execution_count": 128,
   "metadata": {},
   "outputs": [],
   "source": [
    "news = [\"Em entrevista, Moro fala em reação, cita risco de morte e dá duríssimo recado aos bandidos so Brasil\",\n",
    "        \"Bolsonaro ganha em disparada na contagem de votos do IBGE\",\n",
    "        \"Lula condenado à 10 anos de cadeia pelo caso do Triplex\",\n",
    "        \"Lula ordena a prisão de Sérgio Moro\",\n",
    "        \"Peixe alienígena encontrado no Rio de Janeiro\",\n",
    "        \"Lula preso amanhã\",\n",
    "        \"Terremoto no Brasil destroi cidades no Alagoas\",\n",
    "        \"Dilma reassumiu a presidência após prisão de Michel Temer\",\n",
    "        \"Michel Temer assume presidência do Brasil\",\n",
    "        \"Toffoli propõe estender restrição ao foro para todas as autoridades\",\n",
    "        \"Intenção de votos em Bolsonaro dispara no mês de Outubro\"]"
   ]
  },
  {
   "cell_type": "code",
   "execution_count": 182,
   "metadata": {},
   "outputs": [],
   "source": [
    "def classify(noticia):\n",
    "    \n",
    "    test=sent2vec(noticia)\n",
    "    vector = np.zeros((1,300))\n",
    "    \n",
    "    j=0\n",
    "    for n in test:\n",
    "        vector[0,j] = n\n",
    "        j+=1\n",
    "    \n",
    "\n",
    "    prob = round((clf.predict_proba(vector)[0][0]),4)*100\n",
    "    print(\"A notícia tem \" + str(prob)[:5] + \"% de probalidade de ser falsa.\")\n"
   ]
  },
  {
   "cell_type": "code",
   "execution_count": 183,
   "metadata": {},
   "outputs": [
    {
     "name": "stdout",
     "output_type": "stream",
     "text": [
      "Em entrevista, Moro fala em reação, cita risco de morte e dá duríssimo recado aos bandidos so Brasil\n",
      "A notícia tem 96.18% de probalidade de ser falsa.\n",
      "\n",
      "\n",
      "Bolsonaro ganha em disparada na contagem de votos do IBGE\n",
      "A notícia tem 60.22% de probalidade de ser falsa.\n",
      "\n",
      "\n",
      "Lula condenado à 10 anos de cadeia pelo caso do Triplex\n",
      "A notícia tem 64.09% de probalidade de ser falsa.\n",
      "\n",
      "\n",
      "Lula ordena a prisão de Sérgio Moro\n",
      "A notícia tem 95.78% de probalidade de ser falsa.\n",
      "\n",
      "\n",
      "Peixe alienígena encontrado no Rio de Janeiro\n",
      "A notícia tem 28.04% de probalidade de ser falsa.\n",
      "\n",
      "\n",
      "Lula preso amanhã\n",
      "A notícia tem 50.16% de probalidade de ser falsa.\n",
      "\n",
      "\n",
      "Terremoto no Brasil destroi cidades no Alagoas\n",
      "A notícia tem 20.56% de probalidade de ser falsa.\n",
      "\n",
      "\n",
      "Dilma reassumiu a presidência após prisão de Michel Temer\n",
      "A notícia tem 52.43% de probalidade de ser falsa.\n",
      "\n",
      "\n",
      "Michel Temer assume presidência do Brasil\n",
      "A notícia tem 35.80% de probalidade de ser falsa.\n",
      "\n",
      "\n",
      "Toffoli propõe estender restrição ao foro para todas as autoridades\n",
      "A notícia tem 76.23% de probalidade de ser falsa.\n",
      "\n",
      "\n",
      "Intenção de votos em Bolsonaro dispara no mês de Outubro\n",
      "A notícia tem 77.96% de probalidade de ser falsa.\n",
      "\n",
      "\n"
     ]
    }
   ],
   "source": [
    "for n in news:\n",
    "    print(n)\n",
    "    classify(n)\n",
    "    print('\\n')"
   ]
  }
 ],
 "metadata": {
  "kernelspec": {
   "display_name": "Python 3",
   "language": "python",
   "name": "python3"
  },
  "language_info": {
   "codemirror_mode": {
    "name": "ipython",
    "version": 3
   },
   "file_extension": ".py",
   "mimetype": "text/x-python",
   "name": "python",
   "nbconvert_exporter": "python",
   "pygments_lexer": "ipython3",
   "version": "3.6.4"
  }
 },
 "nbformat": 4,
 "nbformat_minor": 2
}
